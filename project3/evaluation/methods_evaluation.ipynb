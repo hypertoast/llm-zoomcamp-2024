{
 "cells": [
  {
   "cell_type": "code",
   "execution_count": 1,
   "id": "18bdb4ad-18fd-468a-9f41-a0e0202a3b2d",
   "metadata": {},
   "outputs": [
    {
     "name": "stdout",
     "output_type": "stream",
     "text": [
      "/home/jovyan\n",
      "['/home/jovyan/evaluation', '/opt/conda/lib/python311.zip', '/opt/conda/lib/python3.11', '/opt/conda/lib/python3.11/lib-dynload', '', '/opt/conda/lib/python3.11/site-packages']\n",
      "['/home/jovyan', '/home/jovyan/evaluation', '/opt/conda/lib/python311.zip', '/opt/conda/lib/python3.11', '/opt/conda/lib/python3.11/lib-dynload', '', '/opt/conda/lib/python3.11/site-packages']\n"
     ]
    }
   ],
   "source": [
    "import os\n",
    "import sys\n",
    "\n",
    "# Get the current notebook's directory\n",
    "current_dir = os.getcwd()\n",
    "\n",
    "# Go up one level to project root\n",
    "project_root = os.path.abspath(os.path.join(current_dir, '..'))\n",
    "print(project_root)\n",
    "print(sys.path)\n",
    "# Add project root to path\n",
    "sys.path.insert(0, project_root)\n",
    "\n",
    "print(sys.path)"
   ]
  },
  {
   "cell_type": "code",
   "execution_count": 2,
   "id": "b1153b19-3b2d-4ddb-bf96-4fbcdc154f4b",
   "metadata": {},
   "outputs": [
    {
     "name": "stdout",
     "output_type": "stream",
     "text": [
      "Requirement already satisfied: elasticsearch in /opt/conda/lib/python3.11/site-packages (8.15.1)\n",
      "Requirement already satisfied: sentence_transformers in /opt/conda/lib/python3.11/site-packages (3.2.1)\n",
      "Requirement already satisfied: nltk in /opt/conda/lib/python3.11/site-packages (3.9.1)\n",
      "Requirement already satisfied: tqdm in /opt/conda/lib/python3.11/site-packages (4.66.1)\n",
      "Requirement already satisfied: elastic-transport<9,>=8.13 in /opt/conda/lib/python3.11/site-packages (from elasticsearch) (8.15.1)\n",
      "Requirement already satisfied: transformers<5.0.0,>=4.41.0 in /opt/conda/lib/python3.11/site-packages (from sentence_transformers) (4.46.0)\n",
      "Requirement already satisfied: torch>=1.11.0 in /opt/conda/lib/python3.11/site-packages (from sentence_transformers) (2.5.0)\n",
      "Requirement already satisfied: scikit-learn in /opt/conda/lib/python3.11/site-packages (from sentence_transformers) (1.3.1)\n",
      "Requirement already satisfied: scipy in /opt/conda/lib/python3.11/site-packages (from sentence_transformers) (1.11.3)\n",
      "Requirement already satisfied: huggingface-hub>=0.20.0 in /opt/conda/lib/python3.11/site-packages (from sentence_transformers) (0.26.1)\n",
      "Requirement already satisfied: Pillow in /opt/conda/lib/python3.11/site-packages (from sentence_transformers) (10.1.0)\n",
      "Requirement already satisfied: click in /opt/conda/lib/python3.11/site-packages (from nltk) (8.1.7)\n",
      "Requirement already satisfied: joblib in /opt/conda/lib/python3.11/site-packages (from nltk) (1.3.2)\n",
      "Requirement already satisfied: regex>=2021.8.3 in /opt/conda/lib/python3.11/site-packages (from nltk) (2024.9.11)\n",
      "Requirement already satisfied: urllib3<3,>=1.26.2 in /opt/conda/lib/python3.11/site-packages (from elastic-transport<9,>=8.13->elasticsearch) (2.0.7)\n",
      "Requirement already satisfied: certifi in /opt/conda/lib/python3.11/site-packages (from elastic-transport<9,>=8.13->elasticsearch) (2023.7.22)\n",
      "Requirement already satisfied: filelock in /opt/conda/lib/python3.11/site-packages (from huggingface-hub>=0.20.0->sentence_transformers) (3.16.1)\n",
      "Requirement already satisfied: fsspec>=2023.5.0 in /opt/conda/lib/python3.11/site-packages (from huggingface-hub>=0.20.0->sentence_transformers) (2023.9.2)\n",
      "Requirement already satisfied: packaging>=20.9 in /opt/conda/lib/python3.11/site-packages (from huggingface-hub>=0.20.0->sentence_transformers) (23.2)\n",
      "Requirement already satisfied: pyyaml>=5.1 in /opt/conda/lib/python3.11/site-packages (from huggingface-hub>=0.20.0->sentence_transformers) (6.0.1)\n",
      "Requirement already satisfied: requests in /opt/conda/lib/python3.11/site-packages (from huggingface-hub>=0.20.0->sentence_transformers) (2.31.0)\n",
      "Requirement already satisfied: typing-extensions>=3.7.4.3 in /opt/conda/lib/python3.11/site-packages (from huggingface-hub>=0.20.0->sentence_transformers) (4.8.0)\n",
      "Requirement already satisfied: networkx in /opt/conda/lib/python3.11/site-packages (from torch>=1.11.0->sentence_transformers) (3.2)\n",
      "Requirement already satisfied: jinja2 in /opt/conda/lib/python3.11/site-packages (from torch>=1.11.0->sentence_transformers) (3.1.2)\n",
      "Requirement already satisfied: nvidia-cuda-nvrtc-cu12==12.4.127 in /opt/conda/lib/python3.11/site-packages (from torch>=1.11.0->sentence_transformers) (12.4.127)\n",
      "Requirement already satisfied: nvidia-cuda-runtime-cu12==12.4.127 in /opt/conda/lib/python3.11/site-packages (from torch>=1.11.0->sentence_transformers) (12.4.127)\n",
      "Requirement already satisfied: nvidia-cuda-cupti-cu12==12.4.127 in /opt/conda/lib/python3.11/site-packages (from torch>=1.11.0->sentence_transformers) (12.4.127)\n",
      "Requirement already satisfied: nvidia-cudnn-cu12==9.1.0.70 in /opt/conda/lib/python3.11/site-packages (from torch>=1.11.0->sentence_transformers) (9.1.0.70)\n",
      "Requirement already satisfied: nvidia-cublas-cu12==12.4.5.8 in /opt/conda/lib/python3.11/site-packages (from torch>=1.11.0->sentence_transformers) (12.4.5.8)\n",
      "Requirement already satisfied: nvidia-cufft-cu12==11.2.1.3 in /opt/conda/lib/python3.11/site-packages (from torch>=1.11.0->sentence_transformers) (11.2.1.3)\n",
      "Requirement already satisfied: nvidia-curand-cu12==10.3.5.147 in /opt/conda/lib/python3.11/site-packages (from torch>=1.11.0->sentence_transformers) (10.3.5.147)\n",
      "Requirement already satisfied: nvidia-cusolver-cu12==11.6.1.9 in /opt/conda/lib/python3.11/site-packages (from torch>=1.11.0->sentence_transformers) (11.6.1.9)\n",
      "Requirement already satisfied: nvidia-cusparse-cu12==12.3.1.170 in /opt/conda/lib/python3.11/site-packages (from torch>=1.11.0->sentence_transformers) (12.3.1.170)\n",
      "Requirement already satisfied: nvidia-nccl-cu12==2.21.5 in /opt/conda/lib/python3.11/site-packages (from torch>=1.11.0->sentence_transformers) (2.21.5)\n",
      "Requirement already satisfied: nvidia-nvtx-cu12==12.4.127 in /opt/conda/lib/python3.11/site-packages (from torch>=1.11.0->sentence_transformers) (12.4.127)\n",
      "Requirement already satisfied: nvidia-nvjitlink-cu12==12.4.127 in /opt/conda/lib/python3.11/site-packages (from torch>=1.11.0->sentence_transformers) (12.4.127)\n",
      "Requirement already satisfied: triton==3.1.0 in /opt/conda/lib/python3.11/site-packages (from torch>=1.11.0->sentence_transformers) (3.1.0)\n",
      "Requirement already satisfied: sympy==1.13.1 in /opt/conda/lib/python3.11/site-packages (from torch>=1.11.0->sentence_transformers) (1.13.1)\n",
      "Requirement already satisfied: mpmath<1.4,>=1.1.0 in /opt/conda/lib/python3.11/site-packages (from sympy==1.13.1->torch>=1.11.0->sentence_transformers) (1.3.0)\n",
      "Requirement already satisfied: numpy>=1.17 in /opt/conda/lib/python3.11/site-packages (from transformers<5.0.0,>=4.41.0->sentence_transformers) (1.24.4)\n",
      "Requirement already satisfied: safetensors>=0.4.1 in /opt/conda/lib/python3.11/site-packages (from transformers<5.0.0,>=4.41.0->sentence_transformers) (0.4.5)\n",
      "Requirement already satisfied: tokenizers<0.21,>=0.20 in /opt/conda/lib/python3.11/site-packages (from transformers<5.0.0,>=4.41.0->sentence_transformers) (0.20.1)\n",
      "Requirement already satisfied: threadpoolctl>=2.0.0 in /opt/conda/lib/python3.11/site-packages (from scikit-learn->sentence_transformers) (3.2.0)\n",
      "Requirement already satisfied: MarkupSafe>=2.0 in /opt/conda/lib/python3.11/site-packages (from jinja2->torch>=1.11.0->sentence_transformers) (2.1.3)\n",
      "Requirement already satisfied: charset-normalizer<4,>=2 in /opt/conda/lib/python3.11/site-packages (from requests->huggingface-hub>=0.20.0->sentence_transformers) (3.3.0)\n",
      "Requirement already satisfied: idna<4,>=2.5 in /opt/conda/lib/python3.11/site-packages (from requests->huggingface-hub>=0.20.0->sentence_transformers) (3.4)\n",
      "Note: you may need to restart the kernel to use updated packages.\n"
     ]
    }
   ],
   "source": [
    "pip install elasticsearch sentence_transformers nltk tqdm"
   ]
  },
  {
   "cell_type": "code",
   "execution_count": 3,
   "id": "9dad58cc-aff6-428e-b35c-26383c4f88f2",
   "metadata": {},
   "outputs": [
    {
     "name": "stdout",
     "output_type": "stream",
     "text": [
      "Connected to Elasticsearch\n"
     ]
    }
   ],
   "source": [
    "from elasticsearch import Elasticsearch\n",
    "# Connect to Elasticsearch\n",
    "es = Elasticsearch(\"http://elasticsearch:9200\")\n",
    "\n",
    "# Check connection\n",
    "if es.ping():\n",
    "    print(\"Connected to Elasticsearch\")\n",
    "else:\n",
    "    print(\"Could not connect to Elasticsearch\")"
   ]
  },
  {
   "cell_type": "code",
   "execution_count": 4,
   "id": "34a62b31-1f68-4213-8a9a-a7398dc34497",
   "metadata": {},
   "outputs": [
    {
     "name": "stderr",
     "output_type": "stream",
     "text": [
      "/opt/conda/lib/python3.11/site-packages/sentence_transformers/cross_encoder/CrossEncoder.py:13: TqdmExperimentalWarning: Using `tqdm.autonotebook.tqdm` in notebook mode. Use `tqdm.tqdm` instead to force console mode (e.g. in jupyter console)\n",
      "  from tqdm.autonotebook import tqdm, trange\n"
     ]
    }
   ],
   "source": [
    "from sentence_transformers import SentenceTransformer\n",
    "import random\n",
    "import torch\n",
    "import numpy as np\n",
    "from nltk.tokenize import sent_tokenize\n",
    "import nltk\n",
    "from tqdm.notebook import tqdm  # Use tqdm.notebook for Jupyter compatibility\n",
    "import json\n",
    "import re\n",
    "import unicodedata"
   ]
  },
  {
   "cell_type": "code",
   "execution_count": 18,
   "id": "9378e985-a761-4a60-a2f9-2be797ed9498",
   "metadata": {},
   "outputs": [
    {
     "name": "stderr",
     "output_type": "stream",
     "text": [
      "[nltk_data] Downloading package punkt to /home/jovyan/nltk_data...\n",
      "[nltk_data]   Package punkt is already up-to-date!\n",
      "[nltk_data] Downloading package punkt_tab to /home/jovyan/nltk_data...\n",
      "[nltk_data]   Unzipping tokenizers/punkt_tab.zip.\n"
     ]
    },
    {
     "data": {
      "text/plain": [
       "True"
      ]
     },
     "execution_count": 18,
     "metadata": {},
     "output_type": "execute_result"
    }
   ],
   "source": [
    "# Download required NLTK data\n",
    "nltk.download('punkt')\n",
    "nltk.download('punkt_tab')"
   ]
  },
  {
   "cell_type": "code",
   "execution_count": 6,
   "id": "d4940850-1238-4dd5-a466-6abe5683effc",
   "metadata": {},
   "outputs": [],
   "source": [
    "def old_generate_enhanced_embedding(text, prefix=''):\n",
    "    \"\"\"Generate enhanced embeddings with better context preservation\"\"\"\n",
    "    model = SentenceTransformer('sentence-transformers/all-mpnet-base-v2')\n",
    "    \n",
    "    # Enhanced prompt engineering for different vector types\n",
    "    if prefix == 'question':\n",
    "        enhanced_text = f\"Is this a question? {text}\"\n",
    "    elif prefix == 'text':\n",
    "        enhanced_text = f\"Here’s some background context: {text}\"\n",
    "    elif prefix == 'combined':\n",
    "        enhanced_text = f\"Summary of question and context: {text}\" \n",
    "    else:\n",
    "        enhanced_text = text\n",
    "        \n",
    "    # Generate embedding with temperature\n",
    "    with torch.no_grad():\n",
    "        embedding = model.encode(\n",
    "            enhanced_text,\n",
    "            normalize_embeddings=True,\n",
    "            convert_to_tensor=True\n",
    "        )\n",
    "    \n",
    "    return embedding.cpu().numpy()"
   ]
  },
  {
   "cell_type": "code",
   "execution_count": 7,
   "id": "db593fc0-130f-403d-8c43-a04cd09ccf7c",
   "metadata": {},
   "outputs": [],
   "source": [
    "\n",
    "def old_create_index():\n",
    "    \"\"\"Create an index with improved settings, custom analyzers, and dense_vector mappings.\"\"\"\n",
    "    if es.indices.exists(index=\"qa_index_2\"):\n",
    "        es.indices.delete(index=\"qa_index_2\")\n",
    "    \n",
    "    mappings = {\n",
    "        \"settings\": {\n",
    "            \"index\": {\n",
    "                \"number_of_shards\": 1,\n",
    "                \"number_of_replicas\": 0,\n",
    "                \"refresh_interval\": \"1s\"\n",
    "            },\n",
    "            \"analysis\": {\n",
    "                \"analyzer\": {\n",
    "                    \"rag_analyzer\": {\n",
    "                        \"type\": \"custom\",\n",
    "                        \"tokenizer\": \"standard\",\n",
    "                        \"filter\": [\n",
    "                            \"lowercase\",\n",
    "                            \"stop\",\n",
    "                            \"porter_stem\",\n",
    "                            \"synonym\",\n",
    "                            \"word_delimiter_graph\"\n",
    "                        ]\n",
    "                    }\n",
    "                },\n",
    "                \"filter\": {\n",
    "                    \"synonym\": {\n",
    "                        \"type\": \"synonym\",\n",
    "                        \"synonyms\": [\n",
    "                            \"wellness, health, wellbeing\",\n",
    "                            \"stress, anxiety, tension\",\n",
    "                            \"help, assist, support\",\n",
    "                            \"question, query, ask\"\n",
    "                        ]\n",
    "                    }\n",
    "                }\n",
    "            }\n",
    "        },\n",
    "        \"mappings\": {\n",
    "            \"properties\": {\n",
    "                \"text\": {\n",
    "                    \"type\": \"text\",\n",
    "                    \"analyzer\": \"rag_analyzer\",\n",
    "                    \"search_analyzer\": \"rag_analyzer\"\n",
    "                },\n",
    "                \"response\": {\"type\": \"text\"},\n",
    "                \"question_vector_knn\": {\n",
    "                    \"type\": \"dense_vector\",\n",
    "                    \"dims\": 768,\n",
    "                    \"index\": True,\n",
    "                    \"similarity\": \"cosine\"\n",
    "                },\n",
    "                \"text_vector_knn\": {\n",
    "                    \"type\": \"dense_vector\",\n",
    "                    \"dims\": 768,\n",
    "                    \"index\": True,\n",
    "                    \"similarity\": \"cosine\"\n",
    "                },\n",
    "                \"question_text_vector_knn\": {\n",
    "                    \"type\": \"dense_vector\",\n",
    "                    \"dims\": 768,\n",
    "                    \"index\": True,\n",
    "                    \"similarity\": \"cosine\"\n",
    "                },\n",
    "                \"vector_combined_knn\": {\n",
    "                    \"type\": \"dense_vector\",\n",
    "                    \"dims\": 768,\n",
    "                    \"index\": True,\n",
    "                    \"similarity\": \"cosine\"\n",
    "                }\n",
    "            }\n",
    "        }\n",
    "    }\n",
    "    \n",
    "    es.indices.create(index=\"qa_index_2\", body=mappings)\n",
    "    print(\"Index created with enhanced analyzers and k-NN vector fields.\")\n"
   ]
  },
  {
   "cell_type": "code",
   "execution_count": 8,
   "id": "e6e9b800-4a19-4def-bd5b-0d686421d943",
   "metadata": {},
   "outputs": [],
   "source": [
    "def old_index_data(data):\n",
    "    \"\"\"Index data with improved preprocessing, embedding generation, and progress tracking for Jupyter.\"\"\"\n",
    "    total_patterns = sum(len(intent['patterns']) for intent in data['intents'])  # Calculate total patterns\n",
    "    progress_bar = tqdm(total=total_patterns, desc=\"Indexing Patterns\", unit=\"pattern\")\n",
    "    \n",
    "    for idx, intent in enumerate(data['intents']):\n",
    "        for pattern in intent['patterns']:\n",
    "            # Generate variations of the pattern\n",
    "            variations = [\n",
    "                pattern,\n",
    "                f\"Q: {pattern}\",\n",
    "                f\"Question: {pattern}\",\n",
    "                pattern.lower()\n",
    "            ]\n",
    "            \n",
    "            # Split pattern into sentences for chunking\n",
    "            chunks = sent_tokenize(pattern)\n",
    "            \n",
    "            for chunk_idx, chunk in enumerate(chunks):\n",
    "                # Generate embeddings with different contexts\n",
    "                question_vector = generate_enhanced_embedding(chunk, prefix='question')\n",
    "                text_vector = generate_enhanced_embedding(chunk, prefix='text')\n",
    "                question_text_vector = generate_enhanced_embedding(chunk, prefix='combined')\n",
    "                \n",
    "                # Generate embeddings for variations and average them\n",
    "                variation_embeddings = [generate_enhanced_embedding(v) for v in variations]\n",
    "                combined_vector = np.mean(variation_embeddings, axis=0)\n",
    "\n",
    "                # Index each chunk with all vectors\n",
    "                es.index(index=\"qa_index_2\", id=f\"{idx}_{chunk_idx}\", body={\n",
    "                    'text': chunk,\n",
    "                    'question_vector_knn': question_vector.tolist(),\n",
    "                    'text_vector_knn': text_vector.tolist(),\n",
    "                    'question_text_vector_knn': question_text_vector.tolist(),\n",
    "                    'vector_combined_knn': combined_vector.tolist(),\n",
    "                    'response': random.choice(intent['responses'])\n",
    "                })\n",
    "\n",
    "                if idx < 5:  # Adjust as needed to check initial items only\n",
    "                    print(f\"Pattern: {pattern}\")\n",
    "                    print(f\"Question Vector: {question_vector[:5]}\")  # Print partial embedding for readability\n",
    "                    print(f\"Text Vector: {text_vector[:5]}\")\n",
    "                    print(f\"Combined Vector: {combined_vector[:5]}\")\n",
    "                    print(\"-\" * 40)            \n",
    "            \n",
    "            # Update progress after each pattern\n",
    "            progress_bar.update(1)\n",
    "    \n",
    "    progress_bar.close()\n",
    "    print(\"Data indexed successfully with enhanced embeddings and variations.\")\n"
   ]
  },
  {
   "cell_type": "code",
   "execution_count": 9,
   "id": "c6aa89bc-8f63-4a11-9da6-48fab318bb5f",
   "metadata": {},
   "outputs": [],
   "source": [
    "def old_clean_text(text):\n",
    "    # Remove bullet points and any common symbols that might disrupt embeddings\n",
    "    text = re.sub(r'\\n+', ' ', text)  # Replace new lines with space\n",
    "    text = re.sub(r'•|\\*|•|-|—|–', '', text)  # Remove common bullet characters\n",
    "    text = re.sub(r'\\s+', ' ', text).strip()  # Remove extra whitespace\n",
    "    text = re.sub(r\"[^a-zA-Z0-9\\s]\", \"\", text)  # Remove non-alphanumeric characters\n",
    "    return text\n"
   ]
  },
  {
   "cell_type": "code",
   "execution_count": 10,
   "id": "f9e9acd8-4b33-4019-8fe5-b6238df682c1",
   "metadata": {},
   "outputs": [],
   "source": [
    "# Load data from intents.json\n",
    "with open('/home/jovyan/data/intents.json') as f:\n",
    "    data = json.load(f)\n"
   ]
  },
  {
   "cell_type": "code",
   "execution_count": 11,
   "id": "a37aa2fa-6655-459b-b27c-4cf064c4726f",
   "metadata": {},
   "outputs": [],
   "source": [
    "def clean_text(text):\n",
    "    \"\"\"\n",
    "    Enhanced text cleaning function with additional preprocessing steps\n",
    "    \"\"\"\n",
    "    # Normalize unicode characters\n",
    "    text = unicodedata.normalize('NFKC', text)\n",
    "    \n",
    "    # Convert to lowercase\n",
    "    text = text.lower()\n",
    "    \n",
    "    # Remove bullet points and any common symbols\n",
    "    text = re.sub(r'\\n+', ' ', text)  # Replace new lines with space\n",
    "    text = re.sub(r'•|\\*|•|-|—|–', '', text)  # Remove common bullet characters\n",
    "    \n",
    "    # Remove URLs\n",
    "    text = re.sub(r'http\\S+|www.\\S+', '', text)\n",
    "    \n",
    "    # Remove email addresses\n",
    "    text = re.sub(r'\\S+@\\S+', '', text)\n",
    "    \n",
    "    # Remove special characters but keep basic punctuation\n",
    "    text = re.sub(r'[^a-z0-9\\s.,!?]', '', text)\n",
    "    \n",
    "    # Replace multiple spaces with single space\n",
    "    text = re.sub(r'\\s+', ' ', text).strip()\n",
    "    \n",
    "    return text\n"
   ]
  },
  {
   "cell_type": "code",
   "execution_count": 12,
   "id": "1ad89ccb-b322-49df-913d-6b517e4ced64",
   "metadata": {},
   "outputs": [],
   "source": [
    "def generate_pattern_variations(pattern):\n",
    "    \"\"\"\n",
    "    Generate meaningful variations of the input pattern\n",
    "    \"\"\"\n",
    "    variations = [\n",
    "        pattern,\n",
    "        f\"Q: {pattern}\",\n",
    "        f\"Question: {pattern}\",\n",
    "        pattern.lower(),\n",
    "        # Add question-specific variations\n",
    "        f\"Can you tell me {pattern.lower()}?\",\n",
    "        f\"I want to know {pattern.lower()}\",\n",
    "        f\"Please explain {pattern.lower()}\"\n",
    "    ]\n",
    "    return list(set(variations))  # Remove any duplicates"
   ]
  },
  {
   "cell_type": "code",
   "execution_count": 13,
   "id": "5fcc1013-3375-4afd-ae7b-2f693b969dde",
   "metadata": {},
   "outputs": [],
   "source": [
    "def generate_enhanced_embedding(text, prefix='', model=None):\n",
    "    \"\"\"\n",
    "    Generate enhanced embeddings with better context preservation and caching\n",
    "    \"\"\"\n",
    "    if model is None:\n",
    "        model = SentenceTransformer('sentence-transformers/all-mpnet-base-v2')\n",
    "    \n",
    "    # Enhanced prompt engineering for different vector types\n",
    "    if prefix == 'question':\n",
    "        enhanced_text = f\"Question context: {text}\"\n",
    "    elif prefix == 'text':\n",
    "        enhanced_text = f\"Background information: {text}\"\n",
    "    elif prefix == 'combined':\n",
    "        enhanced_text = f\"Complete context: {text}\"\n",
    "    else:\n",
    "        enhanced_text = text\n",
    "        \n",
    "    # Generate embedding with temperature\n",
    "    with torch.no_grad():\n",
    "        embedding = model.encode(\n",
    "            enhanced_text,\n",
    "            normalize_embeddings=True,\n",
    "            convert_to_tensor=True\n",
    "        )\n",
    "    \n",
    "    return embedding.cpu().numpy()\n"
   ]
  },
  {
   "cell_type": "code",
   "execution_count": 14,
   "id": "55dd4cee-2523-4f86-abd2-05fce1de9f5d",
   "metadata": {},
   "outputs": [],
   "source": [
    "def index_data(data, es, index_name=\"qa_index_2\"):\n",
    "    \"\"\"\n",
    "    Index data with improved preprocessing, embedding generation, and progress tracking\n",
    "    \"\"\"\n",
    "    # Initialize the model once to avoid reloading\n",
    "    model = SentenceTransformer('sentence-transformers/all-mpnet-base-v2')\n",
    "    \n",
    "    # Calculate total patterns for progress bar\n",
    "    total_patterns = sum(len(intent['patterns']) for intent in data['intents'])\n",
    "    progress_bar = tqdm(total=total_patterns, desc=\"Indexing Patterns\", unit=\"pattern\")\n",
    "    \n",
    "    # Track statistics for logging\n",
    "    stats = {\n",
    "        'total_patterns': total_patterns,\n",
    "        'processed_patterns': 0,\n",
    "        'failed_patterns': 0\n",
    "    }\n",
    "    \n",
    "    for idx, intent in enumerate(data['intents']):\n",
    "        for pattern in intent['patterns']:\n",
    "            try:\n",
    "                # Clean the pattern text\n",
    "                cleaned_pattern = clean_text(pattern)\n",
    "                \n",
    "                # Skip if pattern becomes empty after cleaning\n",
    "                if not cleaned_pattern.strip():\n",
    "                    stats['failed_patterns'] += 1\n",
    "                    continue\n",
    "                \n",
    "                # Generate variations of the cleaned pattern\n",
    "                variations = generate_pattern_variations(cleaned_pattern)\n",
    "                \n",
    "                # Split pattern into sentences for chunking\n",
    "                chunks = sent_tokenize(cleaned_pattern)\n",
    "                \n",
    "                for chunk_idx, chunk in enumerate(chunks):\n",
    "                    # Generate embeddings with different contexts\n",
    "                    question_vector = generate_enhanced_embedding(chunk, prefix='question', model=model)\n",
    "                    text_vector = generate_enhanced_embedding(chunk, prefix='text', model=model)\n",
    "                    question_text_vector = generate_enhanced_embedding(chunk, prefix='combined', model=model)\n",
    "                    \n",
    "                    # Generate embeddings for variations and average them\n",
    "                    variation_embeddings = [generate_enhanced_embedding(v, model=model) for v in variations]\n",
    "                    combined_vector = np.mean(variation_embeddings, axis=0)\n",
    "                    \n",
    "                    # Clean the response text\n",
    "                    cleaned_response = clean_text(random.choice(intent['responses']))\n",
    "                    \n",
    "                    # Index document\n",
    "                    doc = {\n",
    "                        'tag': intent['tag'],\n",
    "                        'text': chunk,\n",
    "                        'original_text': pattern,  # Keep original for reference\n",
    "                        'question_vector_knn': question_vector.tolist(),\n",
    "                        'text_vector_knn': text_vector.tolist(),\n",
    "                        'question_text_vector_knn': question_text_vector.tolist(),\n",
    "                        'vector_combined_knn': combined_vector.tolist(),\n",
    "                        'response': cleaned_response,\n",
    "                        'variations': variations\n",
    "                    }\n",
    "                    \n",
    "                    es.index(index=index_name, id=f\"{idx}_{chunk_idx}\", body=doc)\n",
    "                \n",
    "                stats['processed_patterns'] += 1\n",
    "                \n",
    "                # Print sample embeddings for the first few patterns\n",
    "                if idx < 5:\n",
    "                    print(f\"Original Pattern: {pattern}\")\n",
    "                    print(f\"Cleaned Pattern: {cleaned_pattern}\")\n",
    "                    print(f\"Sample Variations: {variations[:2]}\")\n",
    "                    print(f\"Vector Samples (first 5 dimensions):\")\n",
    "                    print(f\"Question Vector: {question_vector[:5]}\")\n",
    "                    print(f\"Combined Vector: {combined_vector[:5]}\")\n",
    "                    print(\"-\" * 40)\n",
    "            \n",
    "            except Exception as e:\n",
    "                print(f\"Error processing pattern '{pattern}': {str(e)}\")\n",
    "                stats['failed_patterns'] += 1\n",
    "            \n",
    "            progress_bar.update(1)\n",
    "    \n",
    "    progress_bar.close()\n",
    "    \n",
    "    # Print final statistics\n",
    "    print(\"\\nIndexing Statistics:\")\n",
    "    print(f\"Total patterns processed: {stats['processed_patterns']}\")\n",
    "    print(f\"Failed patterns: {stats['failed_patterns']}\")\n",
    "    print(f\"Success rate: {(stats['processed_patterns']/total_patterns)*100:.2f}%\")\n"
   ]
  },
  {
   "cell_type": "code",
   "execution_count": 15,
   "id": "3f382bf2-63b3-4dbd-84c5-b5bf76b81644",
   "metadata": {},
   "outputs": [],
   "source": [
    "def create_index(es, index_name=\"qa_index_2\"):\n",
    "    \"\"\"\n",
    "    Create an enhanced index with improved settings, custom analyzers, and dense_vector mappings.\n",
    "    Includes support for new fields and better text analysis.\n",
    "    \"\"\"\n",
    "    if es.indices.exists(index=index_name):\n",
    "        es.indices.delete(index=index_name)\n",
    "    \n",
    "    mappings = {\n",
    "        \"settings\": {\n",
    "            \"index\": {\n",
    "                \"number_of_shards\": 1,\n",
    "                \"number_of_replicas\": 0,\n",
    "                \"refresh_interval\": \"1s\",\n",
    "                \"max_ngram_diff\": 50\n",
    "            },\n",
    "            \"analysis\": {\n",
    "                \"analyzer\": {\n",
    "                    \"rag_analyzer\": {\n",
    "                        \"type\": \"custom\",\n",
    "                        \"tokenizer\": \"standard\",\n",
    "                        \"filter\": [\n",
    "                            \"lowercase\",\n",
    "                            \"stop\",\n",
    "                            \"porter_stem\",\n",
    "                            \"synonym\",\n",
    "                            \"word_delimiter_graph\",\n",
    "                            \"unique\"\n",
    "                        ]\n",
    "                    },\n",
    "                    \"ngram_analyzer\": {\n",
    "                        \"type\": \"custom\",\n",
    "                        \"tokenizer\": \"standard\",\n",
    "                        \"filter\": [\n",
    "                            \"lowercase\",\n",
    "                            \"stop\",\n",
    "                            \"ngram_filter\"\n",
    "                        ]\n",
    "                    }\n",
    "                },\n",
    "                \"filter\": {\n",
    "                    \"synonym\": {\n",
    "                        \"type\": \"synonym\",\n",
    "                        \"synonyms\": [\n",
    "                            \"wellness, health, wellbeing\",\n",
    "                            \"stress, anxiety, tension\",\n",
    "                            \"help, assist, support\",\n",
    "                            \"question, query, ask\",\n",
    "                            \"feel, feeling, felt\",\n",
    "                            \"sad, unhappy, depressed\",\n",
    "                            \"happy, joyful, content\",\n",
    "                            \"angry, mad, furious\",\n",
    "                            \"tired, exhausted, fatigued\",\n",
    "                            \"worried, concerned, troubled\"\n",
    "                        ]\n",
    "                    },\n",
    "                    \"ngram_filter\": {\n",
    "                        \"type\": \"ngram\",\n",
    "                        \"min_gram\": 3,\n",
    "                        \"max_gram\": 4\n",
    "                    }\n",
    "                }\n",
    "            }\n",
    "        },\n",
    "        \"mappings\": {\n",
    "            \"properties\": {\n",
    "                \"tag\": {\n",
    "                    \"type\": \"keyword\"\n",
    "                },\n",
    "                \"text\": {\n",
    "                    \"type\": \"text\",\n",
    "                    \"analyzer\": \"rag_analyzer\",\n",
    "                    \"search_analyzer\": \"rag_analyzer\",\n",
    "                    \"fields\": {\n",
    "                        \"ngram\": {\n",
    "                            \"type\": \"text\",\n",
    "                            \"analyzer\": \"ngram_analyzer\"\n",
    "                        },\n",
    "                        \"keyword\": {\n",
    "                            \"type\": \"keyword\"\n",
    "                        }\n",
    "                    }\n",
    "                },\n",
    "                \"original_text\": {\n",
    "                    \"type\": \"text\",\n",
    "                    \"analyzer\": \"rag_analyzer\",\n",
    "                    \"fields\": {\n",
    "                        \"keyword\": {\n",
    "                            \"type\": \"keyword\"\n",
    "                        }\n",
    "                    }\n",
    "                },\n",
    "                \"response\": {\n",
    "                    \"type\": \"text\",\n",
    "                    \"analyzer\": \"rag_analyzer\",\n",
    "                    \"fields\": {\n",
    "                        \"keyword\": {\n",
    "                            \"type\": \"keyword\"\n",
    "                        }\n",
    "                    }\n",
    "                },\n",
    "                \"variations\": {\n",
    "                    \"type\": \"text\",\n",
    "                    \"analyzer\": \"rag_analyzer\"\n",
    "                },\n",
    "                \"question_vector_knn\": {\n",
    "                    \"type\": \"dense_vector\",\n",
    "                    \"dims\": 768,\n",
    "                    \"index\": True,\n",
    "                    \"similarity\": \"cosine\"\n",
    "                },\n",
    "                \"text_vector_knn\": {\n",
    "                    \"type\": \"dense_vector\",\n",
    "                    \"dims\": 768,\n",
    "                    \"index\": True,\n",
    "                    \"similarity\": \"cosine\"\n",
    "                },\n",
    "                \"question_text_vector_knn\": {\n",
    "                    \"type\": \"dense_vector\",\n",
    "                    \"dims\": 768,\n",
    "                    \"index\": True,\n",
    "                    \"similarity\": \"cosine\"\n",
    "                },\n",
    "                \"vector_combined_knn\": {\n",
    "                    \"type\": \"dense_vector\",\n",
    "                    \"dims\": 768,\n",
    "                    \"index\": True,\n",
    "                    \"similarity\": \"cosine\"\n",
    "                },\n",
    "                \"metadata\": {\n",
    "                    \"type\": \"object\",\n",
    "                    \"enabled\": True\n",
    "                },\n",
    "                \"timestamp\": {\n",
    "                    \"type\": \"date\"\n",
    "                }\n",
    "            }\n",
    "        }\n",
    "    }\n",
    "    \n",
    "    try:\n",
    "        es.indices.create(index=index_name, body=mappings)\n",
    "        print(f\"Index '{index_name}' created successfully with enhanced analyzers and k-NN vector fields.\")\n",
    "        \n",
    "        # Verify index settings and mappings\n",
    "        settings = es.indices.get_settings(index=index_name)\n",
    "        print(\"\\nIndex settings verified:\")\n",
    "        print(f\"- Number of shards: {settings[index_name]['settings']['index']['number_of_shards']}\")\n",
    "        print(f\"- Number of replicas: {settings[index_name]['settings']['index']['number_of_replicas']}\")\n",
    "        print(\"- Custom analyzers: rag_analyzer, ngram_analyzer\")\n",
    "        \n",
    "    except Exception as e:\n",
    "        print(f\"Error creating index: {str(e)}\")\n",
    "        raise"
   ]
  },
  {
   "cell_type": "code",
   "execution_count": 16,
   "id": "331ada9a-45d7-4006-a137-24cae0e88b5a",
   "metadata": {},
   "outputs": [
    {
     "name": "stdout",
     "output_type": "stream",
     "text": [
      "Index 'qa_index_2' created successfully with enhanced analyzers and k-NN vector fields.\n",
      "\n",
      "Index settings verified:\n",
      "- Number of shards: 1\n",
      "- Number of replicas: 0\n",
      "- Custom analyzers: rag_analyzer, ngram_analyzer\n"
     ]
    }
   ],
   "source": [
    "create_index(es)"
   ]
  },
  {
   "cell_type": "code",
   "execution_count": 19,
   "id": "bb575dc7-8683-4d2a-8a1b-a415e7df93f6",
   "metadata": {},
   "outputs": [
    {
     "data": {
      "application/vnd.jupyter.widget-view+json": {
       "model_id": "7fd489d79c6f4d168846d8b8ad208fdd",
       "version_major": 2,
       "version_minor": 0
      },
      "text/plain": [
       "Indexing Patterns:   0%|          | 0/232 [00:00<?, ?pattern/s]"
      ]
     },
     "metadata": {},
     "output_type": "display_data"
    },
    {
     "name": "stdout",
     "output_type": "stream",
     "text": [
      "Original Pattern: Hi\n",
      "Cleaned Pattern: hi\n",
      "Sample Variations: ['Q: hi', 'Question: hi']\n",
      "Vector Samples (first 5 dimensions):\n",
      "Question Vector: [ 0.03611977 -0.00055852 -0.00819155 -0.01500973 -0.02736383]\n",
      "Combined Vector: [ 0.03042874 -0.01408004 -0.00665739 -0.02422638 -0.00415771]\n",
      "----------------------------------------\n",
      "Original Pattern: Hey\n",
      "Cleaned Pattern: hey\n",
      "Sample Variations: ['I want to know hey', 'Question: hey']\n",
      "Vector Samples (first 5 dimensions):\n",
      "Question Vector: [ 0.05952298  0.0103958  -0.02094073  0.00516158 -0.01747805]\n",
      "Combined Vector: [ 0.04435221  0.01024734 -0.02064931 -0.02891829  0.00091017]\n",
      "----------------------------------------\n",
      "Original Pattern: Is anyone there?\n",
      "Cleaned Pattern: is anyone there?\n",
      "Sample Variations: ['Question: is anyone there?', 'Q: is anyone there?']\n",
      "Vector Samples (first 5 dimensions):\n",
      "Question Vector: [ 0.05376231 -0.06849413  0.01648517  0.02811978 -0.0335924 ]\n",
      "Combined Vector: [ 0.03167063 -0.06271856  0.0120197   0.03781154 -0.01481837]\n",
      "----------------------------------------\n",
      "Original Pattern: Hi there\n",
      "Cleaned Pattern: hi there\n",
      "Sample Variations: ['Question: hi there', 'Q: hi there']\n",
      "Vector Samples (first 5 dimensions):\n",
      "Question Vector: [ 0.05269973 -0.03528406 -0.02034079 -0.00671738 -0.001558  ]\n",
      "Combined Vector: [ 0.03802081 -0.01088772 -0.01893645 -0.01857601  0.02443411]\n",
      "----------------------------------------\n",
      "Original Pattern: Hello\n",
      "Cleaned Pattern: hello\n",
      "Sample Variations: ['Q: hello', 'Can you tell me hello?']\n",
      "Vector Samples (first 5 dimensions):\n",
      "Question Vector: [ 0.04934625  0.00772772 -0.00806663  0.00908035 -0.00467595]\n",
      "Combined Vector: [ 0.03698567 -0.00253051 -0.009803   -0.01637392  0.02020529]\n",
      "----------------------------------------\n",
      "Original Pattern: Hey there\n",
      "Cleaned Pattern: hey there\n",
      "Sample Variations: ['Can you tell me hey there?', 'hey there']\n",
      "Vector Samples (first 5 dimensions):\n",
      "Question Vector: [ 0.07035849 -0.01811564 -0.02469725  0.00500167 -0.01415855]\n",
      "Combined Vector: [ 0.05233477 -0.00928172 -0.02131474 -0.02447278  0.02355362]\n",
      "----------------------------------------\n",
      "Original Pattern: Howdy\n",
      "Cleaned Pattern: howdy\n",
      "Sample Variations: ['I want to know howdy', 'Q: howdy']\n",
      "Vector Samples (first 5 dimensions):\n",
      "Question Vector: [ 0.06073419  0.00991598  0.00177001  0.01589127 -0.00033341]\n",
      "Combined Vector: [ 0.04718937 -0.01077205  0.00256527 -0.01963507  0.00075993]\n",
      "----------------------------------------\n",
      "Original Pattern: Hola\n",
      "Cleaned Pattern: hola\n",
      "Sample Variations: ['hola', 'Please explain hola']\n",
      "Vector Samples (first 5 dimensions):\n",
      "Question Vector: [ 0.00057966  0.04610929 -0.00139288  0.00419473 -0.01239055]\n",
      "Combined Vector: [-0.01099395  0.02321605 -0.00240154 -0.00877362  0.0067132 ]\n",
      "----------------------------------------\n",
      "Original Pattern: Bonjour\n",
      "Cleaned Pattern: bonjour\n",
      "Sample Variations: ['Q: bonjour', 'Can you tell me bonjour?']\n",
      "Vector Samples (first 5 dimensions):\n",
      "Question Vector: [ 0.03976822 -0.00433708 -0.00122744  0.04371597 -0.0525857 ]\n",
      "Combined Vector: [ 0.04270585 -0.02324296  0.00050595  0.01314282 -0.02041258]\n",
      "----------------------------------------\n",
      "Original Pattern: Konnichiwa\n",
      "Cleaned Pattern: konnichiwa\n",
      "Sample Variations: ['Please explain konnichiwa', 'konnichiwa']\n",
      "Vector Samples (first 5 dimensions):\n",
      "Question Vector: [ 0.04924797  0.02077669 -0.00444325  0.03907002  0.00770606]\n",
      "Combined Vector: [0.05767564 0.00474866 0.00606773 0.01151263 0.00499655]\n",
      "----------------------------------------\n",
      "Original Pattern: Guten tag\n",
      "Cleaned Pattern: guten tag\n",
      "Sample Variations: ['Question: guten tag', 'Please explain guten tag']\n",
      "Vector Samples (first 5 dimensions):\n",
      "Question Vector: [ 0.03479302 -0.02550893 -0.01570199  0.0474306  -0.01006912]\n",
      "Combined Vector: [ 0.02611592 -0.04647773 -0.00011821  0.04600471  0.00481893]\n",
      "----------------------------------------\n",
      "Original Pattern: Ola\n",
      "Cleaned Pattern: ola\n",
      "Sample Variations: ['Please explain ola', 'I want to know ola']\n",
      "Vector Samples (first 5 dimensions):\n",
      "Question Vector: [ 0.03234582  0.02753888 -0.00789813  0.0246602   0.00268844]\n",
      "Combined Vector: [0.02548868 0.02390652 0.00771606 0.01456039 0.0399388 ]\n",
      "----------------------------------------\n",
      "Original Pattern: Good morning\n",
      "Cleaned Pattern: good morning\n",
      "Sample Variations: ['good morning', 'Can you tell me good morning?']\n",
      "Vector Samples (first 5 dimensions):\n",
      "Question Vector: [ 0.04278212 -0.03938776  0.0063836  -0.0017856  -0.0147869 ]\n",
      "Combined Vector: [ 0.02404273 -0.04763022 -0.00396635 -0.01447589  0.00708471]\n",
      "----------------------------------------\n",
      "Original Pattern: Good afternoon\n",
      "Cleaned Pattern: good afternoon\n",
      "Sample Variations: ['I want to know good afternoon', 'Q: good afternoon']\n",
      "Vector Samples (first 5 dimensions):\n",
      "Question Vector: [ 0.04795326 -0.06929205 -0.01207616  0.00859458 -0.01555654]\n",
      "Combined Vector: [ 0.0188606  -0.08450098 -0.02080903 -0.00370903 -0.0011494 ]\n",
      "----------------------------------------\n",
      "Original Pattern: Good evening\n",
      "Cleaned Pattern: good evening\n",
      "Sample Variations: ['good evening', 'Question: good evening']\n",
      "Vector Samples (first 5 dimensions):\n",
      "Question Vector: [ 0.03423159 -0.07555899 -0.00864443  0.0254783  -0.05611238]\n",
      "Combined Vector: [ 0.00643897 -0.07834619 -0.01440565  0.00065812 -0.03748561]\n",
      "----------------------------------------\n",
      "Original Pattern: Good night\n",
      "Cleaned Pattern: good night\n",
      "Sample Variations: ['Can you tell me good night?', 'Please explain good night']\n",
      "Vector Samples (first 5 dimensions):\n",
      "Question Vector: [ 0.03019382 -0.06399715 -0.0096062  -0.01222647 -0.06514171]\n",
      "Combined Vector: [ 0.00940692 -0.0757428  -0.02514562 -0.02474021 -0.05063737]\n",
      "----------------------------------------\n",
      "\n",
      "Indexing Statistics:\n",
      "Total patterns processed: 231\n",
      "Failed patterns: 1\n",
      "Success rate: 99.57%\n"
     ]
    }
   ],
   "source": [
    "index_data(data, es)"
   ]
  },
  {
   "cell_type": "code",
   "execution_count": null,
   "id": "0b986d1b-1b9f-49f4-a95b-558f8aefdb5e",
   "metadata": {},
   "outputs": [],
   "source": []
  },
  {
   "cell_type": "code",
   "execution_count": 29,
   "id": "f9e8acb1-0792-438c-a14e-4bef703bb446",
   "metadata": {},
   "outputs": [],
   "source": [
    "class RAGEvaluator:\n",
    "    def __init__(self, es_client, index_name=\"qa_index_2\"):\n",
    "        self.es = es_client\n",
    "        self.index_name = index_name\n",
    "        self.evaluation_results = {}\n",
    "        self.query_details = []\n",
    "        \n",
    "    def semantic_search(self, query: str, field: str = 'text_vector_knn', k: int = 5) -> List[Tuple[str, float]]:\n",
    "        \"\"\"Enhanced semantic search with better query processing.\"\"\"\n",
    "        # Generate query variations for better coverage\n",
    "        query_variations = [\n",
    "            query,\n",
    "            f\"question: {query}\",\n",
    "            f\"find information about {query}\",\n",
    "            f\"tell me about {query}\",\n",
    "            f\"what is {query}\"\n",
    "        ]\n",
    "        \n",
    "        # Generate embeddings for all variations\n",
    "        embeddings = [generate_enhanced_embedding(q, prefix='question') for q in query_variations]\n",
    "        query_embedding = np.mean(embeddings, axis=0)\n",
    "        \n",
    "        search_query = {\n",
    "            \"size\": k,\n",
    "            \"knn\": {\n",
    "                \"field\": field,\n",
    "                \"query_vector\": query_embedding.tolist(),\n",
    "                \"k\": k,\n",
    "                \"num_candidates\": 100\n",
    "            },\n",
    "            \"_source\": [\"text\", \"response\", \"original_text\", \"tag\"],\n",
    "            \"min_score\": 0.7\n",
    "        }\n",
    "        \n",
    "        try:\n",
    "            response = self.es.search(index=self.index_name, body=search_query)\n",
    "            return [(hit['_source']['response'], hit['_score'], hit['_source'].get('tag', '')) \n",
    "                   for hit in response['hits']['hits']]\n",
    "        except Exception as e:\n",
    "            logger.error(f\"Error in semantic search: {str(e)}\")\n",
    "            return []\n",
    "\n",
    "    def text_search(self, query: str, k: int = 5) -> List[Tuple[str, float]]:\n",
    "        \"\"\"Enhanced text search with improved query analysis.\"\"\"\n",
    "        search_query = {\n",
    "            \"size\": k,\n",
    "            \"query\": {\n",
    "                \"bool\": {\n",
    "                    \"should\": [\n",
    "                        {\n",
    "                            \"match\": {\n",
    "                                \"text\": {\n",
    "                                    \"query\": query,\n",
    "                                    \"boost\": 2.0,\n",
    "                                    \"fuzziness\": \"AUTO\"\n",
    "                                }\n",
    "                            }\n",
    "                        },\n",
    "                        {\n",
    "                            \"match\": {\n",
    "                                \"original_text\": {\n",
    "                                    \"query\": query,\n",
    "                                    \"boost\": 1.5\n",
    "                                }\n",
    "                            }\n",
    "                        },\n",
    "                        {\n",
    "                            \"match_phrase\": {\n",
    "                                \"text\": {\n",
    "                                    \"query\": query,\n",
    "                                    \"boost\": 1.5,\n",
    "                                    \"slop\": 2\n",
    "                                }\n",
    "                            }\n",
    "                        }\n",
    "                    ]\n",
    "                }\n",
    "            }\n",
    "        }\n",
    "        \n",
    "        try:\n",
    "            response = self.es.search(index=self.index_name, body=search_query)\n",
    "            return [(hit['_source']['response'], hit['_score'], hit['_source'].get('tag', '')) \n",
    "                   for hit in response['hits']['hits']]\n",
    "        except Exception as e:\n",
    "            logger.error(f\"Error in text search: {str(e)}\")\n",
    "            return []\n",
    "\n",
    "    def combined_search(self, query: str, k: int = 5) -> List[Tuple[str, float]]:\n",
    "        \"\"\"Enhanced hybrid search combining text and vector approaches.\"\"\"\n",
    "        query_embedding = generate_enhanced_embedding(query, prefix='combined')\n",
    "        \n",
    "        search_query = {\n",
    "            \"size\": k,\n",
    "            \"query\": {\n",
    "                \"bool\": {\n",
    "                    \"should\": [\n",
    "                        {\n",
    "                            \"match\": {\n",
    "                                \"text\": {\n",
    "                                    \"query\": query,\n",
    "                                    \"boost\": 0.3\n",
    "                                }\n",
    "                            }\n",
    "                        }\n",
    "                    ]\n",
    "                }\n",
    "            },\n",
    "            \"knn\": {\n",
    "                \"field\": \"vector_combined_knn\",\n",
    "                \"query_vector\": query_embedding.tolist(),\n",
    "                \"k\": k,\n",
    "                \"num_candidates\": 200,\n",
    "                \"boost\": 0.7\n",
    "            }\n",
    "        }\n",
    "        \n",
    "        try:\n",
    "            response = self.es.search(index=self.index_name, body=search_query)\n",
    "            return [(hit['_source']['response'], hit['_score'], hit['_source'].get('tag', '')) \n",
    "                   for hit in response['hits']['hits']]\n",
    "        except Exception as e:\n",
    "            logger.error(f\"Error in combined search: {str(e)}\")\n",
    "            return []\n",
    "            \n",
    "    def calculate_metrics(self, results: List[Tuple[str, float]], ground_truth: str) -> Dict[str, float]:\n",
    "        \"\"\"Enhanced metric calculation with better response matching.\"\"\"\n",
    "        metrics = {\n",
    "            \"hit_rate\": 0,\n",
    "            \"mrr\": 0,\n",
    "            \"ndcg\": 0,\n",
    "            \"precision\": 0,\n",
    "            \"recall\": 0,\n",
    "            \"f1\": 0\n",
    "        }\n",
    "        \n",
    "        # Debug print\n",
    "        logger.info(f\"\\nGround Truth: {ground_truth}\")\n",
    "        logger.info(\"Top 3 Results:\")\n",
    "        for idx, (response, score, _) in enumerate(results[:3]):\n",
    "            logger.info(f\"{idx+1}. Response: {response}\")\n",
    "            logger.info(f\"   Score: {score}\")\n",
    "        \n",
    "        # Calculate hit rate and MRR with fuzzy matching\n",
    "        for rank, (response, _, _) in enumerate(results):\n",
    "            # Normalize responses for comparison\n",
    "            norm_ground_truth = self._normalize_text(ground_truth)\n",
    "            norm_response = self._normalize_text(response)\n",
    "            \n",
    "            # Calculate similarity\n",
    "            similarity = self._calculate_similarity(norm_ground_truth, norm_response)\n",
    "            \n",
    "            if similarity > 0.8:  # Adjust threshold as needed\n",
    "                metrics[\"hit_rate\"] = 1\n",
    "                metrics[\"mrr\"] = 1 / (rank + 1)\n",
    "                logger.info(f\"Match found at rank {rank+1} with similarity {similarity}\")\n",
    "                break\n",
    "        \n",
    "        # Calculate NDCG with similarity scores\n",
    "        relevance_scores = []\n",
    "        for response, _, _ in results:\n",
    "            similarity = self._calculate_similarity(\n",
    "                self._normalize_text(ground_truth),\n",
    "                self._normalize_text(response)\n",
    "            )\n",
    "            relevance_scores.append(similarity)\n",
    "        \n",
    "        ideal_scores = sorted(relevance_scores, reverse=True)\n",
    "        try:\n",
    "            metrics[\"ndcg\"] = ndcg_score([ideal_scores], [relevance_scores])\n",
    "        except Exception as e:\n",
    "            logger.error(f\"NDCG calculation error: {str(e)}\")\n",
    "            metrics[\"ndcg\"] = 0\n",
    "        \n",
    "        # Calculate precision, recall, F1 with similarity threshold\n",
    "        relevant_count = sum(1 for score in relevance_scores if score > 0.8)\n",
    "        if relevant_count > 0:\n",
    "            metrics[\"precision\"] = relevant_count / len(results)\n",
    "            metrics[\"recall\"] = 1 if relevant_count > 0 else 0\n",
    "            metrics[\"f1\"] = 2 * (metrics[\"precision\"] * metrics[\"recall\"]) / (metrics[\"precision\"] + metrics[\"recall\"]) \\\n",
    "                if (metrics[\"precision\"] + metrics[\"recall\"]) > 0 else 0\n",
    "        \n",
    "        logger.info(f\"Metrics for current query: {metrics}\")\n",
    "        return metrics\n",
    "    \n",
    "    def _normalize_text(self, text: str) -> str:\n",
    "        \"\"\"Normalize text for comparison.\"\"\"\n",
    "        # Convert to lowercase and remove punctuation\n",
    "        text = text.lower()\n",
    "        text = re.sub(r'[^\\w\\s]', '', text)\n",
    "        # Remove extra whitespace\n",
    "        text = ' '.join(text.split())\n",
    "        return text\n",
    "    \n",
    "    def _calculate_similarity(self, text1: str, text2: str) -> float:\n",
    "        \"\"\"Calculate text similarity using token overlap.\"\"\"\n",
    "        tokens1 = set(text1.split())\n",
    "        tokens2 = set(text2.split())\n",
    "        \n",
    "        intersection = tokens1.intersection(tokens2)\n",
    "        union = tokens1.union(tokens2)\n",
    "        \n",
    "        if not union:\n",
    "            return 0.0\n",
    "        \n",
    "        return len(intersection) / len(union)\n",
    "\n",
    "    def evaluate_methods(self, test_queries: Dict[str, str], k: int = 5) -> Dict[str, Dict[str, float]]:\n",
    "        \"\"\"Enhanced evaluation with better debugging.\"\"\"\n",
    "        methods = {\n",
    "            \"semantic_search_question\": lambda q: self.semantic_search(q, \"question_vector_knn\", k),\n",
    "            \"semantic_search_text\": lambda q: self.semantic_search(q, \"text_vector_knn\", k),\n",
    "            \"semantic_search_combined\": lambda q: self.semantic_search(q, \"question_text_vector_knn\", k),\n",
    "            \"text_search\": lambda q: self.text_search(q, k),\n",
    "            \"combined_search\": lambda q: self.combined_search(q, k)\n",
    "        }\n",
    "        \n",
    "        metrics_list = [\"hit_rate\", \"mrr\", \"ndcg\", \"precision\", \"recall\", \"f1\"]\n",
    "        results = {method: {metric: [] for metric in metrics_list} for method in methods}\n",
    "        \n",
    "        for query, ground_truth in tqdm(test_queries.items(), desc=\"Evaluating queries\"):\n",
    "            logger.info(f\"\\nEvaluating Query: {query}\")\n",
    "            logger.info(f\"Ground Truth: {ground_truth}\")\n",
    "            \n",
    "            for method_name, search_func in methods.items():\n",
    "                logger.info(f\"\\nMethod: {method_name}\")\n",
    "                try:\n",
    "                    search_results = search_func(query)\n",
    "                    \n",
    "                    if not search_results:\n",
    "                        logger.warning(f\"No results returned for method {method_name}\")\n",
    "                        continue\n",
    "                    \n",
    "                    metrics = self.calculate_metrics(search_results, ground_truth)\n",
    "                    \n",
    "                    # Store metrics\n",
    "                    for metric in metrics_list:\n",
    "                        results[method_name][metric].append(metrics[metric])\n",
    "                    \n",
    "                    # Store detailed results\n",
    "                    self.query_details.append({\n",
    "                        \"query\": query,\n",
    "                        \"method\": method_name,\n",
    "                        \"ground_truth\": ground_truth,\n",
    "                        \"top_results\": search_results[:3],\n",
    "                        \"metrics\": metrics\n",
    "                    })\n",
    "                    \n",
    "                except Exception as e:\n",
    "                    logger.error(f\"Error evaluating {method_name} for query '{query}': {str(e)}\")\n",
    "                    logger.error(f\"Traceback: {traceback.format_exc()}\")\n",
    "        \n",
    "        # Calculate aggregated metrics\n",
    "        aggregated_results = {}\n",
    "        for method in results:\n",
    "            method_metrics = {}\n",
    "            for metric in metrics_list:\n",
    "                values = results[method][metric]\n",
    "                if values:\n",
    "                    method_metrics[f\"avg_{metric}\"] = float(np.mean(values))\n",
    "                    method_metrics[f\"std_{metric}\"] = float(np.std(values))\n",
    "                else:\n",
    "                    method_metrics[f\"avg_{metric}\"] = 0.0\n",
    "                    method_metrics[f\"std_{metric}\"] = 0.0\n",
    "            aggregated_results[method] = method_metrics\n",
    "        \n",
    "        self.evaluation_results = aggregated_results\n",
    "        return aggregated_results\n",
    "\n",
    "    def generate_report(self, output_file: str = None) -> None:\n",
    "        \"\"\"Enhanced report generation with more details.\"\"\"\n",
    "        if not self.evaluation_results:\n",
    "            logger.warning(\"No evaluation results available\")\n",
    "            return\n",
    "        \n",
    "        report = [\"RAG Evaluation Report\"]\n",
    "        report.append(f\"Generated on: {datetime.now().strftime('%Y-%m-%d %H:%M:%S')}\")\n",
    "        report.append(\"\\nOverall Results:\")\n",
    "        \n",
    "        # Create results table\n",
    "        results_data = []\n",
    "        for method, metrics in self.evaluation_results.items():\n",
    "            result = {\n",
    "                \"Method\": method,\n",
    "                \"Hit Rate\": f\"{metrics['avg_hit_rate']:.3f} ± {metrics['std_hit_rate']:.3f}\",\n",
    "                \"MRR\": f\"{metrics['avg_mrr']:.3f} ± {metrics['std_mrr']:.3f}\",\n",
    "                \"NDCG\": f\"{metrics['avg_ndcg']:.3f} ± {metrics['std_ndcg']:.3f}\",\n",
    "                \"F1\": f\"{metrics['avg_f1']:.3f} ± {metrics['std_f1']:.3f}\",\n",
    "                \"Precision\": f\"{metrics['avg_precision']:.3f} ± {metrics['std_precision']:.3f}\",\n",
    "                \"Recall\": f\"{metrics['avg_recall']:.3f} ± {metrics['std_recall']:.3f}\"\n",
    "            }\n",
    "            results_data.append(result)\n",
    "        \n",
    "        df = pd.DataFrame(results_data)\n",
    "        report.append(\"\\n\" + df.to_string())\n",
    "        \n",
    "        # Add detailed per-query analysis\n",
    "        report.append(\"\\nDetailed Query Analysis:\")\n",
    "        for detail in self.query_details:\n",
    "            report.append(f\"\\nQuery: {detail['query']}\")\n",
    "            report.append(f\"Method: {detail['method']}\")\n",
    "            report.append(f\"Ground Truth: {detail['ground_truth']}\")\n",
    "            report.append(\"Top 3 Results:\")\n",
    "            for idx, (response, score, _) in enumerate(detail['top_results']):\n",
    "                report.append(f\"{idx+1}. Response: {response}\")\n",
    "                report.append(f\"   Score: {score}\")\n",
    "            report.append(f\"Metrics: {detail['metrics']}\")\n",
    "            report.append(\"-\" * 80)\n",
    "        \n",
    "        report_text = \"\\n\".join(report)\n",
    "        if output_file:\n",
    "            with open(output_file, 'w') as f:\n",
    "                f.write(report_text)\n",
    "        \n",
    "        print(report_text)\n",
    "        return report_text"
   ]
  },
  {
   "cell_type": "code",
   "execution_count": 30,
   "id": "59ab1f95-ccd6-457c-a95a-0f0a412361c6",
   "metadata": {},
   "outputs": [
    {
     "name": "stderr",
     "output_type": "stream",
     "text": [
      "Evaluating queries:   0%|          | 0/6 [00:00<?, ?it/s]2024-10-27 20:32:40,395 - INFO - \n",
      "Evaluating Query: How can I tell if I might have depression?\n",
      "2024-10-27 20:32:40,396 - INFO - Ground Truth: For a diagnosis of depression, a person needs to have experienced low mood or loss of interest or pleasure in life for at least 2 weeks. Also, they will have experienced the following symptoms: feelings of sadness, hopelessness, or irritability nearly every day.\n",
      "2024-10-27 20:32:40,397 - INFO - \n",
      "Method: semantic_search_question\n",
      "2024-10-27 20:32:40,400 - INFO - Use pytorch device_name: cpu\n",
      "2024-10-27 20:32:40,401 - INFO - Load pretrained SentenceTransformer: sentence-transformers/all-mpnet-base-v2\n"
     ]
    },
    {
     "data": {
      "application/vnd.jupyter.widget-view+json": {
       "model_id": "758db4d523a94d61923f2f04c92a2dcb",
       "version_major": 2,
       "version_minor": 0
      },
      "text/plain": [
       "Batches:   0%|          | 0/1 [00:00<?, ?it/s]"
      ]
     },
     "metadata": {},
     "output_type": "display_data"
    },
    {
     "name": "stderr",
     "output_type": "stream",
     "text": [
      "2024-10-27 20:32:41,839 - INFO - Use pytorch device_name: cpu\n",
      "2024-10-27 20:32:41,840 - INFO - Load pretrained SentenceTransformer: sentence-transformers/all-mpnet-base-v2\n"
     ]
    },
    {
     "data": {
      "application/vnd.jupyter.widget-view+json": {
       "model_id": "f46b809feb3d4dcfb2e64b0f7b49c61e",
       "version_major": 2,
       "version_minor": 0
      },
      "text/plain": [
       "Batches:   0%|          | 0/1 [00:00<?, ?it/s]"
      ]
     },
     "metadata": {},
     "output_type": "display_data"
    },
    {
     "name": "stderr",
     "output_type": "stream",
     "text": [
      "2024-10-27 20:32:43,244 - INFO - Use pytorch device_name: cpu\n",
      "2024-10-27 20:32:43,245 - INFO - Load pretrained SentenceTransformer: sentence-transformers/all-mpnet-base-v2\n"
     ]
    },
    {
     "data": {
      "application/vnd.jupyter.widget-view+json": {
       "model_id": "3c2c9da7fadc492aac88e6f61d13388c",
       "version_major": 2,
       "version_minor": 0
      },
      "text/plain": [
       "Batches:   0%|          | 0/1 [00:00<?, ?it/s]"
      ]
     },
     "metadata": {},
     "output_type": "display_data"
    },
    {
     "name": "stderr",
     "output_type": "stream",
     "text": [
      "2024-10-27 20:32:44,535 - INFO - Use pytorch device_name: cpu\n",
      "2024-10-27 20:32:44,536 - INFO - Load pretrained SentenceTransformer: sentence-transformers/all-mpnet-base-v2\n"
     ]
    },
    {
     "data": {
      "application/vnd.jupyter.widget-view+json": {
       "model_id": "2f4f343d36be468bbcdb6740fd17e3fe",
       "version_major": 2,
       "version_minor": 0
      },
      "text/plain": [
       "Batches:   0%|          | 0/1 [00:00<?, ?it/s]"
      ]
     },
     "metadata": {},
     "output_type": "display_data"
    },
    {
     "name": "stderr",
     "output_type": "stream",
     "text": [
      "2024-10-27 20:32:46,003 - INFO - Use pytorch device_name: cpu\n",
      "2024-10-27 20:32:46,004 - INFO - Load pretrained SentenceTransformer: sentence-transformers/all-mpnet-base-v2\n"
     ]
    },
    {
     "data": {
      "application/vnd.jupyter.widget-view+json": {
       "model_id": "32336eecf0c243f09504aa9d56cf1a79",
       "version_major": 2,
       "version_minor": 0
      },
      "text/plain": [
       "Batches:   0%|          | 0/1 [00:00<?, ?it/s]"
      ]
     },
     "metadata": {},
     "output_type": "display_data"
    },
    {
     "name": "stderr",
     "output_type": "stream",
     "text": [
      "2024-10-27 20:32:47,322 - INFO - POST http://elasticsearch:9200/qa_index_2/_search [status:200 duration:0.029s]\n",
      "2024-10-27 20:32:47,323 - INFO - \n",
      "Ground Truth: For a diagnosis of depression, a person needs to have experienced low mood or loss of interest or pleasure in life for at least 2 weeks. Also, they will have experienced the following symptoms: feelings of sadness, hopelessness, or irritability nearly every day.\n",
      "2024-10-27 20:32:47,324 - INFO - Top 3 Results:\n",
      "2024-10-27 20:32:47,325 - INFO - 1. Response: talk to me. tell me more. it helps if you open up yourself to someone else.\n",
      "2024-10-27 20:32:47,325 - INFO -    Score: 0.90253735\n",
      "2024-10-27 20:32:47,326 - INFO - 2. Response: a mental health disorder characterised by persistently depressed mood or loss of interest in activities, causing significant impairment in daily life.\n",
      "2024-10-27 20:32:47,326 - INFO -    Score: 0.8824258\n",
      "2024-10-27 20:32:47,327 - INFO - 3. Response: if your beliefs , thoughts , feelings or behaviours have a significant impact on your ability to function in what might be considered a normal or ordinary way, it would be important to seek help.\n",
      "2024-10-27 20:32:47,328 - INFO -    Score: 0.85867786\n",
      "2024-10-27 20:32:47,332 - INFO - Metrics for current query: {'hit_rate': 0, 'mrr': 0, 'ndcg': 0.8567968897672356, 'precision': 0, 'recall': 0, 'f1': 0}\n",
      "2024-10-27 20:32:47,332 - INFO - \n",
      "Method: semantic_search_text\n",
      "2024-10-27 20:32:47,334 - INFO - Use pytorch device_name: cpu\n",
      "2024-10-27 20:32:47,335 - INFO - Load pretrained SentenceTransformer: sentence-transformers/all-mpnet-base-v2\n"
     ]
    },
    {
     "data": {
      "application/vnd.jupyter.widget-view+json": {
       "model_id": "d2f6a8825d4b42e48480f8edb0f25f5f",
       "version_major": 2,
       "version_minor": 0
      },
      "text/plain": [
       "Batches:   0%|          | 0/1 [00:00<?, ?it/s]"
      ]
     },
     "metadata": {},
     "output_type": "display_data"
    },
    {
     "name": "stderr",
     "output_type": "stream",
     "text": [
      "2024-10-27 20:32:48,663 - INFO - Use pytorch device_name: cpu\n",
      "2024-10-27 20:32:48,664 - INFO - Load pretrained SentenceTransformer: sentence-transformers/all-mpnet-base-v2\n"
     ]
    },
    {
     "data": {
      "application/vnd.jupyter.widget-view+json": {
       "model_id": "f6774d5736984b3bae5b30ea185097c6",
       "version_major": 2,
       "version_minor": 0
      },
      "text/plain": [
       "Batches:   0%|          | 0/1 [00:00<?, ?it/s]"
      ]
     },
     "metadata": {},
     "output_type": "display_data"
    },
    {
     "name": "stderr",
     "output_type": "stream",
     "text": [
      "2024-10-27 20:32:49,974 - INFO - Use pytorch device_name: cpu\n",
      "2024-10-27 20:32:49,976 - INFO - Load pretrained SentenceTransformer: sentence-transformers/all-mpnet-base-v2\n"
     ]
    },
    {
     "data": {
      "application/vnd.jupyter.widget-view+json": {
       "model_id": "4307a535676042928014609a77ef0a9a",
       "version_major": 2,
       "version_minor": 0
      },
      "text/plain": [
       "Batches:   0%|          | 0/1 [00:00<?, ?it/s]"
      ]
     },
     "metadata": {},
     "output_type": "display_data"
    },
    {
     "name": "stderr",
     "output_type": "stream",
     "text": [
      "2024-10-27 20:32:51,363 - INFO - Use pytorch device_name: cpu\n",
      "2024-10-27 20:32:51,364 - INFO - Load pretrained SentenceTransformer: sentence-transformers/all-mpnet-base-v2\n"
     ]
    },
    {
     "data": {
      "application/vnd.jupyter.widget-view+json": {
       "model_id": "01d6dda8ecf84ab4aa7bece077cb0de2",
       "version_major": 2,
       "version_minor": 0
      },
      "text/plain": [
       "Batches:   0%|          | 0/1 [00:00<?, ?it/s]"
      ]
     },
     "metadata": {},
     "output_type": "display_data"
    },
    {
     "name": "stderr",
     "output_type": "stream",
     "text": [
      "2024-10-27 20:32:52,906 - INFO - Use pytorch device_name: cpu\n",
      "2024-10-27 20:32:52,907 - INFO - Load pretrained SentenceTransformer: sentence-transformers/all-mpnet-base-v2\n"
     ]
    },
    {
     "data": {
      "application/vnd.jupyter.widget-view+json": {
       "model_id": "5e5338bd8bea460ab602d04e013638aa",
       "version_major": 2,
       "version_minor": 0
      },
      "text/plain": [
       "Batches:   0%|          | 0/1 [00:00<?, ?it/s]"
      ]
     },
     "metadata": {},
     "output_type": "display_data"
    },
    {
     "name": "stderr",
     "output_type": "stream",
     "text": [
      "2024-10-27 20:32:54,231 - INFO - POST http://elasticsearch:9200/qa_index_2/_search [status:200 duration:0.012s]\n",
      "2024-10-27 20:32:54,232 - INFO - \n",
      "Ground Truth: For a diagnosis of depression, a person needs to have experienced low mood or loss of interest or pleasure in life for at least 2 weeks. Also, they will have experienced the following symptoms: feelings of sadness, hopelessness, or irritability nearly every day.\n",
      "2024-10-27 20:32:54,232 - INFO - Top 3 Results:\n",
      "2024-10-27 20:32:54,233 - INFO - 1. Response: talk to me. tell me more. it helps if you open up yourself to someone else.\n",
      "2024-10-27 20:32:54,234 - INFO -    Score: 0.8124051\n",
      "2024-10-27 20:32:54,234 - INFO - 2. Response: a mental health disorder characterised by persistently depressed mood or loss of interest in activities, causing significant impairment in daily life.\n",
      "2024-10-27 20:32:54,235 - INFO -    Score: 0.8071208\n",
      "2024-10-27 20:32:54,235 - INFO - 3. Response: symptoms of mental health disorders vary depending on the type and severity of the condition. the following is a list of general symptoms that may suggest a mental health disorder, particularly when multiple symptoms are expressed at once. in adults confused thinking longlasting sadness or irritability extreme highs and lows in mood excessive fear, worrying, or anxiety social withdrawal dramatic changes in eating or sleeping habits strong feelings of anger delusions or hallucinations seeing or hearing things that are not really there increasing inability to cope with daily problems and activities thoughts of suicide denial of obvious problems many unexplained physical problems abuse of drugs andor alcohol in older children and preteens abuse of drugs andor alcohol inability to cope with daily problems and activities changes in sleeping andor eating habits excessive complaints of physical problems defying authority, skipping school, stealing, or damaging property intense fear of gaining weight longlasting negative mood, often along with poor appetite and thoughts of death frequent outbursts of anger in younger children changes in school performance poor grades despite strong efforts excessive worrying or anxiety hyperactivity persistent nightmares persistent disobedience andor aggressive behavior frequent temper tantrums\n",
      "2024-10-27 20:32:54,236 - INFO -    Score: 0.78928614\n",
      "2024-10-27 20:32:54,238 - INFO - Metrics for current query: {'hit_rate': 0, 'mrr': 0, 'ndcg': 0.8152644465705975, 'precision': 0, 'recall': 0, 'f1': 0}\n",
      "2024-10-27 20:32:54,239 - INFO - \n",
      "Method: semantic_search_combined\n",
      "2024-10-27 20:32:54,240 - INFO - Use pytorch device_name: cpu\n",
      "2024-10-27 20:32:54,241 - INFO - Load pretrained SentenceTransformer: sentence-transformers/all-mpnet-base-v2\n"
     ]
    },
    {
     "data": {
      "application/vnd.jupyter.widget-view+json": {
       "model_id": "8237a3cc93d14237b086143f6a8bee07",
       "version_major": 2,
       "version_minor": 0
      },
      "text/plain": [
       "Batches:   0%|          | 0/1 [00:00<?, ?it/s]"
      ]
     },
     "metadata": {},
     "output_type": "display_data"
    },
    {
     "name": "stderr",
     "output_type": "stream",
     "text": [
      "2024-10-27 20:32:55,608 - INFO - Use pytorch device_name: cpu\n",
      "2024-10-27 20:32:55,609 - INFO - Load pretrained SentenceTransformer: sentence-transformers/all-mpnet-base-v2\n"
     ]
    },
    {
     "data": {
      "application/vnd.jupyter.widget-view+json": {
       "model_id": "682c9f5794cf43ceab16eaf7629ba4c3",
       "version_major": 2,
       "version_minor": 0
      },
      "text/plain": [
       "Batches:   0%|          | 0/1 [00:00<?, ?it/s]"
      ]
     },
     "metadata": {},
     "output_type": "display_data"
    },
    {
     "name": "stderr",
     "output_type": "stream",
     "text": [
      "2024-10-27 20:32:57,174 - INFO - Use pytorch device_name: cpu\n",
      "2024-10-27 20:32:57,175 - INFO - Load pretrained SentenceTransformer: sentence-transformers/all-mpnet-base-v2\n"
     ]
    },
    {
     "data": {
      "application/vnd.jupyter.widget-view+json": {
       "model_id": "32ac2b1e219b4632a65e42ef3ad4b9ec",
       "version_major": 2,
       "version_minor": 0
      },
      "text/plain": [
       "Batches:   0%|          | 0/1 [00:00<?, ?it/s]"
      ]
     },
     "metadata": {},
     "output_type": "display_data"
    },
    {
     "name": "stderr",
     "output_type": "stream",
     "text": [
      "2024-10-27 20:32:58,459 - INFO - Use pytorch device_name: cpu\n",
      "2024-10-27 20:32:58,460 - INFO - Load pretrained SentenceTransformer: sentence-transformers/all-mpnet-base-v2\n"
     ]
    },
    {
     "data": {
      "application/vnd.jupyter.widget-view+json": {
       "model_id": "79b70c911a414ac7b81473333f1f5955",
       "version_major": 2,
       "version_minor": 0
      },
      "text/plain": [
       "Batches:   0%|          | 0/1 [00:00<?, ?it/s]"
      ]
     },
     "metadata": {},
     "output_type": "display_data"
    },
    {
     "name": "stderr",
     "output_type": "stream",
     "text": [
      "2024-10-27 20:32:59,778 - INFO - Use pytorch device_name: cpu\n",
      "2024-10-27 20:32:59,779 - INFO - Load pretrained SentenceTransformer: sentence-transformers/all-mpnet-base-v2\n"
     ]
    },
    {
     "data": {
      "application/vnd.jupyter.widget-view+json": {
       "model_id": "e041a65ab75649af92bb53b4d778b5a8",
       "version_major": 2,
       "version_minor": 0
      },
      "text/plain": [
       "Batches:   0%|          | 0/1 [00:00<?, ?it/s]"
      ]
     },
     "metadata": {},
     "output_type": "display_data"
    },
    {
     "name": "stderr",
     "output_type": "stream",
     "text": [
      "2024-10-27 20:33:01,137 - INFO - POST http://elasticsearch:9200/qa_index_2/_search [status:200 duration:0.022s]\n",
      "2024-10-27 20:33:01,140 - INFO - \n",
      "Ground Truth: For a diagnosis of depression, a person needs to have experienced low mood or loss of interest or pleasure in life for at least 2 weeks. Also, they will have experienced the following symptoms: feelings of sadness, hopelessness, or irritability nearly every day.\n",
      "2024-10-27 20:33:01,141 - INFO - Top 3 Results:\n",
      "2024-10-27 20:33:01,141 - INFO - 1. Response: talk to me. tell me more. it helps if you open up yourself to someone else.\n",
      "2024-10-27 20:33:01,142 - INFO -    Score: 0.84290767\n",
      "2024-10-27 20:33:01,143 - INFO - 2. Response: if your beliefs , thoughts , feelings or behaviours have a significant impact on your ability to function in what might be considered a normal or ordinary way, it would be important to seek help.\n",
      "2024-10-27 20:33:01,144 - INFO -    Score: 0.8190968\n",
      "2024-10-27 20:33:01,144 - INFO - 3. Response: the most important thing is to talk to someone you trust. this might be a friend, colleague, family member, or gp. in addition to talking to someone, it may be useful to find out more information about what you are experiencing. these things may help to get some perspective on what you are experiencing, and be the start of getting help.\n",
      "2024-10-27 20:33:01,145 - INFO -    Score: 0.819082\n",
      "2024-10-27 20:33:01,148 - INFO - Metrics for current query: {'hit_rate': 0, 'mrr': 0, 'ndcg': 0.7167179387143922, 'precision': 0, 'recall': 0, 'f1': 0}\n",
      "2024-10-27 20:33:01,148 - INFO - \n",
      "Method: text_search\n",
      "2024-10-27 20:33:01,171 - INFO - POST http://elasticsearch:9200/qa_index_2/_search [status:200 duration:0.022s]\n",
      "2024-10-27 20:33:01,180 - INFO - \n",
      "Ground Truth: For a diagnosis of depression, a person needs to have experienced low mood or loss of interest or pleasure in life for at least 2 weeks. Also, they will have experienced the following symptoms: feelings of sadness, hopelessness, or irritability nearly every day.\n",
      "2024-10-27 20:33:01,181 - INFO - Top 3 Results:\n",
      "2024-10-27 20:33:01,182 - INFO - 1. Response: talk to me. tell me more. it helps if you open up yourself to someone else.\n",
      "2024-10-27 20:33:01,183 - INFO -    Score: 33.34758\n",
      "2024-10-27 20:33:01,183 - INFO - 2. Response: feeling comfortable with the professional you or your child is working with is critical to the success of your treatment. finding the professional who best fits your needs may require some research.\n",
      "2024-10-27 20:33:01,184 - INFO -    Score: 19.61291\n",
      "2024-10-27 20:33:01,184 - INFO - 3. Response: a lot of people are alone right now, but we dont have to be lonely. were all in this together. think about the different ways to connect that are most meaningful for you. for example, you might prefer a video chat over a phone call, or you might prefer to text throughout the day rather than one set time for a video call. then, work with your social networks to make a plan. you might video chat with your close friends in the evening and phone a family member once a week. remember to be mindful of people who may not be online. check in by phone and ask how you can help. the quality of your social connections matter. mindlessly scrolling through social media and liking a few posts usually doesnt build strong social connections. make sure you focus on strategies that actually make you feel included and connected. if your current strategies dont help you feel connected, problemsolve to see if you can find a solution. everyone feels lonely at times. maybe you recently moved to a new city, are changing your circle of friends, lost someone important in your life, or lost your job and also lost important social connections with coworkers. other people may have physical connections to others but may feel like their emotional or social needs arent met. measures like social distancing or selfisolation can make loneliness feel worse no matter why you feel lonely now. reach out to the connections you do have. suggest ways to keep in touch and see if you can set a regular time to connect. people may hesitate to reach out for a lot of different reasons, so dont be afraid to be the one who asks. look for local community support groups and mutual aid groups on social media. this pandemic is bringing everyone together, so look for opportunities to make new connections. these groups are a great way to share your skills and abilities or seek help and support. look for specialized support groups. support groups are moving online, and there are a lot of different support lines to call if you need to talk to someone.\n",
      "2024-10-27 20:33:01,185 - INFO -    Score: 17.828733\n",
      "2024-10-27 20:33:01,187 - INFO - Metrics for current query: {'hit_rate': 0, 'mrr': 0, 'ndcg': 0.7452057206848488, 'precision': 0, 'recall': 0, 'f1': 0}\n",
      "2024-10-27 20:33:01,188 - INFO - \n",
      "Method: combined_search\n",
      "2024-10-27 20:33:01,191 - INFO - Use pytorch device_name: cpu\n",
      "2024-10-27 20:33:01,192 - INFO - Load pretrained SentenceTransformer: sentence-transformers/all-mpnet-base-v2\n"
     ]
    },
    {
     "data": {
      "application/vnd.jupyter.widget-view+json": {
       "model_id": "934485a3c5b2407c87503aca122aef3a",
       "version_major": 2,
       "version_minor": 0
      },
      "text/plain": [
       "Batches:   0%|          | 0/1 [00:00<?, ?it/s]"
      ]
     },
     "metadata": {},
     "output_type": "display_data"
    },
    {
     "name": "stderr",
     "output_type": "stream",
     "text": [
      "2024-10-27 20:33:02,605 - INFO - POST http://elasticsearch:9200/qa_index_2/_search [status:200 duration:0.016s]\n",
      "2024-10-27 20:33:02,613 - INFO - \n",
      "Ground Truth: For a diagnosis of depression, a person needs to have experienced low mood or loss of interest or pleasure in life for at least 2 weeks. Also, they will have experienced the following symptoms: feelings of sadness, hopelessness, or irritability nearly every day.\n",
      "2024-10-27 20:33:02,614 - INFO - Top 3 Results:\n",
      "2024-10-27 20:33:02,614 - INFO - 1. Response: talk to me. tell me more. it helps if you open up yourself to someone else.\n",
      "2024-10-27 20:33:02,615 - INFO -    Score: 3.449538\n",
      "2024-10-27 20:33:02,615 - INFO - 2. Response: a mental health disorder characterised by persistently depressed mood or loss of interest in activities, causing significant impairment in daily life.\n",
      "2024-10-27 20:33:02,616 - INFO -    Score: 2.0463386\n",
      "2024-10-27 20:33:02,617 - INFO - 3. Response: a lot of people are alone right now, but we dont have to be lonely. were all in this together. think about the different ways to connect that are most meaningful for you. for example, you might prefer a video chat over a phone call, or you might prefer to text throughout the day rather than one set time for a video call. then, work with your social networks to make a plan. you might video chat with your close friends in the evening and phone a family member once a week. remember to be mindful of people who may not be online. check in by phone and ask how you can help. the quality of your social connections matter. mindlessly scrolling through social media and liking a few posts usually doesnt build strong social connections. make sure you focus on strategies that actually make you feel included and connected. if your current strategies dont help you feel connected, problemsolve to see if you can find a solution. everyone feels lonely at times. maybe you recently moved to a new city, are changing your circle of friends, lost someone important in your life, or lost your job and also lost important social connections with coworkers. other people may have physical connections to others but may feel like their emotional or social needs arent met. measures like social distancing or selfisolation can make loneliness feel worse no matter why you feel lonely now. reach out to the connections you do have. suggest ways to keep in touch and see if you can set a regular time to connect. people may hesitate to reach out for a lot of different reasons, so dont be afraid to be the one who asks. look for local community support groups and mutual aid groups on social media. this pandemic is bringing everyone together, so look for opportunities to make new connections. these groups are a great way to share your skills and abilities or seek help and support. look for specialized support groups. support groups are moving online, and there are a lot of different support lines to call if you need to talk to someone.\n",
      "2024-10-27 20:33:02,618 - INFO -    Score: 1.662311\n",
      "2024-10-27 20:33:02,620 - INFO - Metrics for current query: {'hit_rate': 0, 'mrr': 0, 'ndcg': 0.8338514475657166, 'precision': 0, 'recall': 0, 'f1': 0}\n",
      "Evaluating queries:  17%|█▋        | 1/6 [00:22<01:51, 22.23s/it]2024-10-27 20:33:02,623 - INFO - \n",
      "Evaluating Query: What's the main difference between feeling down and depression?\n",
      "2024-10-27 20:33:02,623 - INFO - Ground Truth: Sadness is a normal reaction to a loss, disappointment, problems, or other difficult situations. Feeling sad from time to time is just another part of being human. In these cases, feelings of sadness go away quickly and you can go about your daily life. Other ways to talk about sadness might be feeling low, feeling down, or feeling blue. A person may say they are feeling depressed, but if it goes away on its own and doesn't impact life in a big way, it probably isn't the illness of depression. Depression is a mental illness that affects your mood, the way you understand yourself, and the way you understand and relate to things around you. It can also go by different names, such as clinical depression, major depressive disorder, or major depression. Depression can come up for no reason, and it lasts for a long time. It's much more than sadness or low mood. People who experience depression may feel worthless or hopeless. They may feel unreasonable guilty. Some people may experience depression as anger or irritability. It may be hard to concentrate or make decisions. Most people lose interest in things that they used to enjoy and may isolate themselves from others. There are also physical signs of depression, such as problems with sleep, appetite and energy and unexplainable aches or pains. Some may experience difficult thoughts about death or ending their life (suicide). Depression lasts longer than two weeks, doesn't usually go away on its own, and impacts your life. It's a real illness, and it is very treatable. It's important to seek help if you're concerned about depression.\n",
      "2024-10-27 20:33:02,624 - INFO - \n",
      "Method: semantic_search_question\n",
      "2024-10-27 20:33:02,626 - INFO - Use pytorch device_name: cpu\n",
      "2024-10-27 20:33:02,626 - INFO - Load pretrained SentenceTransformer: sentence-transformers/all-mpnet-base-v2\n"
     ]
    },
    {
     "data": {
      "application/vnd.jupyter.widget-view+json": {
       "model_id": "3ff16c0abeff48afa1ef3e85f30cef09",
       "version_major": 2,
       "version_minor": 0
      },
      "text/plain": [
       "Batches:   0%|          | 0/1 [00:00<?, ?it/s]"
      ]
     },
     "metadata": {},
     "output_type": "display_data"
    },
    {
     "name": "stderr",
     "output_type": "stream",
     "text": [
      "2024-10-27 20:33:03,993 - INFO - Use pytorch device_name: cpu\n",
      "2024-10-27 20:33:03,995 - INFO - Load pretrained SentenceTransformer: sentence-transformers/all-mpnet-base-v2\n"
     ]
    },
    {
     "data": {
      "application/vnd.jupyter.widget-view+json": {
       "model_id": "2e048941f8e140e69bc3f3041db163b7",
       "version_major": 2,
       "version_minor": 0
      },
      "text/plain": [
       "Batches:   0%|          | 0/1 [00:00<?, ?it/s]"
      ]
     },
     "metadata": {},
     "output_type": "display_data"
    },
    {
     "name": "stderr",
     "output_type": "stream",
     "text": [
      "2024-10-27 20:33:05,287 - INFO - Use pytorch device_name: cpu\n",
      "2024-10-27 20:33:05,287 - INFO - Load pretrained SentenceTransformer: sentence-transformers/all-mpnet-base-v2\n"
     ]
    },
    {
     "data": {
      "application/vnd.jupyter.widget-view+json": {
       "model_id": "33980453b956474084590cd84803b600",
       "version_major": 2,
       "version_minor": 0
      },
      "text/plain": [
       "Batches:   0%|          | 0/1 [00:00<?, ?it/s]"
      ]
     },
     "metadata": {},
     "output_type": "display_data"
    },
    {
     "name": "stderr",
     "output_type": "stream",
     "text": [
      "2024-10-27 20:33:06,620 - INFO - Use pytorch device_name: cpu\n",
      "2024-10-27 20:33:06,621 - INFO - Load pretrained SentenceTransformer: sentence-transformers/all-mpnet-base-v2\n"
     ]
    },
    {
     "data": {
      "application/vnd.jupyter.widget-view+json": {
       "model_id": "9d95d4f01d6e431ca6ea761e6f9be7f6",
       "version_major": 2,
       "version_minor": 0
      },
      "text/plain": [
       "Batches:   0%|          | 0/1 [00:00<?, ?it/s]"
      ]
     },
     "metadata": {},
     "output_type": "display_data"
    },
    {
     "name": "stderr",
     "output_type": "stream",
     "text": [
      "2024-10-27 20:33:07,922 - INFO - Use pytorch device_name: cpu\n",
      "2024-10-27 20:33:07,923 - INFO - Load pretrained SentenceTransformer: sentence-transformers/all-mpnet-base-v2\n"
     ]
    },
    {
     "data": {
      "application/vnd.jupyter.widget-view+json": {
       "model_id": "6eb67401811a47ecbe45307b4bb67f0b",
       "version_major": 2,
       "version_minor": 0
      },
      "text/plain": [
       "Batches:   0%|          | 0/1 [00:00<?, ?it/s]"
      ]
     },
     "metadata": {},
     "output_type": "display_data"
    },
    {
     "name": "stderr",
     "output_type": "stream",
     "text": [
      "2024-10-27 20:33:09,229 - INFO - POST http://elasticsearch:9200/qa_index_2/_search [status:200 duration:0.017s]\n",
      "2024-10-27 20:33:09,230 - INFO - \n",
      "Ground Truth: Sadness is a normal reaction to a loss, disappointment, problems, or other difficult situations. Feeling sad from time to time is just another part of being human. In these cases, feelings of sadness go away quickly and you can go about your daily life. Other ways to talk about sadness might be feeling low, feeling down, or feeling blue. A person may say they are feeling depressed, but if it goes away on its own and doesn't impact life in a big way, it probably isn't the illness of depression. Depression is a mental illness that affects your mood, the way you understand yourself, and the way you understand and relate to things around you. It can also go by different names, such as clinical depression, major depressive disorder, or major depression. Depression can come up for no reason, and it lasts for a long time. It's much more than sadness or low mood. People who experience depression may feel worthless or hopeless. They may feel unreasonable guilty. Some people may experience depression as anger or irritability. It may be hard to concentrate or make decisions. Most people lose interest in things that they used to enjoy and may isolate themselves from others. There are also physical signs of depression, such as problems with sleep, appetite and energy and unexplainable aches or pains. Some may experience difficult thoughts about death or ending their life (suicide). Depression lasts longer than two weeks, doesn't usually go away on its own, and impacts your life. It's a real illness, and it is very treatable. It's important to seek help if you're concerned about depression.\n",
      "2024-10-27 20:33:09,231 - INFO - Top 3 Results:\n",
      "2024-10-27 20:33:09,231 - INFO - 1. Response: sadness is a normal reaction to a loss, disappointment, problems, or other difficult situations. feeling sad from time to time is just another part of being human. in these cases, feelings of sadness go away quickly and you can go about your daily life. other ways to talk about sadness might be feeling low, feeling down, or feeling blue.a person may say they are feeling depressed, but if it goes away on its own and doesnt impact life in a big way, it probably isnt the illness of depression. depression is a mental illness that affects your mood, the way you understand yourself, and the way you understand and relate to things around you. it can also go by different names, such as clinical depression, major depressive disorder, or major depression. depression can come up for no reason, and it lasts for a long time. its much more than sadness or low mood. people who experience depression may feel worthless or hopeless. they may feel unreasonable guilty. some people may experience depression as anger or irritability. it may be hard to concentrate or make decisions. most people lose interest in things that they used to enjoy and may isolate themselves from others. there are also physical signs of depression, such as problems with sleep, appetite and energy and unexplainable aches or pains. some may experience difficult thoughts about death or ending their life suicide. depression lasts longer than two weeks, doesnt usually go away on its own, and impacts your life. its a real illness, and it is very treatable. its important to seek help if youre concerned about depression.\n",
      "2024-10-27 20:33:09,232 - INFO -    Score: 0.9198818\n",
      "2024-10-27 20:33:09,233 - INFO - 2. Response: a mental health disorder characterised by persistently depressed mood or loss of interest in activities, causing significant impairment in daily life.\n",
      "2024-10-27 20:33:09,233 - INFO -    Score: 0.90538216\n",
      "2024-10-27 20:33:09,234 - INFO - 3. Response: talk to me. tell me more. it helps if you open up yourself to someone else.\n",
      "2024-10-27 20:33:09,234 - INFO -    Score: 0.84596443\n",
      "2024-10-27 20:33:09,235 - INFO - Match found at rank 1 with similarity 0.9863945578231292\n",
      "2024-10-27 20:33:09,239 - INFO - Metrics for current query: {'hit_rate': 1, 'mrr': 1.0, 'ndcg': 0.981302412900278, 'precision': 0.2, 'recall': 1, 'f1': 0.33333333333333337}\n",
      "2024-10-27 20:33:09,240 - INFO - \n",
      "Method: semantic_search_text\n",
      "2024-10-27 20:33:09,243 - INFO - Use pytorch device_name: cpu\n",
      "2024-10-27 20:33:09,244 - INFO - Load pretrained SentenceTransformer: sentence-transformers/all-mpnet-base-v2\n"
     ]
    },
    {
     "data": {
      "application/vnd.jupyter.widget-view+json": {
       "model_id": "a389217c76d74ca1bdcc1f02b9106106",
       "version_major": 2,
       "version_minor": 0
      },
      "text/plain": [
       "Batches:   0%|          | 0/1 [00:00<?, ?it/s]"
      ]
     },
     "metadata": {},
     "output_type": "display_data"
    },
    {
     "name": "stderr",
     "output_type": "stream",
     "text": [
      "2024-10-27 20:33:10,592 - INFO - Use pytorch device_name: cpu\n",
      "2024-10-27 20:33:10,593 - INFO - Load pretrained SentenceTransformer: sentence-transformers/all-mpnet-base-v2\n"
     ]
    },
    {
     "data": {
      "application/vnd.jupyter.widget-view+json": {
       "model_id": "5565efaa1f6c4bf1819236a6d1328541",
       "version_major": 2,
       "version_minor": 0
      },
      "text/plain": [
       "Batches:   0%|          | 0/1 [00:00<?, ?it/s]"
      ]
     },
     "metadata": {},
     "output_type": "display_data"
    },
    {
     "name": "stderr",
     "output_type": "stream",
     "text": [
      "2024-10-27 20:33:11,919 - INFO - Use pytorch device_name: cpu\n",
      "2024-10-27 20:33:11,921 - INFO - Load pretrained SentenceTransformer: sentence-transformers/all-mpnet-base-v2\n"
     ]
    },
    {
     "data": {
      "application/vnd.jupyter.widget-view+json": {
       "model_id": "728f55658e1e44dc9757cdddf3c3d5e2",
       "version_major": 2,
       "version_minor": 0
      },
      "text/plain": [
       "Batches:   0%|          | 0/1 [00:00<?, ?it/s]"
      ]
     },
     "metadata": {},
     "output_type": "display_data"
    },
    {
     "name": "stderr",
     "output_type": "stream",
     "text": [
      "2024-10-27 20:33:13,181 - INFO - Use pytorch device_name: cpu\n",
      "2024-10-27 20:33:13,182 - INFO - Load pretrained SentenceTransformer: sentence-transformers/all-mpnet-base-v2\n"
     ]
    },
    {
     "data": {
      "application/vnd.jupyter.widget-view+json": {
       "model_id": "48cee1fbf9d4465f9fbac886783cc21e",
       "version_major": 2,
       "version_minor": 0
      },
      "text/plain": [
       "Batches:   0%|          | 0/1 [00:00<?, ?it/s]"
      ]
     },
     "metadata": {},
     "output_type": "display_data"
    },
    {
     "name": "stderr",
     "output_type": "stream",
     "text": [
      "2024-10-27 20:33:14,475 - INFO - Use pytorch device_name: cpu\n",
      "2024-10-27 20:33:14,476 - INFO - Load pretrained SentenceTransformer: sentence-transformers/all-mpnet-base-v2\n"
     ]
    },
    {
     "data": {
      "application/vnd.jupyter.widget-view+json": {
       "model_id": "22bc51ad86254472afba099aa52839a1",
       "version_major": 2,
       "version_minor": 0
      },
      "text/plain": [
       "Batches:   0%|          | 0/1 [00:00<?, ?it/s]"
      ]
     },
     "metadata": {},
     "output_type": "display_data"
    },
    {
     "name": "stderr",
     "output_type": "stream",
     "text": [
      "2024-10-27 20:33:15,868 - INFO - POST http://elasticsearch:9200/qa_index_2/_search [status:200 duration:0.018s]\n",
      "2024-10-27 20:33:15,870 - INFO - \n",
      "Ground Truth: Sadness is a normal reaction to a loss, disappointment, problems, or other difficult situations. Feeling sad from time to time is just another part of being human. In these cases, feelings of sadness go away quickly and you can go about your daily life. Other ways to talk about sadness might be feeling low, feeling down, or feeling blue. A person may say they are feeling depressed, but if it goes away on its own and doesn't impact life in a big way, it probably isn't the illness of depression. Depression is a mental illness that affects your mood, the way you understand yourself, and the way you understand and relate to things around you. It can also go by different names, such as clinical depression, major depressive disorder, or major depression. Depression can come up for no reason, and it lasts for a long time. It's much more than sadness or low mood. People who experience depression may feel worthless or hopeless. They may feel unreasonable guilty. Some people may experience depression as anger or irritability. It may be hard to concentrate or make decisions. Most people lose interest in things that they used to enjoy and may isolate themselves from others. There are also physical signs of depression, such as problems with sleep, appetite and energy and unexplainable aches or pains. Some may experience difficult thoughts about death or ending their life (suicide). Depression lasts longer than two weeks, doesn't usually go away on its own, and impacts your life. It's a real illness, and it is very treatable. It's important to seek help if you're concerned about depression.\n",
      "2024-10-27 20:33:15,871 - INFO - Top 3 Results:\n",
      "2024-10-27 20:33:15,871 - INFO - 1. Response: sadness is a normal reaction to a loss, disappointment, problems, or other difficult situations. feeling sad from time to time is just another part of being human. in these cases, feelings of sadness go away quickly and you can go about your daily life. other ways to talk about sadness might be feeling low, feeling down, or feeling blue.a person may say they are feeling depressed, but if it goes away on its own and doesnt impact life in a big way, it probably isnt the illness of depression. depression is a mental illness that affects your mood, the way you understand yourself, and the way you understand and relate to things around you. it can also go by different names, such as clinical depression, major depressive disorder, or major depression. depression can come up for no reason, and it lasts for a long time. its much more than sadness or low mood. people who experience depression may feel worthless or hopeless. they may feel unreasonable guilty. some people may experience depression as anger or irritability. it may be hard to concentrate or make decisions. most people lose interest in things that they used to enjoy and may isolate themselves from others. there are also physical signs of depression, such as problems with sleep, appetite and energy and unexplainable aches or pains. some may experience difficult thoughts about death or ending their life suicide. depression lasts longer than two weeks, doesnt usually go away on its own, and impacts your life. its a real illness, and it is very treatable. its important to seek help if youre concerned about depression.\n",
      "2024-10-27 20:33:15,872 - INFO -    Score: 0.85553074\n",
      "2024-10-27 20:33:15,872 - INFO - 2. Response: a mental health disorder characterised by persistently depressed mood or loss of interest in activities, causing significant impairment in daily life.\n",
      "2024-10-27 20:33:15,873 - INFO -    Score: 0.84044266\n",
      "2024-10-27 20:33:15,874 - INFO - 3. Response: stress and anxiety are often used interchangeably, and there is overlap between stress and anxiety. stress is related to the same fight, flight, or freeze response as anxiety, and the physical sensations of anxiety and stress may be very similar. the cause of stress and anxiety are usually different, however. stress focuses on mainly external pressures on us that were finding hard to cope with. when we are stressed, we usually know what were stressed about, and the symptoms of stress typically disappear after the stressful situation is over. anxiety, on the other hand, isnt always as easy to figure out. anxiety focuses on worries or fears about things that could threaten us, as well as anxiety about the anxiety itself. stress and anxiety are both part of being human, but both can be problems if they last for a long time or have an impact on our wellbeing or daily life.\n",
      "2024-10-27 20:33:15,874 - INFO -    Score: 0.74838233\n",
      "2024-10-27 20:33:15,875 - INFO - Match found at rank 1 with similarity 0.9863945578231292\n",
      "2024-10-27 20:33:15,879 - INFO - Metrics for current query: {'hit_rate': 1, 'mrr': 1.0, 'ndcg': 0.9870653656426098, 'precision': 0.2, 'recall': 1, 'f1': 0.33333333333333337}\n",
      "2024-10-27 20:33:15,879 - INFO - \n",
      "Method: semantic_search_combined\n",
      "2024-10-27 20:33:15,881 - INFO - Use pytorch device_name: cpu\n",
      "2024-10-27 20:33:15,881 - INFO - Load pretrained SentenceTransformer: sentence-transformers/all-mpnet-base-v2\n"
     ]
    },
    {
     "data": {
      "application/vnd.jupyter.widget-view+json": {
       "model_id": "0cc7b5bbac7c42199f287f2931cbb533",
       "version_major": 2,
       "version_minor": 0
      },
      "text/plain": [
       "Batches:   0%|          | 0/1 [00:00<?, ?it/s]"
      ]
     },
     "metadata": {},
     "output_type": "display_data"
    },
    {
     "name": "stderr",
     "output_type": "stream",
     "text": [
      "2024-10-27 20:33:18,174 - INFO - Use pytorch device_name: cpu\n",
      "2024-10-27 20:33:18,175 - INFO - Load pretrained SentenceTransformer: sentence-transformers/all-mpnet-base-v2\n"
     ]
    },
    {
     "data": {
      "application/vnd.jupyter.widget-view+json": {
       "model_id": "bf802c9697804b0cabc6d6b4be3e7d45",
       "version_major": 2,
       "version_minor": 0
      },
      "text/plain": [
       "Batches:   0%|          | 0/1 [00:00<?, ?it/s]"
      ]
     },
     "metadata": {},
     "output_type": "display_data"
    },
    {
     "name": "stderr",
     "output_type": "stream",
     "text": [
      "2024-10-27 20:33:19,609 - INFO - Use pytorch device_name: cpu\n",
      "2024-10-27 20:33:19,610 - INFO - Load pretrained SentenceTransformer: sentence-transformers/all-mpnet-base-v2\n"
     ]
    },
    {
     "data": {
      "application/vnd.jupyter.widget-view+json": {
       "model_id": "5c05edf20c3e4de4a11b54ff3bce8255",
       "version_major": 2,
       "version_minor": 0
      },
      "text/plain": [
       "Batches:   0%|          | 0/1 [00:00<?, ?it/s]"
      ]
     },
     "metadata": {},
     "output_type": "display_data"
    },
    {
     "name": "stderr",
     "output_type": "stream",
     "text": [
      "2024-10-27 20:33:21,068 - INFO - Use pytorch device_name: cpu\n",
      "2024-10-27 20:33:21,069 - INFO - Load pretrained SentenceTransformer: sentence-transformers/all-mpnet-base-v2\n"
     ]
    },
    {
     "data": {
      "application/vnd.jupyter.widget-view+json": {
       "model_id": "23263dfde84749138395c5900f98b8b3",
       "version_major": 2,
       "version_minor": 0
      },
      "text/plain": [
       "Batches:   0%|          | 0/1 [00:00<?, ?it/s]"
      ]
     },
     "metadata": {},
     "output_type": "display_data"
    },
    {
     "name": "stderr",
     "output_type": "stream",
     "text": [
      "2024-10-27 20:33:22,435 - INFO - Use pytorch device_name: cpu\n",
      "2024-10-27 20:33:22,435 - INFO - Load pretrained SentenceTransformer: sentence-transformers/all-mpnet-base-v2\n"
     ]
    },
    {
     "data": {
      "application/vnd.jupyter.widget-view+json": {
       "model_id": "1044226b3d6a46cd9c16275b96447bf2",
       "version_major": 2,
       "version_minor": 0
      },
      "text/plain": [
       "Batches:   0%|          | 0/1 [00:00<?, ?it/s]"
      ]
     },
     "metadata": {},
     "output_type": "display_data"
    },
    {
     "name": "stderr",
     "output_type": "stream",
     "text": [
      "2024-10-27 20:33:23,989 - INFO - POST http://elasticsearch:9200/qa_index_2/_search [status:200 duration:0.020s]\n",
      "2024-10-27 20:33:23,990 - INFO - \n",
      "Ground Truth: Sadness is a normal reaction to a loss, disappointment, problems, or other difficult situations. Feeling sad from time to time is just another part of being human. In these cases, feelings of sadness go away quickly and you can go about your daily life. Other ways to talk about sadness might be feeling low, feeling down, or feeling blue. A person may say they are feeling depressed, but if it goes away on its own and doesn't impact life in a big way, it probably isn't the illness of depression. Depression is a mental illness that affects your mood, the way you understand yourself, and the way you understand and relate to things around you. It can also go by different names, such as clinical depression, major depressive disorder, or major depression. Depression can come up for no reason, and it lasts for a long time. It's much more than sadness or low mood. People who experience depression may feel worthless or hopeless. They may feel unreasonable guilty. Some people may experience depression as anger or irritability. It may be hard to concentrate or make decisions. Most people lose interest in things that they used to enjoy and may isolate themselves from others. There are also physical signs of depression, such as problems with sleep, appetite and energy and unexplainable aches or pains. Some may experience difficult thoughts about death or ending their life (suicide). Depression lasts longer than two weeks, doesn't usually go away on its own, and impacts your life. It's a real illness, and it is very treatable. It's important to seek help if you're concerned about depression.\n",
      "2024-10-27 20:33:23,991 - INFO - Top 3 Results:\n",
      "2024-10-27 20:33:23,991 - INFO - 1. Response: sadness is a normal reaction to a loss, disappointment, problems, or other difficult situations. feeling sad from time to time is just another part of being human. in these cases, feelings of sadness go away quickly and you can go about your daily life. other ways to talk about sadness might be feeling low, feeling down, or feeling blue.a person may say they are feeling depressed, but if it goes away on its own and doesnt impact life in a big way, it probably isnt the illness of depression. depression is a mental illness that affects your mood, the way you understand yourself, and the way you understand and relate to things around you. it can also go by different names, such as clinical depression, major depressive disorder, or major depression. depression can come up for no reason, and it lasts for a long time. its much more than sadness or low mood. people who experience depression may feel worthless or hopeless. they may feel unreasonable guilty. some people may experience depression as anger or irritability. it may be hard to concentrate or make decisions. most people lose interest in things that they used to enjoy and may isolate themselves from others. there are also physical signs of depression, such as problems with sleep, appetite and energy and unexplainable aches or pains. some may experience difficult thoughts about death or ending their life suicide. depression lasts longer than two weeks, doesnt usually go away on its own, and impacts your life. its a real illness, and it is very treatable. its important to seek help if youre concerned about depression.\n",
      "2024-10-27 20:33:23,992 - INFO -    Score: 0.8558147\n",
      "2024-10-27 20:33:23,992 - INFO - 2. Response: a mental health disorder characterised by persistently depressed mood or loss of interest in activities, causing significant impairment in daily life.\n",
      "2024-10-27 20:33:23,993 - INFO -    Score: 0.8341098\n",
      "2024-10-27 20:33:23,994 - INFO - 3. Response: talk to me. tell me more. it helps if you open up yourself to someone else.\n",
      "2024-10-27 20:33:23,994 - INFO -    Score: 0.80948544\n",
      "2024-10-27 20:33:23,995 - INFO - Match found at rank 1 with similarity 0.9863945578231292\n",
      "2024-10-27 20:33:23,998 - INFO - Metrics for current query: {'hit_rate': 1, 'mrr': 1.0, 'ndcg': 0.9854373507092838, 'precision': 0.2, 'recall': 1, 'f1': 0.33333333333333337}\n",
      "2024-10-27 20:33:23,999 - INFO - \n",
      "Method: text_search\n",
      "2024-10-27 20:33:24,024 - INFO - POST http://elasticsearch:9200/qa_index_2/_search [status:200 duration:0.025s]\n",
      "2024-10-27 20:33:24,031 - INFO - \n",
      "Ground Truth: Sadness is a normal reaction to a loss, disappointment, problems, or other difficult situations. Feeling sad from time to time is just another part of being human. In these cases, feelings of sadness go away quickly and you can go about your daily life. Other ways to talk about sadness might be feeling low, feeling down, or feeling blue. A person may say they are feeling depressed, but if it goes away on its own and doesn't impact life in a big way, it probably isn't the illness of depression. Depression is a mental illness that affects your mood, the way you understand yourself, and the way you understand and relate to things around you. It can also go by different names, such as clinical depression, major depressive disorder, or major depression. Depression can come up for no reason, and it lasts for a long time. It's much more than sadness or low mood. People who experience depression may feel worthless or hopeless. They may feel unreasonable guilty. Some people may experience depression as anger or irritability. It may be hard to concentrate or make decisions. Most people lose interest in things that they used to enjoy and may isolate themselves from others. There are also physical signs of depression, such as problems with sleep, appetite and energy and unexplainable aches or pains. Some may experience difficult thoughts about death or ending their life (suicide). Depression lasts longer than two weeks, doesn't usually go away on its own, and impacts your life. It's a real illness, and it is very treatable. It's important to seek help if you're concerned about depression.\n",
      "2024-10-27 20:33:24,032 - INFO - Top 3 Results:\n",
      "2024-10-27 20:33:24,033 - INFO - 1. Response: sadness is a normal reaction to a loss, disappointment, problems, or other difficult situations. feeling sad from time to time is just another part of being human. in these cases, feelings of sadness go away quickly and you can go about your daily life. other ways to talk about sadness might be feeling low, feeling down, or feeling blue.a person may say they are feeling depressed, but if it goes away on its own and doesnt impact life in a big way, it probably isnt the illness of depression. depression is a mental illness that affects your mood, the way you understand yourself, and the way you understand and relate to things around you. it can also go by different names, such as clinical depression, major depressive disorder, or major depression. depression can come up for no reason, and it lasts for a long time. its much more than sadness or low mood. people who experience depression may feel worthless or hopeless. they may feel unreasonable guilty. some people may experience depression as anger or irritability. it may be hard to concentrate or make decisions. most people lose interest in things that they used to enjoy and may isolate themselves from others. there are also physical signs of depression, such as problems with sleep, appetite and energy and unexplainable aches or pains. some may experience difficult thoughts about death or ending their life suicide. depression lasts longer than two weeks, doesnt usually go away on its own, and impacts your life. its a real illness, and it is very treatable. its important to seek help if youre concerned about depression.\n",
      "2024-10-27 20:33:24,034 - INFO -    Score: 44.283455\n",
      "2024-10-27 20:33:24,035 - INFO - 2. Response: stress and anxiety are often used interchangeably, and there is overlap between stress and anxiety. stress is related to the same fight, flight, or freeze response as anxiety, and the physical sensations of anxiety and stress may be very similar. the cause of stress and anxiety are usually different, however. stress focuses on mainly external pressures on us that were finding hard to cope with. when we are stressed, we usually know what were stressed about, and the symptoms of stress typically disappear after the stressful situation is over. anxiety, on the other hand, isnt always as easy to figure out. anxiety focuses on worries or fears about things that could threaten us, as well as anxiety about the anxiety itself. stress and anxiety are both part of being human, but both can be problems if they last for a long time or have an impact on our wellbeing or daily life.\n",
      "2024-10-27 20:33:24,035 - INFO -    Score: 31.248684\n",
      "2024-10-27 20:33:24,036 - INFO - 3. Response: there are many types of mental health professionals. the variety of providers and their services may be confusing. each have various levels of education, training, and may have different areas of expertise. finding the professional who best fits your needs may require some research.\n",
      "2024-10-27 20:33:24,037 - INFO -    Score: 26.559584\n",
      "2024-10-27 20:33:24,038 - INFO - Match found at rank 1 with similarity 0.9863945578231292\n",
      "2024-10-27 20:33:24,040 - INFO - Metrics for current query: {'hit_rate': 1, 'mrr': 1.0, 'ndcg': 0.9915343930425838, 'precision': 0.2, 'recall': 1, 'f1': 0.33333333333333337}\n",
      "2024-10-27 20:33:24,042 - INFO - \n",
      "Method: combined_search\n",
      "2024-10-27 20:33:24,043 - INFO - Use pytorch device_name: cpu\n",
      "2024-10-27 20:33:24,044 - INFO - Load pretrained SentenceTransformer: sentence-transformers/all-mpnet-base-v2\n"
     ]
    },
    {
     "data": {
      "application/vnd.jupyter.widget-view+json": {
       "model_id": "703bb2f2b82b489ebff7cba92785f6f9",
       "version_major": 2,
       "version_minor": 0
      },
      "text/plain": [
       "Batches:   0%|          | 0/1 [00:00<?, ?it/s]"
      ]
     },
     "metadata": {},
     "output_type": "display_data"
    },
    {
     "name": "stderr",
     "output_type": "stream",
     "text": [
      "2024-10-27 20:33:25,404 - INFO - POST http://elasticsearch:9200/qa_index_2/_search [status:200 duration:0.016s]\n",
      "2024-10-27 20:33:25,413 - INFO - \n",
      "Ground Truth: Sadness is a normal reaction to a loss, disappointment, problems, or other difficult situations. Feeling sad from time to time is just another part of being human. In these cases, feelings of sadness go away quickly and you can go about your daily life. Other ways to talk about sadness might be feeling low, feeling down, or feeling blue. A person may say they are feeling depressed, but if it goes away on its own and doesn't impact life in a big way, it probably isn't the illness of depression. Depression is a mental illness that affects your mood, the way you understand yourself, and the way you understand and relate to things around you. It can also go by different names, such as clinical depression, major depressive disorder, or major depression. Depression can come up for no reason, and it lasts for a long time. It's much more than sadness or low mood. People who experience depression may feel worthless or hopeless. They may feel unreasonable guilty. Some people may experience depression as anger or irritability. It may be hard to concentrate or make decisions. Most people lose interest in things that they used to enjoy and may isolate themselves from others. There are also physical signs of depression, such as problems with sleep, appetite and energy and unexplainable aches or pains. Some may experience difficult thoughts about death or ending their life (suicide). Depression lasts longer than two weeks, doesn't usually go away on its own, and impacts your life. It's a real illness, and it is very treatable. It's important to seek help if you're concerned about depression.\n",
      "2024-10-27 20:33:25,415 - INFO - Top 3 Results:\n",
      "2024-10-27 20:33:25,415 - INFO - 1. Response: sadness is a normal reaction to a loss, disappointment, problems, or other difficult situations. feeling sad from time to time is just another part of being human. in these cases, feelings of sadness go away quickly and you can go about your daily life. other ways to talk about sadness might be feeling low, feeling down, or feeling blue.a person may say they are feeling depressed, but if it goes away on its own and doesnt impact life in a big way, it probably isnt the illness of depression. depression is a mental illness that affects your mood, the way you understand yourself, and the way you understand and relate to things around you. it can also go by different names, such as clinical depression, major depressive disorder, or major depression. depression can come up for no reason, and it lasts for a long time. its much more than sadness or low mood. people who experience depression may feel worthless or hopeless. they may feel unreasonable guilty. some people may experience depression as anger or irritability. it may be hard to concentrate or make decisions. most people lose interest in things that they used to enjoy and may isolate themselves from others. there are also physical signs of depression, such as problems with sleep, appetite and energy and unexplainable aches or pains. some may experience difficult thoughts about death or ending their life suicide. depression lasts longer than two weeks, doesnt usually go away on its own, and impacts your life. its a real illness, and it is very treatable. its important to seek help if youre concerned about depression.\n",
      "2024-10-27 20:33:25,416 - INFO -    Score: 4.3620844\n",
      "2024-10-27 20:33:25,417 - INFO - 2. Response: stress and anxiety are often used interchangeably, and there is overlap between stress and anxiety. stress is related to the same fight, flight, or freeze response as anxiety, and the physical sensations of anxiety and stress may be very similar. the cause of stress and anxiety are usually different, however. stress focuses on mainly external pressures on us that were finding hard to cope with. when we are stressed, we usually know what were stressed about, and the symptoms of stress typically disappear after the stressful situation is over. anxiety, on the other hand, isnt always as easy to figure out. anxiety focuses on worries or fears about things that could threaten us, as well as anxiety about the anxiety itself. stress and anxiety are both part of being human, but both can be problems if they last for a long time or have an impact on our wellbeing or daily life.\n",
      "2024-10-27 20:33:25,417 - INFO -    Score: 3.1487522\n",
      "2024-10-27 20:33:25,418 - INFO - 3. Response: there are many types of mental health professionals. the variety of providers and their services may be confusing. each have various levels of education, training, and may have different areas of expertise. finding the professional who best fits your needs may require some research.\n",
      "2024-10-27 20:33:25,418 - INFO -    Score: 2.7391167\n",
      "2024-10-27 20:33:25,419 - INFO - Match found at rank 1 with similarity 0.9863945578231292\n",
      "2024-10-27 20:33:25,421 - INFO - Metrics for current query: {'hit_rate': 1, 'mrr': 1.0, 'ndcg': 0.9995376064786949, 'precision': 0.2, 'recall': 1, 'f1': 0.33333333333333337}\n",
      "Evaluating queries:  33%|███▎      | 2/6 [00:45<01:30, 22.56s/it]2024-10-27 20:33:25,423 - INFO - \n",
      "Evaluating Query: What's the real difference between stress and anxiety?\n",
      "2024-10-27 20:33:25,423 - INFO - Ground Truth: Stress and anxiety are often used interchangeably, and there is overlap between stress and anxiety. Stress is related to the same fight, flight, or freeze response as anxiety, and the physical sensations of anxiety and stress may be very similar. The cause of stress and anxiety are usually different, however. Stress focuses on mainly external pressures on us that we're finding hard to cope with. When we are stressed, we usually know what we're stressed about, and the symptoms of stress typically disappear after the stressful situation is over. Anxiety, on the other hand, isn't always as easy to figure out. Anxiety focuses on worries or fears about things that could threaten us, as well as anxiety about the anxiety itself. Stress and anxiety are both part of being human, but both can be problems if they last for a long time or have an impact on our well-being or daily life.\n",
      "2024-10-27 20:33:25,424 - INFO - \n",
      "Method: semantic_search_question\n",
      "2024-10-27 20:33:25,425 - INFO - Use pytorch device_name: cpu\n",
      "2024-10-27 20:33:25,426 - INFO - Load pretrained SentenceTransformer: sentence-transformers/all-mpnet-base-v2\n"
     ]
    },
    {
     "data": {
      "application/vnd.jupyter.widget-view+json": {
       "model_id": "7c7ec6beed0a414ebeebe2fd4decadc8",
       "version_major": 2,
       "version_minor": 0
      },
      "text/plain": [
       "Batches:   0%|          | 0/1 [00:00<?, ?it/s]"
      ]
     },
     "metadata": {},
     "output_type": "display_data"
    },
    {
     "name": "stderr",
     "output_type": "stream",
     "text": [
      "2024-10-27 20:33:26,828 - INFO - Use pytorch device_name: cpu\n",
      "2024-10-27 20:33:26,829 - INFO - Load pretrained SentenceTransformer: sentence-transformers/all-mpnet-base-v2\n"
     ]
    },
    {
     "data": {
      "application/vnd.jupyter.widget-view+json": {
       "model_id": "2e31cbd938354637ae973be9201d6dca",
       "version_major": 2,
       "version_minor": 0
      },
      "text/plain": [
       "Batches:   0%|          | 0/1 [00:00<?, ?it/s]"
      ]
     },
     "metadata": {},
     "output_type": "display_data"
    },
    {
     "name": "stderr",
     "output_type": "stream",
     "text": [
      "2024-10-27 20:33:28,118 - INFO - Use pytorch device_name: cpu\n",
      "2024-10-27 20:33:28,119 - INFO - Load pretrained SentenceTransformer: sentence-transformers/all-mpnet-base-v2\n"
     ]
    },
    {
     "data": {
      "application/vnd.jupyter.widget-view+json": {
       "model_id": "a16486f4da5a4e868993d5be29bc0c54",
       "version_major": 2,
       "version_minor": 0
      },
      "text/plain": [
       "Batches:   0%|          | 0/1 [00:00<?, ?it/s]"
      ]
     },
     "metadata": {},
     "output_type": "display_data"
    },
    {
     "name": "stderr",
     "output_type": "stream",
     "text": [
      "2024-10-27 20:33:29,747 - INFO - Use pytorch device_name: cpu\n",
      "2024-10-27 20:33:29,747 - INFO - Load pretrained SentenceTransformer: sentence-transformers/all-mpnet-base-v2\n"
     ]
    },
    {
     "data": {
      "application/vnd.jupyter.widget-view+json": {
       "model_id": "629607d5c8cd46f4969110cd348f2034",
       "version_major": 2,
       "version_minor": 0
      },
      "text/plain": [
       "Batches:   0%|          | 0/1 [00:00<?, ?it/s]"
      ]
     },
     "metadata": {},
     "output_type": "display_data"
    },
    {
     "name": "stderr",
     "output_type": "stream",
     "text": [
      "2024-10-27 20:33:31,130 - INFO - Use pytorch device_name: cpu\n",
      "2024-10-27 20:33:31,131 - INFO - Load pretrained SentenceTransformer: sentence-transformers/all-mpnet-base-v2\n"
     ]
    },
    {
     "data": {
      "application/vnd.jupyter.widget-view+json": {
       "model_id": "5676323e8fb4494c9c9535eb9bc3b81e",
       "version_major": 2,
       "version_minor": 0
      },
      "text/plain": [
       "Batches:   0%|          | 0/1 [00:00<?, ?it/s]"
      ]
     },
     "metadata": {},
     "output_type": "display_data"
    },
    {
     "name": "stderr",
     "output_type": "stream",
     "text": [
      "2024-10-27 20:33:32,528 - INFO - POST http://elasticsearch:9200/qa_index_2/_search [status:200 duration:0.012s]\n",
      "2024-10-27 20:33:32,529 - INFO - \n",
      "Ground Truth: Stress and anxiety are often used interchangeably, and there is overlap between stress and anxiety. Stress is related to the same fight, flight, or freeze response as anxiety, and the physical sensations of anxiety and stress may be very similar. The cause of stress and anxiety are usually different, however. Stress focuses on mainly external pressures on us that we're finding hard to cope with. When we are stressed, we usually know what we're stressed about, and the symptoms of stress typically disappear after the stressful situation is over. Anxiety, on the other hand, isn't always as easy to figure out. Anxiety focuses on worries or fears about things that could threaten us, as well as anxiety about the anxiety itself. Stress and anxiety are both part of being human, but both can be problems if they last for a long time or have an impact on our well-being or daily life.\n",
      "2024-10-27 20:33:32,530 - INFO - Top 3 Results:\n",
      "2024-10-27 20:33:32,531 - INFO - 1. Response: stress and anxiety are often used interchangeably, and there is overlap between stress and anxiety. stress is related to the same fight, flight, or freeze response as anxiety, and the physical sensations of anxiety and stress may be very similar. the cause of stress and anxiety are usually different, however. stress focuses on mainly external pressures on us that were finding hard to cope with. when we are stressed, we usually know what were stressed about, and the symptoms of stress typically disappear after the stressful situation is over. anxiety, on the other hand, isnt always as easy to figure out. anxiety focuses on worries or fears about things that could threaten us, as well as anxiety about the anxiety itself. stress and anxiety are both part of being human, but both can be problems if they last for a long time or have an impact on our wellbeing or daily life.\n",
      "2024-10-27 20:33:32,532 - INFO -    Score: 0.98660636\n",
      "2024-10-27 20:33:32,533 - INFO - 2. Response: i understand that it can be scary. tell me more about it.\n",
      "2024-10-27 20:33:32,534 - INFO -    Score: 0.7953992\n",
      "2024-10-27 20:33:32,535 - INFO - 3. Response: sadness is a normal reaction to a loss, disappointment, problems, or other difficult situations. feeling sad from time to time is just another part of being human. in these cases, feelings of sadness go away quickly and you can go about your daily life. other ways to talk about sadness might be feeling low, feeling down, or feeling blue.a person may say they are feeling depressed, but if it goes away on its own and doesnt impact life in a big way, it probably isnt the illness of depression. depression is a mental illness that affects your mood, the way you understand yourself, and the way you understand and relate to things around you. it can also go by different names, such as clinical depression, major depressive disorder, or major depression. depression can come up for no reason, and it lasts for a long time. its much more than sadness or low mood. people who experience depression may feel worthless or hopeless. they may feel unreasonable guilty. some people may experience depression as anger or irritability. it may be hard to concentrate or make decisions. most people lose interest in things that they used to enjoy and may isolate themselves from others. there are also physical signs of depression, such as problems with sleep, appetite and energy and unexplainable aches or pains. some may experience difficult thoughts about death or ending their life suicide. depression lasts longer than two weeks, doesnt usually go away on its own, and impacts your life. its a real illness, and it is very treatable. its important to seek help if youre concerned about depression.\n",
      "2024-10-27 20:33:32,536 - INFO -    Score: 0.7926729\n",
      "2024-10-27 20:33:32,537 - INFO - Match found at rank 1 with similarity 1.0\n",
      "2024-10-27 20:33:32,541 - INFO - Metrics for current query: {'hit_rate': 1, 'mrr': 1.0, 'ndcg': 0.9735274969947453, 'precision': 0.2, 'recall': 1, 'f1': 0.33333333333333337}\n",
      "2024-10-27 20:33:32,542 - INFO - \n",
      "Method: semantic_search_text\n",
      "2024-10-27 20:33:32,543 - INFO - Use pytorch device_name: cpu\n",
      "2024-10-27 20:33:32,544 - INFO - Load pretrained SentenceTransformer: sentence-transformers/all-mpnet-base-v2\n"
     ]
    },
    {
     "data": {
      "application/vnd.jupyter.widget-view+json": {
       "model_id": "8f92f917f40a4c98b9806da9daa2dbc9",
       "version_major": 2,
       "version_minor": 0
      },
      "text/plain": [
       "Batches:   0%|          | 0/1 [00:00<?, ?it/s]"
      ]
     },
     "metadata": {},
     "output_type": "display_data"
    },
    {
     "name": "stderr",
     "output_type": "stream",
     "text": [
      "2024-10-27 20:33:33,851 - INFO - Use pytorch device_name: cpu\n",
      "2024-10-27 20:33:33,852 - INFO - Load pretrained SentenceTransformer: sentence-transformers/all-mpnet-base-v2\n"
     ]
    },
    {
     "data": {
      "application/vnd.jupyter.widget-view+json": {
       "model_id": "2934fd7718894761ae639896f48311fe",
       "version_major": 2,
       "version_minor": 0
      },
      "text/plain": [
       "Batches:   0%|          | 0/1 [00:00<?, ?it/s]"
      ]
     },
     "metadata": {},
     "output_type": "display_data"
    },
    {
     "name": "stderr",
     "output_type": "stream",
     "text": [
      "2024-10-27 20:33:35,153 - INFO - Use pytorch device_name: cpu\n",
      "2024-10-27 20:33:35,154 - INFO - Load pretrained SentenceTransformer: sentence-transformers/all-mpnet-base-v2\n"
     ]
    },
    {
     "data": {
      "application/vnd.jupyter.widget-view+json": {
       "model_id": "a447119aa8f04ad39be6efbecc201997",
       "version_major": 2,
       "version_minor": 0
      },
      "text/plain": [
       "Batches:   0%|          | 0/1 [00:00<?, ?it/s]"
      ]
     },
     "metadata": {},
     "output_type": "display_data"
    },
    {
     "name": "stderr",
     "output_type": "stream",
     "text": [
      "2024-10-27 20:33:36,704 - INFO - Use pytorch device_name: cpu\n",
      "2024-10-27 20:33:36,705 - INFO - Load pretrained SentenceTransformer: sentence-transformers/all-mpnet-base-v2\n"
     ]
    },
    {
     "data": {
      "application/vnd.jupyter.widget-view+json": {
       "model_id": "e7233136a1064770a086cecacc262760",
       "version_major": 2,
       "version_minor": 0
      },
      "text/plain": [
       "Batches:   0%|          | 0/1 [00:00<?, ?it/s]"
      ]
     },
     "metadata": {},
     "output_type": "display_data"
    },
    {
     "name": "stderr",
     "output_type": "stream",
     "text": [
      "2024-10-27 20:33:38,001 - INFO - Use pytorch device_name: cpu\n",
      "2024-10-27 20:33:38,002 - INFO - Load pretrained SentenceTransformer: sentence-transformers/all-mpnet-base-v2\n"
     ]
    },
    {
     "data": {
      "application/vnd.jupyter.widget-view+json": {
       "model_id": "68fc7938d6b64590abd23b6c70b3fb48",
       "version_major": 2,
       "version_minor": 0
      },
      "text/plain": [
       "Batches:   0%|          | 0/1 [00:00<?, ?it/s]"
      ]
     },
     "metadata": {},
     "output_type": "display_data"
    },
    {
     "name": "stderr",
     "output_type": "stream",
     "text": [
      "2024-10-27 20:33:39,295 - INFO - POST http://elasticsearch:9200/qa_index_2/_search [status:200 duration:0.017s]\n",
      "2024-10-27 20:33:39,296 - INFO - \n",
      "Ground Truth: Stress and anxiety are often used interchangeably, and there is overlap between stress and anxiety. Stress is related to the same fight, flight, or freeze response as anxiety, and the physical sensations of anxiety and stress may be very similar. The cause of stress and anxiety are usually different, however. Stress focuses on mainly external pressures on us that we're finding hard to cope with. When we are stressed, we usually know what we're stressed about, and the symptoms of stress typically disappear after the stressful situation is over. Anxiety, on the other hand, isn't always as easy to figure out. Anxiety focuses on worries or fears about things that could threaten us, as well as anxiety about the anxiety itself. Stress and anxiety are both part of being human, but both can be problems if they last for a long time or have an impact on our well-being or daily life.\n",
      "2024-10-27 20:33:39,297 - INFO - Top 3 Results:\n",
      "2024-10-27 20:33:39,297 - INFO - 1. Response: stress and anxiety are often used interchangeably, and there is overlap between stress and anxiety. stress is related to the same fight, flight, or freeze response as anxiety, and the physical sensations of anxiety and stress may be very similar. the cause of stress and anxiety are usually different, however. stress focuses on mainly external pressures on us that were finding hard to cope with. when we are stressed, we usually know what were stressed about, and the symptoms of stress typically disappear after the stressful situation is over. anxiety, on the other hand, isnt always as easy to figure out. anxiety focuses on worries or fears about things that could threaten us, as well as anxiety about the anxiety itself. stress and anxiety are both part of being human, but both can be problems if they last for a long time or have an impact on our wellbeing or daily life.\n",
      "2024-10-27 20:33:39,298 - INFO -    Score: 0.94723725\n",
      "2024-10-27 20:33:39,298 - INFO - 2. Response: i understand that it can be scary. tell me more about it.\n",
      "2024-10-27 20:33:39,299 - INFO -    Score: 0.7249396\n",
      "2024-10-27 20:33:39,300 - INFO - 3. Response: sadness is a normal reaction to a loss, disappointment, problems, or other difficult situations. feeling sad from time to time is just another part of being human. in these cases, feelings of sadness go away quickly and you can go about your daily life. other ways to talk about sadness might be feeling low, feeling down, or feeling blue.a person may say they are feeling depressed, but if it goes away on its own and doesnt impact life in a big way, it probably isnt the illness of depression. depression is a mental illness that affects your mood, the way you understand yourself, and the way you understand and relate to things around you. it can also go by different names, such as clinical depression, major depressive disorder, or major depression. depression can come up for no reason, and it lasts for a long time. its much more than sadness or low mood. people who experience depression may feel worthless or hopeless. they may feel unreasonable guilty. some people may experience depression as anger or irritability. it may be hard to concentrate or make decisions. most people lose interest in things that they used to enjoy and may isolate themselves from others. there are also physical signs of depression, such as problems with sleep, appetite and energy and unexplainable aches or pains. some may experience difficult thoughts about death or ending their life suicide. depression lasts longer than two weeks, doesnt usually go away on its own, and impacts your life. its a real illness, and it is very treatable. its important to seek help if youre concerned about depression.\n",
      "2024-10-27 20:33:39,301 - INFO -    Score: 0.7197926\n",
      "2024-10-27 20:33:39,301 - INFO - Match found at rank 1 with similarity 1.0\n",
      "2024-10-27 20:33:39,304 - INFO - Metrics for current query: {'hit_rate': 1, 'mrr': 1.0, 'ndcg': 0.975653569344425, 'precision': 0.2, 'recall': 1, 'f1': 0.33333333333333337}\n",
      "2024-10-27 20:33:39,304 - INFO - \n",
      "Method: semantic_search_combined\n",
      "2024-10-27 20:33:39,306 - INFO - Use pytorch device_name: cpu\n",
      "2024-10-27 20:33:39,307 - INFO - Load pretrained SentenceTransformer: sentence-transformers/all-mpnet-base-v2\n"
     ]
    },
    {
     "data": {
      "application/vnd.jupyter.widget-view+json": {
       "model_id": "6033a00bfa234bec8f749e9ed7a8345b",
       "version_major": 2,
       "version_minor": 0
      },
      "text/plain": [
       "Batches:   0%|          | 0/1 [00:00<?, ?it/s]"
      ]
     },
     "metadata": {},
     "output_type": "display_data"
    },
    {
     "name": "stderr",
     "output_type": "stream",
     "text": [
      "2024-10-27 20:33:40,652 - INFO - Use pytorch device_name: cpu\n",
      "2024-10-27 20:33:40,653 - INFO - Load pretrained SentenceTransformer: sentence-transformers/all-mpnet-base-v2\n"
     ]
    },
    {
     "data": {
      "application/vnd.jupyter.widget-view+json": {
       "model_id": "9246ca4963fd4e5aa9adb8551ad7cf0f",
       "version_major": 2,
       "version_minor": 0
      },
      "text/plain": [
       "Batches:   0%|          | 0/1 [00:00<?, ?it/s]"
      ]
     },
     "metadata": {},
     "output_type": "display_data"
    },
    {
     "name": "stderr",
     "output_type": "stream",
     "text": [
      "2024-10-27 20:33:41,990 - INFO - Use pytorch device_name: cpu\n",
      "2024-10-27 20:33:41,990 - INFO - Load pretrained SentenceTransformer: sentence-transformers/all-mpnet-base-v2\n"
     ]
    },
    {
     "data": {
      "application/vnd.jupyter.widget-view+json": {
       "model_id": "c7e6e86b52444498b875bab5245c5891",
       "version_major": 2,
       "version_minor": 0
      },
      "text/plain": [
       "Batches:   0%|          | 0/1 [00:00<?, ?it/s]"
      ]
     },
     "metadata": {},
     "output_type": "display_data"
    },
    {
     "name": "stderr",
     "output_type": "stream",
     "text": [
      "2024-10-27 20:33:43,276 - INFO - Use pytorch device_name: cpu\n",
      "2024-10-27 20:33:43,276 - INFO - Load pretrained SentenceTransformer: sentence-transformers/all-mpnet-base-v2\n"
     ]
    },
    {
     "data": {
      "application/vnd.jupyter.widget-view+json": {
       "model_id": "bf6a145d18684a0d88004d800768e9a6",
       "version_major": 2,
       "version_minor": 0
      },
      "text/plain": [
       "Batches:   0%|          | 0/1 [00:00<?, ?it/s]"
      ]
     },
     "metadata": {},
     "output_type": "display_data"
    },
    {
     "name": "stderr",
     "output_type": "stream",
     "text": [
      "2024-10-27 20:33:44,596 - INFO - Use pytorch device_name: cpu\n",
      "2024-10-27 20:33:44,597 - INFO - Load pretrained SentenceTransformer: sentence-transformers/all-mpnet-base-v2\n"
     ]
    },
    {
     "data": {
      "application/vnd.jupyter.widget-view+json": {
       "model_id": "27e58f6621494413829f8402d5f24916",
       "version_major": 2,
       "version_minor": 0
      },
      "text/plain": [
       "Batches:   0%|          | 0/1 [00:00<?, ?it/s]"
      ]
     },
     "metadata": {},
     "output_type": "display_data"
    },
    {
     "name": "stderr",
     "output_type": "stream",
     "text": [
      "2024-10-27 20:33:45,897 - INFO - POST http://elasticsearch:9200/qa_index_2/_search [status:200 duration:0.017s]\n",
      "2024-10-27 20:33:45,898 - INFO - \n",
      "Ground Truth: Stress and anxiety are often used interchangeably, and there is overlap between stress and anxiety. Stress is related to the same fight, flight, or freeze response as anxiety, and the physical sensations of anxiety and stress may be very similar. The cause of stress and anxiety are usually different, however. Stress focuses on mainly external pressures on us that we're finding hard to cope with. When we are stressed, we usually know what we're stressed about, and the symptoms of stress typically disappear after the stressful situation is over. Anxiety, on the other hand, isn't always as easy to figure out. Anxiety focuses on worries or fears about things that could threaten us, as well as anxiety about the anxiety itself. Stress and anxiety are both part of being human, but both can be problems if they last for a long time or have an impact on our well-being or daily life.\n",
      "2024-10-27 20:33:45,899 - INFO - Top 3 Results:\n",
      "2024-10-27 20:33:45,900 - INFO - 1. Response: stress and anxiety are often used interchangeably, and there is overlap between stress and anxiety. stress is related to the same fight, flight, or freeze response as anxiety, and the physical sensations of anxiety and stress may be very similar. the cause of stress and anxiety are usually different, however. stress focuses on mainly external pressures on us that were finding hard to cope with. when we are stressed, we usually know what were stressed about, and the symptoms of stress typically disappear after the stressful situation is over. anxiety, on the other hand, isnt always as easy to figure out. anxiety focuses on worries or fears about things that could threaten us, as well as anxiety about the anxiety itself. stress and anxiety are both part of being human, but both can be problems if they last for a long time or have an impact on our wellbeing or daily life.\n",
      "2024-10-27 20:33:45,902 - INFO -    Score: 0.9629657\n",
      "2024-10-27 20:33:45,903 - INFO - 2. Response: there are many types of mental health professionals. the variety of providers and their services may be confusing. each have various levels of education, training, and may have different areas of expertise. finding the professional who best fits your needs may require some research.\n",
      "2024-10-27 20:33:45,904 - INFO -    Score: 0.7487595\n",
      "2024-10-27 20:33:45,904 - INFO - 3. Response: challenges or problems with your mental health can arise from psychological, biological, and social, issues, as well as life events.\n",
      "2024-10-27 20:33:45,905 - INFO -    Score: 0.7368407\n",
      "2024-10-27 20:33:45,906 - INFO - Match found at rank 1 with similarity 1.0\n",
      "2024-10-27 20:33:45,908 - INFO - Metrics for current query: {'hit_rate': 1, 'mrr': 1.0, 'ndcg': 0.9781105207521584, 'precision': 0.2, 'recall': 1, 'f1': 0.33333333333333337}\n",
      "2024-10-27 20:33:45,909 - INFO - \n",
      "Method: text_search\n",
      "2024-10-27 20:33:45,932 - INFO - POST http://elasticsearch:9200/qa_index_2/_search [status:200 duration:0.022s]\n",
      "2024-10-27 20:33:45,940 - INFO - \n",
      "Ground Truth: Stress and anxiety are often used interchangeably, and there is overlap between stress and anxiety. Stress is related to the same fight, flight, or freeze response as anxiety, and the physical sensations of anxiety and stress may be very similar. The cause of stress and anxiety are usually different, however. Stress focuses on mainly external pressures on us that we're finding hard to cope with. When we are stressed, we usually know what we're stressed about, and the symptoms of stress typically disappear after the stressful situation is over. Anxiety, on the other hand, isn't always as easy to figure out. Anxiety focuses on worries or fears about things that could threaten us, as well as anxiety about the anxiety itself. Stress and anxiety are both part of being human, but both can be problems if they last for a long time or have an impact on our well-being or daily life.\n",
      "2024-10-27 20:33:45,941 - INFO - Top 3 Results:\n",
      "2024-10-27 20:33:45,941 - INFO - 1. Response: stress and anxiety are often used interchangeably, and there is overlap between stress and anxiety. stress is related to the same fight, flight, or freeze response as anxiety, and the physical sensations of anxiety and stress may be very similar. the cause of stress and anxiety are usually different, however. stress focuses on mainly external pressures on us that were finding hard to cope with. when we are stressed, we usually know what were stressed about, and the symptoms of stress typically disappear after the stressful situation is over. anxiety, on the other hand, isnt always as easy to figure out. anxiety focuses on worries or fears about things that could threaten us, as well as anxiety about the anxiety itself. stress and anxiety are both part of being human, but both can be problems if they last for a long time or have an impact on our wellbeing or daily life.\n",
      "2024-10-27 20:33:45,942 - INFO -    Score: 53.334892\n",
      "2024-10-27 20:33:45,942 - INFO - 2. Response: sadness is a normal reaction to a loss, disappointment, problems, or other difficult situations. feeling sad from time to time is just another part of being human. in these cases, feelings of sadness go away quickly and you can go about your daily life. other ways to talk about sadness might be feeling low, feeling down, or feeling blue.a person may say they are feeling depressed, but if it goes away on its own and doesnt impact life in a big way, it probably isnt the illness of depression. depression is a mental illness that affects your mood, the way you understand yourself, and the way you understand and relate to things around you. it can also go by different names, such as clinical depression, major depressive disorder, or major depression. depression can come up for no reason, and it lasts for a long time. its much more than sadness or low mood. people who experience depression may feel worthless or hopeless. they may feel unreasonable guilty. some people may experience depression as anger or irritability. it may be hard to concentrate or make decisions. most people lose interest in things that they used to enjoy and may isolate themselves from others. there are also physical signs of depression, such as problems with sleep, appetite and energy and unexplainable aches or pains. some may experience difficult thoughts about death or ending their life suicide. depression lasts longer than two weeks, doesnt usually go away on its own, and impacts your life. its a real illness, and it is very treatable. its important to seek help if youre concerned about depression.\n",
      "2024-10-27 20:33:45,943 - INFO -    Score: 27.666134\n",
      "2024-10-27 20:33:45,944 - INFO - 3. Response: there are many types of mental health professionals. the variety of providers and their services may be confusing. each have various levels of education, training, and may have different areas of expertise. finding the professional who best fits your needs may require some research.\n",
      "2024-10-27 20:33:45,945 - INFO -    Score: 26.559584\n",
      "2024-10-27 20:33:45,945 - INFO - Match found at rank 1 with similarity 1.0\n",
      "2024-10-27 20:33:45,948 - INFO - Metrics for current query: {'hit_rate': 1, 'mrr': 1.0, 'ndcg': 0.9982383703201055, 'precision': 0.2, 'recall': 1, 'f1': 0.33333333333333337}\n",
      "2024-10-27 20:33:45,949 - INFO - \n",
      "Method: combined_search\n",
      "2024-10-27 20:33:45,952 - INFO - Use pytorch device_name: cpu\n",
      "2024-10-27 20:33:45,953 - INFO - Load pretrained SentenceTransformer: sentence-transformers/all-mpnet-base-v2\n"
     ]
    },
    {
     "data": {
      "application/vnd.jupyter.widget-view+json": {
       "model_id": "05927621e47d4853ae8467064061a710",
       "version_major": 2,
       "version_minor": 0
      },
      "text/plain": [
       "Batches:   0%|          | 0/1 [00:00<?, ?it/s]"
      ]
     },
     "metadata": {},
     "output_type": "display_data"
    },
    {
     "name": "stderr",
     "output_type": "stream",
     "text": [
      "2024-10-27 20:33:47,319 - INFO - POST http://elasticsearch:9200/qa_index_2/_search [status:200 duration:0.019s]\n",
      "2024-10-27 20:33:47,326 - INFO - \n",
      "Ground Truth: Stress and anxiety are often used interchangeably, and there is overlap between stress and anxiety. Stress is related to the same fight, flight, or freeze response as anxiety, and the physical sensations of anxiety and stress may be very similar. The cause of stress and anxiety are usually different, however. Stress focuses on mainly external pressures on us that we're finding hard to cope with. When we are stressed, we usually know what we're stressed about, and the symptoms of stress typically disappear after the stressful situation is over. Anxiety, on the other hand, isn't always as easy to figure out. Anxiety focuses on worries or fears about things that could threaten us, as well as anxiety about the anxiety itself. Stress and anxiety are both part of being human, but both can be problems if they last for a long time or have an impact on our well-being or daily life.\n",
      "2024-10-27 20:33:47,327 - INFO - Top 3 Results:\n",
      "2024-10-27 20:33:47,328 - INFO - 1. Response: stress and anxiety are often used interchangeably, and there is overlap between stress and anxiety. stress is related to the same fight, flight, or freeze response as anxiety, and the physical sensations of anxiety and stress may be very similar. the cause of stress and anxiety are usually different, however. stress focuses on mainly external pressures on us that were finding hard to cope with. when we are stressed, we usually know what were stressed about, and the symptoms of stress typically disappear after the stressful situation is over. anxiety, on the other hand, isnt always as easy to figure out. anxiety focuses on worries or fears about things that could threaten us, as well as anxiety about the anxiety itself. stress and anxiety are both part of being human, but both can be problems if they last for a long time or have an impact on our wellbeing or daily life.\n",
      "2024-10-27 20:33:47,328 - INFO -    Score: 5.2422504\n",
      "2024-10-27 20:33:47,329 - INFO - 2. Response: sadness is a normal reaction to a loss, disappointment, problems, or other difficult situations. feeling sad from time to time is just another part of being human. in these cases, feelings of sadness go away quickly and you can go about your daily life. other ways to talk about sadness might be feeling low, feeling down, or feeling blue.a person may say they are feeling depressed, but if it goes away on its own and doesnt impact life in a big way, it probably isnt the illness of depression. depression is a mental illness that affects your mood, the way you understand yourself, and the way you understand and relate to things around you. it can also go by different names, such as clinical depression, major depressive disorder, or major depression. depression can come up for no reason, and it lasts for a long time. its much more than sadness or low mood. people who experience depression may feel worthless or hopeless. they may feel unreasonable guilty. some people may experience depression as anger or irritability. it may be hard to concentrate or make decisions. most people lose interest in things that they used to enjoy and may isolate themselves from others. there are also physical signs of depression, such as problems with sleep, appetite and energy and unexplainable aches or pains. some may experience difficult thoughts about death or ending their life suicide. depression lasts longer than two weeks, doesnt usually go away on its own, and impacts your life. its a real illness, and it is very treatable. its important to seek help if youre concerned about depression.\n",
      "2024-10-27 20:33:47,329 - INFO -    Score: 2.8315802\n",
      "2024-10-27 20:33:47,330 - INFO - 3. Response: there are many types of mental health professionals. the variety of providers and their services may be confusing. each have various levels of education, training, and may have different areas of expertise. finding the professional who best fits your needs may require some research.\n",
      "2024-10-27 20:33:47,330 - INFO -    Score: 2.7135496\n",
      "2024-10-27 20:33:47,331 - INFO - Match found at rank 1 with similarity 1.0\n",
      "2024-10-27 20:33:47,334 - INFO - Metrics for current query: {'hit_rate': 1, 'mrr': 1.0, 'ndcg': 0.9982383703201055, 'precision': 0.2, 'recall': 1, 'f1': 0.33333333333333337}\n",
      "Evaluating queries:  50%|█████     | 3/6 [01:06<01:06, 22.27s/it]2024-10-27 20:33:47,336 - INFO - \n",
      "Evaluating Query: How do I know if I need to see a mental health professional?\n",
      "2024-10-27 20:33:47,336 - INFO - Ground Truth: If your beliefs, thoughts, feelings or behaviours have a significant impact on your ability to function in what might be considered a normal or ordinary way, it would be important to seek help.\n",
      "2024-10-27 20:33:47,337 - INFO - \n",
      "Method: semantic_search_question\n",
      "2024-10-27 20:33:47,339 - INFO - Use pytorch device_name: cpu\n",
      "2024-10-27 20:33:47,339 - INFO - Load pretrained SentenceTransformer: sentence-transformers/all-mpnet-base-v2\n"
     ]
    },
    {
     "data": {
      "application/vnd.jupyter.widget-view+json": {
       "model_id": "67fb6196fe8e48608deee690b5a0b687",
       "version_major": 2,
       "version_minor": 0
      },
      "text/plain": [
       "Batches:   0%|          | 0/1 [00:00<?, ?it/s]"
      ]
     },
     "metadata": {},
     "output_type": "display_data"
    },
    {
     "name": "stderr",
     "output_type": "stream",
     "text": [
      "2024-10-27 20:33:48,631 - INFO - Use pytorch device_name: cpu\n",
      "2024-10-27 20:33:48,632 - INFO - Load pretrained SentenceTransformer: sentence-transformers/all-mpnet-base-v2\n"
     ]
    },
    {
     "data": {
      "application/vnd.jupyter.widget-view+json": {
       "model_id": "708f8b70ac914f8bb6fcdd6b8fbdc19d",
       "version_major": 2,
       "version_minor": 0
      },
      "text/plain": [
       "Batches:   0%|          | 0/1 [00:00<?, ?it/s]"
      ]
     },
     "metadata": {},
     "output_type": "display_data"
    },
    {
     "name": "stderr",
     "output_type": "stream",
     "text": [
      "2024-10-27 20:33:49,942 - INFO - Use pytorch device_name: cpu\n",
      "2024-10-27 20:33:49,943 - INFO - Load pretrained SentenceTransformer: sentence-transformers/all-mpnet-base-v2\n"
     ]
    },
    {
     "data": {
      "application/vnd.jupyter.widget-view+json": {
       "model_id": "e692132aeef444dd8ecc14a777b17139",
       "version_major": 2,
       "version_minor": 0
      },
      "text/plain": [
       "Batches:   0%|          | 0/1 [00:00<?, ?it/s]"
      ]
     },
     "metadata": {},
     "output_type": "display_data"
    },
    {
     "name": "stderr",
     "output_type": "stream",
     "text": [
      "2024-10-27 20:33:51,411 - INFO - Use pytorch device_name: cpu\n",
      "2024-10-27 20:33:51,411 - INFO - Load pretrained SentenceTransformer: sentence-transformers/all-mpnet-base-v2\n"
     ]
    },
    {
     "data": {
      "application/vnd.jupyter.widget-view+json": {
       "model_id": "5645922d8c9d4558901238e845f7fe5d",
       "version_major": 2,
       "version_minor": 0
      },
      "text/plain": [
       "Batches:   0%|          | 0/1 [00:00<?, ?it/s]"
      ]
     },
     "metadata": {},
     "output_type": "display_data"
    },
    {
     "name": "stderr",
     "output_type": "stream",
     "text": [
      "2024-10-27 20:33:52,717 - INFO - Use pytorch device_name: cpu\n",
      "2024-10-27 20:33:52,718 - INFO - Load pretrained SentenceTransformer: sentence-transformers/all-mpnet-base-v2\n"
     ]
    },
    {
     "data": {
      "application/vnd.jupyter.widget-view+json": {
       "model_id": "dc1e14db725441aea1ccd865255d5152",
       "version_major": 2,
       "version_minor": 0
      },
      "text/plain": [
       "Batches:   0%|          | 0/1 [00:00<?, ?it/s]"
      ]
     },
     "metadata": {},
     "output_type": "display_data"
    },
    {
     "name": "stderr",
     "output_type": "stream",
     "text": [
      "2024-10-27 20:33:54,132 - INFO - POST http://elasticsearch:9200/qa_index_2/_search [status:200 duration:0.017s]\n",
      "2024-10-27 20:33:54,133 - INFO - \n",
      "Ground Truth: If your beliefs, thoughts, feelings or behaviours have a significant impact on your ability to function in what might be considered a normal or ordinary way, it would be important to seek help.\n",
      "2024-10-27 20:33:54,134 - INFO - Top 3 Results:\n",
      "2024-10-27 20:33:54,135 - INFO - 1. Response: the most important thing is to talk to someone you trust. this might be a friend, colleague, family member, or gp. in addition to talking to someone, it may be useful to find out more information about what you are experiencing. these things may help to get some perspective on what you are experiencing, and be the start of getting help.\n",
      "2024-10-27 20:33:54,136 - INFO -    Score: 0.9160447\n",
      "2024-10-27 20:33:54,137 - INFO - 2. Response: symptoms of mental health disorders vary depending on the type and severity of the condition. the following is a list of general symptoms that may suggest a mental health disorder, particularly when multiple symptoms are expressed at once. in adults confused thinking longlasting sadness or irritability extreme highs and lows in mood excessive fear, worrying, or anxiety social withdrawal dramatic changes in eating or sleeping habits strong feelings of anger delusions or hallucinations seeing or hearing things that are not really there increasing inability to cope with daily problems and activities thoughts of suicide denial of obvious problems many unexplained physical problems abuse of drugs andor alcohol in older children and preteens abuse of drugs andor alcohol inability to cope with daily problems and activities changes in sleeping andor eating habits excessive complaints of physical problems defying authority, skipping school, stealing, or damaging property intense fear of gaining weight longlasting negative mood, often along with poor appetite and thoughts of death frequent outbursts of anger in younger children changes in school performance poor grades despite strong efforts excessive worrying or anxiety hyperactivity persistent nightmares persistent disobedience andor aggressive behavior frequent temper tantrums\n",
      "2024-10-27 20:33:54,137 - INFO -    Score: 0.8951576\n",
      "2024-10-27 20:33:54,138 - INFO - 3. Response: oh thats really great. id be willing to answer anything that i know about it.\n",
      "2024-10-27 20:33:54,139 - INFO -    Score: 0.88683295\n",
      "2024-10-27 20:33:54,142 - INFO - Metrics for current query: {'hit_rate': 0, 'mrr': 0, 'ndcg': 0.9900698254389015, 'precision': 0, 'recall': 0, 'f1': 0}\n",
      "2024-10-27 20:33:54,143 - INFO - \n",
      "Method: semantic_search_text\n",
      "2024-10-27 20:33:54,145 - INFO - Use pytorch device_name: cpu\n",
      "2024-10-27 20:33:54,146 - INFO - Load pretrained SentenceTransformer: sentence-transformers/all-mpnet-base-v2\n"
     ]
    },
    {
     "data": {
      "application/vnd.jupyter.widget-view+json": {
       "model_id": "e844dcaa01724e708a6214d6c28dc207",
       "version_major": 2,
       "version_minor": 0
      },
      "text/plain": [
       "Batches:   0%|          | 0/1 [00:00<?, ?it/s]"
      ]
     },
     "metadata": {},
     "output_type": "display_data"
    },
    {
     "name": "stderr",
     "output_type": "stream",
     "text": [
      "2024-10-27 20:33:55,721 - INFO - Use pytorch device_name: cpu\n",
      "2024-10-27 20:33:55,722 - INFO - Load pretrained SentenceTransformer: sentence-transformers/all-mpnet-base-v2\n"
     ]
    },
    {
     "data": {
      "application/vnd.jupyter.widget-view+json": {
       "model_id": "22d0b860bf424a778ae8b9bc27ffdec4",
       "version_major": 2,
       "version_minor": 0
      },
      "text/plain": [
       "Batches:   0%|          | 0/1 [00:00<?, ?it/s]"
      ]
     },
     "metadata": {},
     "output_type": "display_data"
    },
    {
     "name": "stderr",
     "output_type": "stream",
     "text": [
      "2024-10-27 20:33:57,035 - INFO - Use pytorch device_name: cpu\n",
      "2024-10-27 20:33:57,036 - INFO - Load pretrained SentenceTransformer: sentence-transformers/all-mpnet-base-v2\n"
     ]
    },
    {
     "data": {
      "application/vnd.jupyter.widget-view+json": {
       "model_id": "81160de931ae4280a82e57593cc8de6b",
       "version_major": 2,
       "version_minor": 0
      },
      "text/plain": [
       "Batches:   0%|          | 0/1 [00:00<?, ?it/s]"
      ]
     },
     "metadata": {},
     "output_type": "display_data"
    },
    {
     "name": "stderr",
     "output_type": "stream",
     "text": [
      "2024-10-27 20:33:58,546 - INFO - Use pytorch device_name: cpu\n",
      "2024-10-27 20:33:58,547 - INFO - Load pretrained SentenceTransformer: sentence-transformers/all-mpnet-base-v2\n"
     ]
    },
    {
     "data": {
      "application/vnd.jupyter.widget-view+json": {
       "model_id": "ce9ef5b8c6564f5fbde3dee32cc440c2",
       "version_major": 2,
       "version_minor": 0
      },
      "text/plain": [
       "Batches:   0%|          | 0/1 [00:00<?, ?it/s]"
      ]
     },
     "metadata": {},
     "output_type": "display_data"
    },
    {
     "name": "stderr",
     "output_type": "stream",
     "text": [
      "2024-10-27 20:34:00,379 - INFO - Use pytorch device_name: cpu\n",
      "2024-10-27 20:34:00,380 - INFO - Load pretrained SentenceTransformer: sentence-transformers/all-mpnet-base-v2\n"
     ]
    },
    {
     "data": {
      "application/vnd.jupyter.widget-view+json": {
       "model_id": "c4d00b8601974a91a1fba1e0edc176c4",
       "version_major": 2,
       "version_minor": 0
      },
      "text/plain": [
       "Batches:   0%|          | 0/1 [00:00<?, ?it/s]"
      ]
     },
     "metadata": {},
     "output_type": "display_data"
    },
    {
     "name": "stderr",
     "output_type": "stream",
     "text": [
      "2024-10-27 20:34:01,785 - INFO - POST http://elasticsearch:9200/qa_index_2/_search [status:200 duration:0.015s]\n",
      "2024-10-27 20:34:01,787 - INFO - \n",
      "Ground Truth: If your beliefs, thoughts, feelings or behaviours have a significant impact on your ability to function in what might be considered a normal or ordinary way, it would be important to seek help.\n",
      "2024-10-27 20:34:01,787 - INFO - Top 3 Results:\n",
      "2024-10-27 20:34:01,788 - INFO - 1. Response: symptoms of mental health disorders vary depending on the type and severity of the condition. the following is a list of general symptoms that may suggest a mental health disorder, particularly when multiple symptoms are expressed at once. in adults confused thinking longlasting sadness or irritability extreme highs and lows in mood excessive fear, worrying, or anxiety social withdrawal dramatic changes in eating or sleeping habits strong feelings of anger delusions or hallucinations seeing or hearing things that are not really there increasing inability to cope with daily problems and activities thoughts of suicide denial of obvious problems many unexplained physical problems abuse of drugs andor alcohol in older children and preteens abuse of drugs andor alcohol inability to cope with daily problems and activities changes in sleeping andor eating habits excessive complaints of physical problems defying authority, skipping school, stealing, or damaging property intense fear of gaining weight longlasting negative mood, often along with poor appetite and thoughts of death frequent outbursts of anger in younger children changes in school performance poor grades despite strong efforts excessive worrying or anxiety hyperactivity persistent nightmares persistent disobedience andor aggressive behavior frequent temper tantrums\n",
      "2024-10-27 20:34:01,789 - INFO -    Score: 0.8340008\n",
      "2024-10-27 20:34:01,789 - INFO - 2. Response: mental illnesses are health conditions that disrupt a persons thoughts, emotions, relationships, and daily functioning. they are associated with distress and diminished capacity to engage in the ordinary activities of daily life. mental illnesses fall along a continuum of severity some are fairly mild and only interfere with some aspects of life, such as certain phobias. on the other end of the spectrum lie serious mental illnesses, which result in major functional impairment and interference with daily life. these include such disorders as major depression, schizophrenia, and bipolar disorder, and may require that the person receives care in a hospital. it is important to know that mental illnesses are medical conditions that have nothing to do with a persons character, intelligence, or willpower. just as diabetes is a disorder of the pancreas, mental illness is a medical condition due to the brains biology. similarly to how one would treat diabetes with medication and insulin, mental illness is treatable with a combination of medication and social support. these treatments are highly effective, with 7090 percent of individuals receiving treatment experiencing a reduction in symptoms and an improved quality of life. with the proper treatment, it is very possible for a person with mental illness to be independent and successful.\n",
      "2024-10-27 20:34:01,790 - INFO -    Score: 0.8245158\n",
      "2024-10-27 20:34:01,791 - INFO - 3. Response: oh thats really great. id be willing to answer anything that i know about it.\n",
      "2024-10-27 20:34:01,792 - INFO -    Score: 0.8130827\n",
      "2024-10-27 20:34:01,795 - INFO - Metrics for current query: {'hit_rate': 0, 'mrr': 0, 'ndcg': 0.7709188470752696, 'precision': 0, 'recall': 0, 'f1': 0}\n",
      "2024-10-27 20:34:01,796 - INFO - \n",
      "Method: semantic_search_combined\n",
      "2024-10-27 20:34:01,798 - INFO - Use pytorch device_name: cpu\n",
      "2024-10-27 20:34:01,798 - INFO - Load pretrained SentenceTransformer: sentence-transformers/all-mpnet-base-v2\n"
     ]
    },
    {
     "data": {
      "application/vnd.jupyter.widget-view+json": {
       "model_id": "833f7d313c564bff863c0967c41e9d1e",
       "version_major": 2,
       "version_minor": 0
      },
      "text/plain": [
       "Batches:   0%|          | 0/1 [00:00<?, ?it/s]"
      ]
     },
     "metadata": {},
     "output_type": "display_data"
    },
    {
     "name": "stderr",
     "output_type": "stream",
     "text": [
      "2024-10-27 20:34:03,109 - INFO - Use pytorch device_name: cpu\n",
      "2024-10-27 20:34:03,110 - INFO - Load pretrained SentenceTransformer: sentence-transformers/all-mpnet-base-v2\n"
     ]
    },
    {
     "data": {
      "application/vnd.jupyter.widget-view+json": {
       "model_id": "30b169e7235347c586ff2f86d0ef82ae",
       "version_major": 2,
       "version_minor": 0
      },
      "text/plain": [
       "Batches:   0%|          | 0/1 [00:00<?, ?it/s]"
      ]
     },
     "metadata": {},
     "output_type": "display_data"
    },
    {
     "name": "stderr",
     "output_type": "stream",
     "text": [
      "2024-10-27 20:34:04,479 - INFO - Use pytorch device_name: cpu\n",
      "2024-10-27 20:34:04,480 - INFO - Load pretrained SentenceTransformer: sentence-transformers/all-mpnet-base-v2\n"
     ]
    },
    {
     "data": {
      "application/vnd.jupyter.widget-view+json": {
       "model_id": "349638a780214241bedcc914a34de5ce",
       "version_major": 2,
       "version_minor": 0
      },
      "text/plain": [
       "Batches:   0%|          | 0/1 [00:00<?, ?it/s]"
      ]
     },
     "metadata": {},
     "output_type": "display_data"
    },
    {
     "name": "stderr",
     "output_type": "stream",
     "text": [
      "2024-10-27 20:34:05,917 - INFO - Use pytorch device_name: cpu\n",
      "2024-10-27 20:34:05,918 - INFO - Load pretrained SentenceTransformer: sentence-transformers/all-mpnet-base-v2\n"
     ]
    },
    {
     "data": {
      "application/vnd.jupyter.widget-view+json": {
       "model_id": "d7f0c81a21624493b16f9610772c2614",
       "version_major": 2,
       "version_minor": 0
      },
      "text/plain": [
       "Batches:   0%|          | 0/1 [00:00<?, ?it/s]"
      ]
     },
     "metadata": {},
     "output_type": "display_data"
    },
    {
     "name": "stderr",
     "output_type": "stream",
     "text": [
      "2024-10-27 20:34:07,378 - INFO - Use pytorch device_name: cpu\n",
      "2024-10-27 20:34:07,379 - INFO - Load pretrained SentenceTransformer: sentence-transformers/all-mpnet-base-v2\n"
     ]
    },
    {
     "data": {
      "application/vnd.jupyter.widget-view+json": {
       "model_id": "567da76e964642a8af33f2963f8a438a",
       "version_major": 2,
       "version_minor": 0
      },
      "text/plain": [
       "Batches:   0%|          | 0/1 [00:00<?, ?it/s]"
      ]
     },
     "metadata": {},
     "output_type": "display_data"
    },
    {
     "name": "stderr",
     "output_type": "stream",
     "text": [
      "2024-10-27 20:34:08,759 - INFO - POST http://elasticsearch:9200/qa_index_2/_search [status:200 duration:0.015s]\n",
      "2024-10-27 20:34:08,761 - INFO - \n",
      "Ground Truth: If your beliefs, thoughts, feelings or behaviours have a significant impact on your ability to function in what might be considered a normal or ordinary way, it would be important to seek help.\n",
      "2024-10-27 20:34:08,761 - INFO - Top 3 Results:\n",
      "2024-10-27 20:34:08,762 - INFO - 1. Response: the most important thing is to talk to someone you trust. this might be a friend, colleague, family member, or gp. in addition to talking to someone, it may be useful to find out more information about what you are experiencing. these things may help to get some perspective on what you are experiencing, and be the start of getting help.\n",
      "2024-10-27 20:34:08,763 - INFO -    Score: 0.8921716\n",
      "2024-10-27 20:34:08,763 - INFO - 2. Response: feeling comfortable with the professional you or your child is working with is critical to the success of the treatment. finding the professional who best fits your needs may require research. start by searching for providers in your area.\n",
      "2024-10-27 20:34:08,764 - INFO -    Score: 0.8551762\n",
      "2024-10-27 20:34:08,765 - INFO - 3. Response: feeling comfortable with the professional you or your child is working with is critical to the success of your treatment. finding the professional who best fits your needs may require some research.\n",
      "2024-10-27 20:34:08,765 - INFO -    Score: 0.85508275\n",
      "2024-10-27 20:34:08,768 - INFO - Metrics for current query: {'hit_rate': 0, 'mrr': 0, 'ndcg': 0.9833310216368873, 'precision': 0, 'recall': 0, 'f1': 0}\n",
      "2024-10-27 20:34:08,769 - INFO - \n",
      "Method: text_search\n",
      "2024-10-27 20:34:08,798 - INFO - POST http://elasticsearch:9200/qa_index_2/_search [status:200 duration:0.028s]\n",
      "2024-10-27 20:34:08,805 - INFO - \n",
      "Ground Truth: If your beliefs, thoughts, feelings or behaviours have a significant impact on your ability to function in what might be considered a normal or ordinary way, it would be important to seek help.\n",
      "2024-10-27 20:34:08,806 - INFO - Top 3 Results:\n",
      "2024-10-27 20:34:08,807 - INFO - 1. Response: if your beliefs , thoughts , feelings or behaviours have a significant impact on your ability to function in what might be considered a normal or ordinary way, it would be important to seek help.\n",
      "2024-10-27 20:34:08,808 - INFO -    Score: 30.45359\n",
      "2024-10-27 20:34:08,808 - INFO - 2. Response: feeling comfortable with the professional you or your child is working with is critical to the success of the treatment. finding the professional who best fits your needs may require research. start by searching for providers in your area.\n",
      "2024-10-27 20:34:08,809 - INFO -    Score: 30.262413\n",
      "2024-10-27 20:34:08,810 - INFO - 3. Response: feeling comfortable with the professional you or your child is working with is critical to the success of your treatment. finding the professional who best fits your needs may require some research.\n",
      "2024-10-27 20:34:08,810 - INFO -    Score: 28.782827\n",
      "2024-10-27 20:34:08,811 - INFO - Match found at rank 1 with similarity 1.0\n",
      "2024-10-27 20:34:08,813 - INFO - Metrics for current query: {'hit_rate': 1, 'mrr': 1.0, 'ndcg': 0.9942686613792066, 'precision': 0.2, 'recall': 1, 'f1': 0.33333333333333337}\n",
      "2024-10-27 20:34:08,814 - INFO - \n",
      "Method: combined_search\n",
      "2024-10-27 20:34:08,816 - INFO - Use pytorch device_name: cpu\n",
      "2024-10-27 20:34:08,817 - INFO - Load pretrained SentenceTransformer: sentence-transformers/all-mpnet-base-v2\n"
     ]
    },
    {
     "data": {
      "application/vnd.jupyter.widget-view+json": {
       "model_id": "6f1db6e6b97b4ac7926228b08d93342c",
       "version_major": 2,
       "version_minor": 0
      },
      "text/plain": [
       "Batches:   0%|          | 0/1 [00:00<?, ?it/s]"
      ]
     },
     "metadata": {},
     "output_type": "display_data"
    },
    {
     "name": "stderr",
     "output_type": "stream",
     "text": [
      "2024-10-27 20:34:10,136 - INFO - POST http://elasticsearch:9200/qa_index_2/_search [status:200 duration:0.017s]\n",
      "2024-10-27 20:34:10,144 - INFO - \n",
      "Ground Truth: If your beliefs, thoughts, feelings or behaviours have a significant impact on your ability to function in what might be considered a normal or ordinary way, it would be important to seek help.\n",
      "2024-10-27 20:34:10,145 - INFO - Top 3 Results:\n",
      "2024-10-27 20:34:10,146 - INFO - 1. Response: if your beliefs , thoughts , feelings or behaviours have a significant impact on your ability to function in what might be considered a normal or ordinary way, it would be important to seek help.\n",
      "2024-10-27 20:34:10,147 - INFO -    Score: 2.5714817\n",
      "2024-10-27 20:34:10,148 - INFO - 2. Response: feeling comfortable with the professional you or your child is working with is critical to the success of the treatment. finding the professional who best fits your needs may require research. start by searching for providers in your area.\n",
      "2024-10-27 20:34:10,149 - INFO -    Score: 2.5458167\n",
      "2024-10-27 20:34:10,150 - INFO - 3. Response: the most important thing is to talk to someone you trust. this might be a friend, colleague, family member, or gp. in addition to talking to someone, it may be useful to find out more information about what you are experiencing. these things may help to get some perspective on what you are experiencing, and be the start of getting help.\n",
      "2024-10-27 20:34:10,151 - INFO -    Score: 2.4382524\n",
      "2024-10-27 20:34:10,152 - INFO - Match found at rank 1 with similarity 1.0\n",
      "2024-10-27 20:34:10,154 - INFO - Metrics for current query: {'hit_rate': 1, 'mrr': 1.0, 'ndcg': 0.9849099160179047, 'precision': 0.2, 'recall': 1, 'f1': 0.33333333333333337}\n",
      "Evaluating queries:  67%|██████▋   | 4/6 [01:29<00:44, 22.49s/it]2024-10-27 20:34:10,156 - INFO - \n",
      "Evaluating Query: What should I know before starting mental health medication?\n",
      "2024-10-27 20:34:10,157 - INFO - Ground Truth: The best source of information regarding medications is the physician prescribing them. He or she should be able to answer questions such as:\n",
      "1. What is the medication supposed to do?\n",
      "2. When should it begin to take effect, and how will I know when it is effective?\n",
      "3. How is the medication taken and for how long? What food, drinks, other medicines, and activities should be avoided while taking this medication?\n",
      "4. What are the side effects and what should be done if they occur?\n",
      "5. What do I do if a dose is missed?\n",
      "6. Is there any written information available about this medication?\n",
      "7. Are there other medications that might be appropriate?\n",
      "8. If so, why do you prefer the one you have chosen?\n",
      "9. How do you monitor medications and what symptoms indicate that they should be raised, lowered, or changed?\n",
      "10. All medications should be taken as directed. Most medications for mental illnesses do not work when taken irregularly, and extra doses can cause severe, sometimes dangerous side effects. Many psychiatric medications begin to have a beneficial effect only after they have been taken for several weeks.\n",
      "2024-10-27 20:34:10,157 - INFO - \n",
      "Method: semantic_search_question\n",
      "2024-10-27 20:34:10,159 - INFO - Use pytorch device_name: cpu\n",
      "2024-10-27 20:34:10,160 - INFO - Load pretrained SentenceTransformer: sentence-transformers/all-mpnet-base-v2\n"
     ]
    },
    {
     "data": {
      "application/vnd.jupyter.widget-view+json": {
       "model_id": "23bd9ef078e64d3f9b7f3819effc6a8d",
       "version_major": 2,
       "version_minor": 0
      },
      "text/plain": [
       "Batches:   0%|          | 0/1 [00:00<?, ?it/s]"
      ]
     },
     "metadata": {},
     "output_type": "display_data"
    },
    {
     "name": "stderr",
     "output_type": "stream",
     "text": [
      "2024-10-27 20:34:11,540 - INFO - Use pytorch device_name: cpu\n",
      "2024-10-27 20:34:11,541 - INFO - Load pretrained SentenceTransformer: sentence-transformers/all-mpnet-base-v2\n"
     ]
    },
    {
     "data": {
      "application/vnd.jupyter.widget-view+json": {
       "model_id": "3b7ded6c8cdc4ae1b43b5cfd2a504ee9",
       "version_major": 2,
       "version_minor": 0
      },
      "text/plain": [
       "Batches:   0%|          | 0/1 [00:00<?, ?it/s]"
      ]
     },
     "metadata": {},
     "output_type": "display_data"
    },
    {
     "name": "stderr",
     "output_type": "stream",
     "text": [
      "2024-10-27 20:34:13,792 - INFO - Use pytorch device_name: cpu\n",
      "2024-10-27 20:34:13,793 - INFO - Load pretrained SentenceTransformer: sentence-transformers/all-mpnet-base-v2\n"
     ]
    },
    {
     "data": {
      "application/vnd.jupyter.widget-view+json": {
       "model_id": "4466032193b540828bdd88f67cecfe52",
       "version_major": 2,
       "version_minor": 0
      },
      "text/plain": [
       "Batches:   0%|          | 0/1 [00:00<?, ?it/s]"
      ]
     },
     "metadata": {},
     "output_type": "display_data"
    },
    {
     "name": "stderr",
     "output_type": "stream",
     "text": [
      "2024-10-27 20:34:15,294 - INFO - Use pytorch device_name: cpu\n",
      "2024-10-27 20:34:15,295 - INFO - Load pretrained SentenceTransformer: sentence-transformers/all-mpnet-base-v2\n"
     ]
    },
    {
     "data": {
      "application/vnd.jupyter.widget-view+json": {
       "model_id": "6c50ca559d104c079e657743279da537",
       "version_major": 2,
       "version_minor": 0
      },
      "text/plain": [
       "Batches:   0%|          | 0/1 [00:00<?, ?it/s]"
      ]
     },
     "metadata": {},
     "output_type": "display_data"
    },
    {
     "name": "stderr",
     "output_type": "stream",
     "text": [
      "2024-10-27 20:34:17,188 - INFO - Use pytorch device_name: cpu\n",
      "2024-10-27 20:34:17,189 - INFO - Load pretrained SentenceTransformer: sentence-transformers/all-mpnet-base-v2\n"
     ]
    },
    {
     "data": {
      "application/vnd.jupyter.widget-view+json": {
       "model_id": "7ad382405d4c485d91b463c53deeda2b",
       "version_major": 2,
       "version_minor": 0
      },
      "text/plain": [
       "Batches:   0%|          | 0/1 [00:00<?, ?it/s]"
      ]
     },
     "metadata": {},
     "output_type": "display_data"
    },
    {
     "name": "stderr",
     "output_type": "stream",
     "text": [
      "2024-10-27 20:34:18,490 - INFO - POST http://elasticsearch:9200/qa_index_2/_search [status:200 duration:0.022s]\n",
      "2024-10-27 20:34:18,491 - INFO - \n",
      "Ground Truth: The best source of information regarding medications is the physician prescribing them. He or she should be able to answer questions such as:\n",
      "1. What is the medication supposed to do?\n",
      "2. When should it begin to take effect, and how will I know when it is effective?\n",
      "3. How is the medication taken and for how long? What food, drinks, other medicines, and activities should be avoided while taking this medication?\n",
      "4. What are the side effects and what should be done if they occur?\n",
      "5. What do I do if a dose is missed?\n",
      "6. Is there any written information available about this medication?\n",
      "7. Are there other medications that might be appropriate?\n",
      "8. If so, why do you prefer the one you have chosen?\n",
      "9. How do you monitor medications and what symptoms indicate that they should be raised, lowered, or changed?\n",
      "10. All medications should be taken as directed. Most medications for mental illnesses do not work when taken irregularly, and extra doses can cause severe, sometimes dangerous side effects. Many psychiatric medications begin to have a beneficial effect only after they have been taken for several weeks.\n",
      "2024-10-27 20:34:18,492 - INFO - Top 3 Results:\n",
      "2024-10-27 20:34:18,494 - INFO - 1. Response: the best source of information regarding medications is the physician prescribing them. he or she should be able to answer questions such as 1. what is the medication supposed to do? 2. when should it begin to take effect, and how will i know when it is effective? 3. how is the medication taken and for how long? what food, drinks, other medicines, and activities should be avoided while taking this medication? 4. what are the side effects and what should be done if they occur? 5. what do i do if a dose is missed? 6. is there any written information available about this medication? 7. are there other medications that might be appropriate? 8. if so, why do you prefer the one you have chosen? 9. how do you monitor medications and what symptoms indicate that they should be raised, lowered, or changed? 10. all medications should be taken as directed. most medications for mental illnesses do not work when taken irregularly, and extra doses can cause severe, sometimes dangerous side effects. many psychiatric medications begin to have a beneficial effect only after they have been taken for several weeks.\n",
      "2024-10-27 20:34:18,495 - INFO -    Score: 0.89756155\n",
      "2024-10-27 20:34:18,495 - INFO - 2. Response: mental health conditions are often treated with medication, therapy or a combination of the two. however, there are many different types of treatment available, including complementary alternative treatments, selfhelp plans, and peer support. treatments are very personal and should be discussed by the person with the mental health conditions and his or her team.\n",
      "2024-10-27 20:34:18,496 - INFO -    Score: 0.8767271\n",
      "2024-10-27 20:34:18,497 - INFO - 3. Response: the most important thing is to talk to someone you trust. this might be a friend, colleague, family member, or gp. in addition to talking to someone, it may be useful to find out more information about what you are experiencing. these things may help to get some perspective on what you are experiencing, and be the start of getting help.\n",
      "2024-10-27 20:34:18,497 - INFO -    Score: 0.8753979\n",
      "2024-10-27 20:34:18,498 - INFO - Match found at rank 1 with similarity 1.0\n",
      "2024-10-27 20:34:18,502 - INFO - Metrics for current query: {'hit_rate': 1, 'mrr': 1.0, 'ndcg': 0.9968059198777551, 'precision': 0.2, 'recall': 1, 'f1': 0.33333333333333337}\n",
      "2024-10-27 20:34:18,503 - INFO - \n",
      "Method: semantic_search_text\n",
      "2024-10-27 20:34:18,505 - INFO - Use pytorch device_name: cpu\n",
      "2024-10-27 20:34:18,506 - INFO - Load pretrained SentenceTransformer: sentence-transformers/all-mpnet-base-v2\n"
     ]
    },
    {
     "data": {
      "application/vnd.jupyter.widget-view+json": {
       "model_id": "f743de455f4147fab2bba41d29801905",
       "version_major": 2,
       "version_minor": 0
      },
      "text/plain": [
       "Batches:   0%|          | 0/1 [00:00<?, ?it/s]"
      ]
     },
     "metadata": {},
     "output_type": "display_data"
    },
    {
     "name": "stderr",
     "output_type": "stream",
     "text": [
      "2024-10-27 20:34:19,803 - INFO - Use pytorch device_name: cpu\n",
      "2024-10-27 20:34:19,804 - INFO - Load pretrained SentenceTransformer: sentence-transformers/all-mpnet-base-v2\n"
     ]
    },
    {
     "data": {
      "application/vnd.jupyter.widget-view+json": {
       "model_id": "79bf9255e3744e2bb932ad9910447fef",
       "version_major": 2,
       "version_minor": 0
      },
      "text/plain": [
       "Batches:   0%|          | 0/1 [00:00<?, ?it/s]"
      ]
     },
     "metadata": {},
     "output_type": "display_data"
    },
    {
     "name": "stderr",
     "output_type": "stream",
     "text": [
      "2024-10-27 20:34:21,136 - INFO - Use pytorch device_name: cpu\n",
      "2024-10-27 20:34:21,137 - INFO - Load pretrained SentenceTransformer: sentence-transformers/all-mpnet-base-v2\n"
     ]
    },
    {
     "data": {
      "application/vnd.jupyter.widget-view+json": {
       "model_id": "21548aa199a14b1c98b717cd63c9518e",
       "version_major": 2,
       "version_minor": 0
      },
      "text/plain": [
       "Batches:   0%|          | 0/1 [00:00<?, ?it/s]"
      ]
     },
     "metadata": {},
     "output_type": "display_data"
    },
    {
     "name": "stderr",
     "output_type": "stream",
     "text": [
      "2024-10-27 20:34:22,623 - INFO - Use pytorch device_name: cpu\n",
      "2024-10-27 20:34:22,624 - INFO - Load pretrained SentenceTransformer: sentence-transformers/all-mpnet-base-v2\n"
     ]
    },
    {
     "data": {
      "application/vnd.jupyter.widget-view+json": {
       "model_id": "16aae93cebfc4f039332f871346df30b",
       "version_major": 2,
       "version_minor": 0
      },
      "text/plain": [
       "Batches:   0%|          | 0/1 [00:00<?, ?it/s]"
      ]
     },
     "metadata": {},
     "output_type": "display_data"
    },
    {
     "name": "stderr",
     "output_type": "stream",
     "text": [
      "2024-10-27 20:34:24,319 - INFO - Use pytorch device_name: cpu\n",
      "2024-10-27 20:34:24,320 - INFO - Load pretrained SentenceTransformer: sentence-transformers/all-mpnet-base-v2\n"
     ]
    },
    {
     "data": {
      "application/vnd.jupyter.widget-view+json": {
       "model_id": "4e3a4f0463fa472fa970f821987ab687",
       "version_major": 2,
       "version_minor": 0
      },
      "text/plain": [
       "Batches:   0%|          | 0/1 [00:00<?, ?it/s]"
      ]
     },
     "metadata": {},
     "output_type": "display_data"
    },
    {
     "name": "stderr",
     "output_type": "stream",
     "text": [
      "2024-10-27 20:34:25,689 - INFO - POST http://elasticsearch:9200/qa_index_2/_search [status:200 duration:0.018s]\n",
      "2024-10-27 20:34:25,691 - INFO - \n",
      "Ground Truth: The best source of information regarding medications is the physician prescribing them. He or she should be able to answer questions such as:\n",
      "1. What is the medication supposed to do?\n",
      "2. When should it begin to take effect, and how will I know when it is effective?\n",
      "3. How is the medication taken and for how long? What food, drinks, other medicines, and activities should be avoided while taking this medication?\n",
      "4. What are the side effects and what should be done if they occur?\n",
      "5. What do I do if a dose is missed?\n",
      "6. Is there any written information available about this medication?\n",
      "7. Are there other medications that might be appropriate?\n",
      "8. If so, why do you prefer the one you have chosen?\n",
      "9. How do you monitor medications and what symptoms indicate that they should be raised, lowered, or changed?\n",
      "10. All medications should be taken as directed. Most medications for mental illnesses do not work when taken irregularly, and extra doses can cause severe, sometimes dangerous side effects. Many psychiatric medications begin to have a beneficial effect only after they have been taken for several weeks.\n",
      "2024-10-27 20:34:25,691 - INFO - Top 3 Results:\n",
      "2024-10-27 20:34:25,692 - INFO - 1. Response: oh thats really great. id be willing to answer anything that i know about it.\n",
      "2024-10-27 20:34:25,692 - INFO -    Score: 0.8364146\n",
      "2024-10-27 20:34:25,693 - INFO - 2. Response: the best source of information regarding medications is the physician prescribing them. he or she should be able to answer questions such as 1. what is the medication supposed to do? 2. when should it begin to take effect, and how will i know when it is effective? 3. how is the medication taken and for how long? what food, drinks, other medicines, and activities should be avoided while taking this medication? 4. what are the side effects and what should be done if they occur? 5. what do i do if a dose is missed? 6. is there any written information available about this medication? 7. are there other medications that might be appropriate? 8. if so, why do you prefer the one you have chosen? 9. how do you monitor medications and what symptoms indicate that they should be raised, lowered, or changed? 10. all medications should be taken as directed. most medications for mental illnesses do not work when taken irregularly, and extra doses can cause severe, sometimes dangerous side effects. many psychiatric medications begin to have a beneficial effect only after they have been taken for several weeks.\n",
      "2024-10-27 20:34:25,694 - INFO -    Score: 0.83317184\n",
      "2024-10-27 20:34:25,694 - INFO - 3. Response: we can all suffer from mental health challenges, but developing our wellbeing, resilience, and seeking help early can help prevent challenges becoming serious.\n",
      "2024-10-27 20:34:25,695 - INFO -    Score: 0.82988834\n",
      "2024-10-27 20:34:25,696 - INFO - Match found at rank 2 with similarity 1.0\n",
      "2024-10-27 20:34:25,700 - INFO - Metrics for current query: {'hit_rate': 1, 'mrr': 0.5, 'ndcg': 0.6831609640827225, 'precision': 0.2, 'recall': 1, 'f1': 0.33333333333333337}\n",
      "2024-10-27 20:34:25,701 - INFO - \n",
      "Method: semantic_search_combined\n",
      "2024-10-27 20:34:25,703 - INFO - Use pytorch device_name: cpu\n",
      "2024-10-27 20:34:25,704 - INFO - Load pretrained SentenceTransformer: sentence-transformers/all-mpnet-base-v2\n"
     ]
    },
    {
     "data": {
      "application/vnd.jupyter.widget-view+json": {
       "model_id": "012c9de762034a74835d6b317291afa7",
       "version_major": 2,
       "version_minor": 0
      },
      "text/plain": [
       "Batches:   0%|          | 0/1 [00:00<?, ?it/s]"
      ]
     },
     "metadata": {},
     "output_type": "display_data"
    },
    {
     "name": "stderr",
     "output_type": "stream",
     "text": [
      "2024-10-27 20:34:27,207 - INFO - Use pytorch device_name: cpu\n",
      "2024-10-27 20:34:27,208 - INFO - Load pretrained SentenceTransformer: sentence-transformers/all-mpnet-base-v2\n"
     ]
    },
    {
     "data": {
      "application/vnd.jupyter.widget-view+json": {
       "model_id": "541d839c2c7242e9a6fd82b25781424d",
       "version_major": 2,
       "version_minor": 0
      },
      "text/plain": [
       "Batches:   0%|          | 0/1 [00:00<?, ?it/s]"
      ]
     },
     "metadata": {},
     "output_type": "display_data"
    },
    {
     "name": "stderr",
     "output_type": "stream",
     "text": [
      "2024-10-27 20:34:28,495 - INFO - Use pytorch device_name: cpu\n",
      "2024-10-27 20:34:28,496 - INFO - Load pretrained SentenceTransformer: sentence-transformers/all-mpnet-base-v2\n"
     ]
    },
    {
     "data": {
      "application/vnd.jupyter.widget-view+json": {
       "model_id": "9bc96e89bb20456e887071a21778e9d5",
       "version_major": 2,
       "version_minor": 0
      },
      "text/plain": [
       "Batches:   0%|          | 0/1 [00:00<?, ?it/s]"
      ]
     },
     "metadata": {},
     "output_type": "display_data"
    },
    {
     "name": "stderr",
     "output_type": "stream",
     "text": [
      "2024-10-27 20:34:29,814 - INFO - Use pytorch device_name: cpu\n",
      "2024-10-27 20:34:29,815 - INFO - Load pretrained SentenceTransformer: sentence-transformers/all-mpnet-base-v2\n"
     ]
    },
    {
     "data": {
      "application/vnd.jupyter.widget-view+json": {
       "model_id": "90535fc9f0894514bf79508b04da14e2",
       "version_major": 2,
       "version_minor": 0
      },
      "text/plain": [
       "Batches:   0%|          | 0/1 [00:00<?, ?it/s]"
      ]
     },
     "metadata": {},
     "output_type": "display_data"
    },
    {
     "name": "stderr",
     "output_type": "stream",
     "text": [
      "2024-10-27 20:34:31,140 - INFO - Use pytorch device_name: cpu\n",
      "2024-10-27 20:34:31,140 - INFO - Load pretrained SentenceTransformer: sentence-transformers/all-mpnet-base-v2\n"
     ]
    },
    {
     "data": {
      "application/vnd.jupyter.widget-view+json": {
       "model_id": "0ac967a02fa341e79879e643ee5e1878",
       "version_major": 2,
       "version_minor": 0
      },
      "text/plain": [
       "Batches:   0%|          | 0/1 [00:00<?, ?it/s]"
      ]
     },
     "metadata": {},
     "output_type": "display_data"
    },
    {
     "name": "stderr",
     "output_type": "stream",
     "text": [
      "2024-10-27 20:34:32,475 - INFO - POST http://elasticsearch:9200/qa_index_2/_search [status:200 duration:0.016s]\n",
      "2024-10-27 20:34:32,476 - INFO - \n",
      "Ground Truth: The best source of information regarding medications is the physician prescribing them. He or she should be able to answer questions such as:\n",
      "1. What is the medication supposed to do?\n",
      "2. When should it begin to take effect, and how will I know when it is effective?\n",
      "3. How is the medication taken and for how long? What food, drinks, other medicines, and activities should be avoided while taking this medication?\n",
      "4. What are the side effects and what should be done if they occur?\n",
      "5. What do I do if a dose is missed?\n",
      "6. Is there any written information available about this medication?\n",
      "7. Are there other medications that might be appropriate?\n",
      "8. If so, why do you prefer the one you have chosen?\n",
      "9. How do you monitor medications and what symptoms indicate that they should be raised, lowered, or changed?\n",
      "10. All medications should be taken as directed. Most medications for mental illnesses do not work when taken irregularly, and extra doses can cause severe, sometimes dangerous side effects. Many psychiatric medications begin to have a beneficial effect only after they have been taken for several weeks.\n",
      "2024-10-27 20:34:32,477 - INFO - Top 3 Results:\n",
      "2024-10-27 20:34:32,478 - INFO - 1. Response: the best source of information regarding medications is the physician prescribing them. he or she should be able to answer questions such as 1. what is the medication supposed to do? 2. when should it begin to take effect, and how will i know when it is effective? 3. how is the medication taken and for how long? what food, drinks, other medicines, and activities should be avoided while taking this medication? 4. what are the side effects and what should be done if they occur? 5. what do i do if a dose is missed? 6. is there any written information available about this medication? 7. are there other medications that might be appropriate? 8. if so, why do you prefer the one you have chosen? 9. how do you monitor medications and what symptoms indicate that they should be raised, lowered, or changed? 10. all medications should be taken as directed. most medications for mental illnesses do not work when taken irregularly, and extra doses can cause severe, sometimes dangerous side effects. many psychiatric medications begin to have a beneficial effect only after they have been taken for several weeks.\n",
      "2024-10-27 20:34:32,478 - INFO -    Score: 0.8736634\n",
      "2024-10-27 20:34:32,479 - INFO - 2. Response: the most important thing is to talk to someone you trust. this might be a friend, colleague, family member, or gp. in addition to talking to someone, it may be useful to find out more information about what you are experiencing. these things may help to get some perspective on what you are experiencing, and be the start of getting help.\n",
      "2024-10-27 20:34:32,479 - INFO -    Score: 0.8625753\n",
      "2024-10-27 20:34:32,480 - INFO - 3. Response: oh thats really great. id be willing to answer anything that i know about it.\n",
      "2024-10-27 20:34:32,480 - INFO -    Score: 0.8448162\n",
      "2024-10-27 20:34:32,481 - INFO - Match found at rank 1 with similarity 1.0\n",
      "2024-10-27 20:34:32,485 - INFO - Metrics for current query: {'hit_rate': 1, 'mrr': 1.0, 'ndcg': 0.9772202514386765, 'precision': 0.2, 'recall': 1, 'f1': 0.33333333333333337}\n",
      "2024-10-27 20:34:32,485 - INFO - \n",
      "Method: text_search\n",
      "2024-10-27 20:34:32,516 - INFO - POST http://elasticsearch:9200/qa_index_2/_search [status:200 duration:0.030s]\n",
      "2024-10-27 20:34:32,524 - INFO - \n",
      "Ground Truth: The best source of information regarding medications is the physician prescribing them. He or she should be able to answer questions such as:\n",
      "1. What is the medication supposed to do?\n",
      "2. When should it begin to take effect, and how will I know when it is effective?\n",
      "3. How is the medication taken and for how long? What food, drinks, other medicines, and activities should be avoided while taking this medication?\n",
      "4. What are the side effects and what should be done if they occur?\n",
      "5. What do I do if a dose is missed?\n",
      "6. Is there any written information available about this medication?\n",
      "7. Are there other medications that might be appropriate?\n",
      "8. If so, why do you prefer the one you have chosen?\n",
      "9. How do you monitor medications and what symptoms indicate that they should be raised, lowered, or changed?\n",
      "10. All medications should be taken as directed. Most medications for mental illnesses do not work when taken irregularly, and extra doses can cause severe, sometimes dangerous side effects. Many psychiatric medications begin to have a beneficial effect only after they have been taken for several weeks.\n",
      "2024-10-27 20:34:32,525 - INFO - Top 3 Results:\n",
      "2024-10-27 20:34:32,526 - INFO - 1. Response: the best source of information regarding medications is the physician prescribing them. he or she should be able to answer questions such as 1. what is the medication supposed to do? 2. when should it begin to take effect, and how will i know when it is effective? 3. how is the medication taken and for how long? what food, drinks, other medicines, and activities should be avoided while taking this medication? 4. what are the side effects and what should be done if they occur? 5. what do i do if a dose is missed? 6. is there any written information available about this medication? 7. are there other medications that might be appropriate? 8. if so, why do you prefer the one you have chosen? 9. how do you monitor medications and what symptoms indicate that they should be raised, lowered, or changed? 10. all medications should be taken as directed. most medications for mental illnesses do not work when taken irregularly, and extra doses can cause severe, sometimes dangerous side effects. many psychiatric medications begin to have a beneficial effect only after they have been taken for several weeks.\n",
      "2024-10-27 20:34:32,527 - INFO -    Score: 63.903214\n",
      "2024-10-27 20:34:32,527 - INFO - 2. Response: although pandora cannot substitute for professional advice, we encourage those with symptoms to talk to their friends and family members and seek the counsel of a mental health professional. the sooner the mental health condition is identified and treated, the sooner they can get on the path to recovery. if you know someone who is having problems, dont assume that the issue will resolve itself. let them know that you care about them, and that there are treatment options available that will help them heal. speak with a mental health professional or counselor if you think your friend or family member is experiencing the symptoms of a mental health condition. if the affected loved one knows that you support them, they will be more likely to seek out help.\n",
      "2024-10-27 20:34:32,528 - INFO -    Score: 24.073654\n",
      "2024-10-27 20:34:32,529 - INFO - 3. Response: maintaining mental health is crucial to stabilizing constructive behaviors, emotions, and thoughts. focusing on mental health care can increase productivity, enhance our selfimage, and improve relationships.\n",
      "2024-10-27 20:34:32,529 - INFO -    Score: 22.654781\n",
      "2024-10-27 20:34:32,530 - INFO - Match found at rank 1 with similarity 1.0\n",
      "2024-10-27 20:34:32,533 - INFO - Metrics for current query: {'hit_rate': 1, 'mrr': 1.0, 'ndcg': 0.9966994234517352, 'precision': 0.2, 'recall': 1, 'f1': 0.33333333333333337}\n",
      "2024-10-27 20:34:32,533 - INFO - \n",
      "Method: combined_search\n",
      "2024-10-27 20:34:32,536 - INFO - Use pytorch device_name: cpu\n",
      "2024-10-27 20:34:32,536 - INFO - Load pretrained SentenceTransformer: sentence-transformers/all-mpnet-base-v2\n"
     ]
    },
    {
     "data": {
      "application/vnd.jupyter.widget-view+json": {
       "model_id": "0a4bc44a08e34d158a6c0da170dffa1f",
       "version_major": 2,
       "version_minor": 0
      },
      "text/plain": [
       "Batches:   0%|          | 0/1 [00:00<?, ?it/s]"
      ]
     },
     "metadata": {},
     "output_type": "display_data"
    },
    {
     "name": "stderr",
     "output_type": "stream",
     "text": [
      "2024-10-27 20:34:33,885 - INFO - POST http://elasticsearch:9200/qa_index_2/_search [status:200 duration:0.018s]\n",
      "2024-10-27 20:34:33,893 - INFO - \n",
      "Ground Truth: The best source of information regarding medications is the physician prescribing them. He or she should be able to answer questions such as:\n",
      "1. What is the medication supposed to do?\n",
      "2. When should it begin to take effect, and how will I know when it is effective?\n",
      "3. How is the medication taken and for how long? What food, drinks, other medicines, and activities should be avoided while taking this medication?\n",
      "4. What are the side effects and what should be done if they occur?\n",
      "5. What do I do if a dose is missed?\n",
      "6. Is there any written information available about this medication?\n",
      "7. Are there other medications that might be appropriate?\n",
      "8. If so, why do you prefer the one you have chosen?\n",
      "9. How do you monitor medications and what symptoms indicate that they should be raised, lowered, or changed?\n",
      "10. All medications should be taken as directed. Most medications for mental illnesses do not work when taken irregularly, and extra doses can cause severe, sometimes dangerous side effects. Many psychiatric medications begin to have a beneficial effect only after they have been taken for several weeks.\n",
      "2024-10-27 20:34:33,894 - INFO - Top 3 Results:\n",
      "2024-10-27 20:34:33,894 - INFO - 1. Response: the best source of information regarding medications is the physician prescribing them. he or she should be able to answer questions such as 1. what is the medication supposed to do? 2. when should it begin to take effect, and how will i know when it is effective? 3. how is the medication taken and for how long? what food, drinks, other medicines, and activities should be avoided while taking this medication? 4. what are the side effects and what should be done if they occur? 5. what do i do if a dose is missed? 6. is there any written information available about this medication? 7. are there other medications that might be appropriate? 8. if so, why do you prefer the one you have chosen? 9. how do you monitor medications and what symptoms indicate that they should be raised, lowered, or changed? 10. all medications should be taken as directed. most medications for mental illnesses do not work when taken irregularly, and extra doses can cause severe, sometimes dangerous side effects. many psychiatric medications begin to have a beneficial effect only after they have been taken for several weeks.\n",
      "2024-10-27 20:34:33,895 - INFO -    Score: 5.997531\n",
      "2024-10-27 20:34:33,896 - INFO - 2. Response: maintaining mental health is crucial to stabilizing constructive behaviors, emotions, and thoughts. focusing on mental health care can increase productivity, enhance our selfimage, and improve relationships.\n",
      "2024-10-27 20:34:33,896 - INFO -    Score: 2.4928179\n",
      "2024-10-27 20:34:33,897 - INFO - 3. Response: although pandora cannot substitute for professional advice, we encourage those with symptoms to talk to their friends and family members and seek the counsel of a mental health professional. the sooner the mental health condition is identified and treated, the sooner they can get on the path to recovery. if you know someone who is having problems, dont assume that the issue will resolve itself. let them know that you care about them, and that there are treatment options available that will help them heal. speak with a mental health professional or counselor if you think your friend or family member is experiencing the symptoms of a mental health condition. if the affected loved one knows that you support them, they will be more likely to seek out help.\n",
      "2024-10-27 20:34:33,898 - INFO -    Score: 2.087302\n",
      "2024-10-27 20:34:33,899 - INFO - Match found at rank 1 with similarity 1.0\n",
      "2024-10-27 20:34:33,902 - INFO - Metrics for current query: {'hit_rate': 1, 'mrr': 1.0, 'ndcg': 0.9801769740287197, 'precision': 0.2, 'recall': 1, 'f1': 0.33333333333333337}\n",
      "Evaluating queries:  83%|████████▎ | 5/6 [01:53<00:22, 22.94s/it]2024-10-27 20:34:33,903 - INFO - \n",
      "Evaluating Query: What are the early signs of mental health issues in adults?\n",
      "2024-10-27 20:34:33,904 - INFO - Ground Truth: Symptoms of mental health disorders vary depending on the type and severity of the condition. The following is a list of general symptoms that may suggest a mental health disorder, particularly when multiple symptoms are expressed at once.\n",
      "In adults:\n",
      "Confused thinking\n",
      "Long-lasting sadness or irritability\n",
      "Extreme highs and lows in mood\n",
      "Excessive fear, worrying, or anxiety\n",
      "Social withdrawal\n",
      "Dramatic changes in eating or sleeping habits\n",
      "Strong feelings of anger\n",
      "Delusions or hallucinations (seeing or hearing things that are not really there)\n",
      "Increasing inability to cope with daily problems and activities\n",
      "Thoughts of suicide\n",
      "Denial of obvious problems\n",
      "Many unexplained physical problems\n",
      "Abuse of drugs and/or alcohol\n",
      "2024-10-27 20:34:33,905 - INFO - \n",
      "Method: semantic_search_question\n",
      "2024-10-27 20:34:33,906 - INFO - Use pytorch device_name: cpu\n",
      "2024-10-27 20:34:33,907 - INFO - Load pretrained SentenceTransformer: sentence-transformers/all-mpnet-base-v2\n"
     ]
    },
    {
     "data": {
      "application/vnd.jupyter.widget-view+json": {
       "model_id": "47880ee4172441e6b705ddf8cf7ba2a7",
       "version_major": 2,
       "version_minor": 0
      },
      "text/plain": [
       "Batches:   0%|          | 0/1 [00:00<?, ?it/s]"
      ]
     },
     "metadata": {},
     "output_type": "display_data"
    },
    {
     "name": "stderr",
     "output_type": "stream",
     "text": [
      "2024-10-27 20:34:35,335 - INFO - Use pytorch device_name: cpu\n",
      "2024-10-27 20:34:35,336 - INFO - Load pretrained SentenceTransformer: sentence-transformers/all-mpnet-base-v2\n"
     ]
    },
    {
     "data": {
      "application/vnd.jupyter.widget-view+json": {
       "model_id": "85f8828085ba4747b0b3cd2ebcb931ec",
       "version_major": 2,
       "version_minor": 0
      },
      "text/plain": [
       "Batches:   0%|          | 0/1 [00:00<?, ?it/s]"
      ]
     },
     "metadata": {},
     "output_type": "display_data"
    },
    {
     "name": "stderr",
     "output_type": "stream",
     "text": [
      "2024-10-27 20:34:36,619 - INFO - Use pytorch device_name: cpu\n",
      "2024-10-27 20:34:36,620 - INFO - Load pretrained SentenceTransformer: sentence-transformers/all-mpnet-base-v2\n"
     ]
    },
    {
     "data": {
      "application/vnd.jupyter.widget-view+json": {
       "model_id": "e4e1128634ab4237b3b8619322643d41",
       "version_major": 2,
       "version_minor": 0
      },
      "text/plain": [
       "Batches:   0%|          | 0/1 [00:00<?, ?it/s]"
      ]
     },
     "metadata": {},
     "output_type": "display_data"
    },
    {
     "name": "stderr",
     "output_type": "stream",
     "text": [
      "2024-10-27 20:34:37,911 - INFO - Use pytorch device_name: cpu\n",
      "2024-10-27 20:34:37,912 - INFO - Load pretrained SentenceTransformer: sentence-transformers/all-mpnet-base-v2\n"
     ]
    },
    {
     "data": {
      "application/vnd.jupyter.widget-view+json": {
       "model_id": "8b92603680904c8c9d07e702ae69aa15",
       "version_major": 2,
       "version_minor": 0
      },
      "text/plain": [
       "Batches:   0%|          | 0/1 [00:00<?, ?it/s]"
      ]
     },
     "metadata": {},
     "output_type": "display_data"
    },
    {
     "name": "stderr",
     "output_type": "stream",
     "text": [
      "2024-10-27 20:34:39,395 - INFO - Use pytorch device_name: cpu\n",
      "2024-10-27 20:34:39,396 - INFO - Load pretrained SentenceTransformer: sentence-transformers/all-mpnet-base-v2\n"
     ]
    },
    {
     "data": {
      "application/vnd.jupyter.widget-view+json": {
       "model_id": "1e599ba8c202475f8b130e5a6927d849",
       "version_major": 2,
       "version_minor": 0
      },
      "text/plain": [
       "Batches:   0%|          | 0/1 [00:00<?, ?it/s]"
      ]
     },
     "metadata": {},
     "output_type": "display_data"
    },
    {
     "name": "stderr",
     "output_type": "stream",
     "text": [
      "2024-10-27 20:34:40,713 - INFO - POST http://elasticsearch:9200/qa_index_2/_search [status:200 duration:0.023s]\n",
      "2024-10-27 20:34:40,715 - INFO - \n",
      "Ground Truth: Symptoms of mental health disorders vary depending on the type and severity of the condition. The following is a list of general symptoms that may suggest a mental health disorder, particularly when multiple symptoms are expressed at once.\n",
      "In adults:\n",
      "Confused thinking\n",
      "Long-lasting sadness or irritability\n",
      "Extreme highs and lows in mood\n",
      "Excessive fear, worrying, or anxiety\n",
      "Social withdrawal\n",
      "Dramatic changes in eating or sleeping habits\n",
      "Strong feelings of anger\n",
      "Delusions or hallucinations (seeing or hearing things that are not really there)\n",
      "Increasing inability to cope with daily problems and activities\n",
      "Thoughts of suicide\n",
      "Denial of obvious problems\n",
      "Many unexplained physical problems\n",
      "Abuse of drugs and/or alcohol\n",
      "2024-10-27 20:34:40,715 - INFO - Top 3 Results:\n",
      "2024-10-27 20:34:40,717 - INFO - 1. Response: symptoms of mental health disorders vary depending on the type and severity of the condition. the following is a list of general symptoms that may suggest a mental health disorder, particularly when multiple symptoms are expressed at once. in adults confused thinking longlasting sadness or irritability extreme highs and lows in mood excessive fear, worrying, or anxiety social withdrawal dramatic changes in eating or sleeping habits strong feelings of anger delusions or hallucinations seeing or hearing things that are not really there increasing inability to cope with daily problems and activities thoughts of suicide denial of obvious problems many unexplained physical problems abuse of drugs andor alcohol in older children and preteens abuse of drugs andor alcohol inability to cope with daily problems and activities changes in sleeping andor eating habits excessive complaints of physical problems defying authority, skipping school, stealing, or damaging property intense fear of gaining weight longlasting negative mood, often along with poor appetite and thoughts of death frequent outbursts of anger in younger children changes in school performance poor grades despite strong efforts excessive worrying or anxiety hyperactivity persistent nightmares persistent disobedience andor aggressive behavior frequent temper tantrums\n",
      "2024-10-27 20:34:40,717 - INFO -    Score: 0.9474702\n",
      "2024-10-27 20:34:40,718 - INFO - 2. Response: challenges or problems with your mental health can arise from psychological, biological, and social, issues, as well as life events.\n",
      "2024-10-27 20:34:40,719 - INFO -    Score: 0.8825948\n",
      "2024-10-27 20:34:40,720 - INFO - 3. Response: oh thats really great. id be willing to answer anything that i know about it.\n",
      "2024-10-27 20:34:40,721 - INFO -    Score: 0.86925507\n",
      "2024-10-27 20:34:40,726 - INFO - Metrics for current query: {'hit_rate': 0, 'mrr': 0, 'ndcg': 0.9846261629173196, 'precision': 0, 'recall': 0, 'f1': 0}\n",
      "2024-10-27 20:34:40,727 - INFO - \n",
      "Method: semantic_search_text\n",
      "2024-10-27 20:34:40,730 - INFO - Use pytorch device_name: cpu\n",
      "2024-10-27 20:34:40,730 - INFO - Load pretrained SentenceTransformer: sentence-transformers/all-mpnet-base-v2\n"
     ]
    },
    {
     "data": {
      "application/vnd.jupyter.widget-view+json": {
       "model_id": "6bbe1bf3bec74ddf8e14ed92d603e113",
       "version_major": 2,
       "version_minor": 0
      },
      "text/plain": [
       "Batches:   0%|          | 0/1 [00:00<?, ?it/s]"
      ]
     },
     "metadata": {},
     "output_type": "display_data"
    },
    {
     "name": "stderr",
     "output_type": "stream",
     "text": [
      "2024-10-27 20:34:42,456 - INFO - Use pytorch device_name: cpu\n",
      "2024-10-27 20:34:42,457 - INFO - Load pretrained SentenceTransformer: sentence-transformers/all-mpnet-base-v2\n"
     ]
    },
    {
     "data": {
      "application/vnd.jupyter.widget-view+json": {
       "model_id": "4f50b182d96741d0b2d345775d92aa65",
       "version_major": 2,
       "version_minor": 0
      },
      "text/plain": [
       "Batches:   0%|          | 0/1 [00:00<?, ?it/s]"
      ]
     },
     "metadata": {},
     "output_type": "display_data"
    },
    {
     "name": "stderr",
     "output_type": "stream",
     "text": [
      "2024-10-27 20:34:43,931 - INFO - Use pytorch device_name: cpu\n",
      "2024-10-27 20:34:43,932 - INFO - Load pretrained SentenceTransformer: sentence-transformers/all-mpnet-base-v2\n"
     ]
    },
    {
     "data": {
      "application/vnd.jupyter.widget-view+json": {
       "model_id": "8e1c2e18bc6e406b8a75bbed08ffd686",
       "version_major": 2,
       "version_minor": 0
      },
      "text/plain": [
       "Batches:   0%|          | 0/1 [00:00<?, ?it/s]"
      ]
     },
     "metadata": {},
     "output_type": "display_data"
    },
    {
     "name": "stderr",
     "output_type": "stream",
     "text": [
      "2024-10-27 20:34:45,251 - INFO - Use pytorch device_name: cpu\n",
      "2024-10-27 20:34:45,252 - INFO - Load pretrained SentenceTransformer: sentence-transformers/all-mpnet-base-v2\n"
     ]
    },
    {
     "data": {
      "application/vnd.jupyter.widget-view+json": {
       "model_id": "1f883ba5b9c1493a95aaab35e01d7cda",
       "version_major": 2,
       "version_minor": 0
      },
      "text/plain": [
       "Batches:   0%|          | 0/1 [00:00<?, ?it/s]"
      ]
     },
     "metadata": {},
     "output_type": "display_data"
    },
    {
     "name": "stderr",
     "output_type": "stream",
     "text": [
      "2024-10-27 20:34:46,592 - INFO - Use pytorch device_name: cpu\n",
      "2024-10-27 20:34:46,594 - INFO - Load pretrained SentenceTransformer: sentence-transformers/all-mpnet-base-v2\n"
     ]
    },
    {
     "data": {
      "application/vnd.jupyter.widget-view+json": {
       "model_id": "9abc0404b21c48ac82574ceb8bb9c66b",
       "version_major": 2,
       "version_minor": 0
      },
      "text/plain": [
       "Batches:   0%|          | 0/1 [00:00<?, ?it/s]"
      ]
     },
     "metadata": {},
     "output_type": "display_data"
    },
    {
     "name": "stderr",
     "output_type": "stream",
     "text": [
      "2024-10-27 20:34:47,899 - INFO - POST http://elasticsearch:9200/qa_index_2/_search [status:200 duration:0.014s]\n",
      "2024-10-27 20:34:47,901 - INFO - \n",
      "Ground Truth: Symptoms of mental health disorders vary depending on the type and severity of the condition. The following is a list of general symptoms that may suggest a mental health disorder, particularly when multiple symptoms are expressed at once.\n",
      "In adults:\n",
      "Confused thinking\n",
      "Long-lasting sadness or irritability\n",
      "Extreme highs and lows in mood\n",
      "Excessive fear, worrying, or anxiety\n",
      "Social withdrawal\n",
      "Dramatic changes in eating or sleeping habits\n",
      "Strong feelings of anger\n",
      "Delusions or hallucinations (seeing or hearing things that are not really there)\n",
      "Increasing inability to cope with daily problems and activities\n",
      "Thoughts of suicide\n",
      "Denial of obvious problems\n",
      "Many unexplained physical problems\n",
      "Abuse of drugs and/or alcohol\n",
      "2024-10-27 20:34:47,901 - INFO - Top 3 Results:\n",
      "2024-10-27 20:34:47,902 - INFO - 1. Response: symptoms of mental health disorders vary depending on the type and severity of the condition. the following is a list of general symptoms that may suggest a mental health disorder, particularly when multiple symptoms are expressed at once. in adults confused thinking longlasting sadness or irritability extreme highs and lows in mood excessive fear, worrying, or anxiety social withdrawal dramatic changes in eating or sleeping habits strong feelings of anger delusions or hallucinations seeing or hearing things that are not really there increasing inability to cope with daily problems and activities thoughts of suicide denial of obvious problems many unexplained physical problems abuse of drugs andor alcohol in older children and preteens abuse of drugs andor alcohol inability to cope with daily problems and activities changes in sleeping andor eating habits excessive complaints of physical problems defying authority, skipping school, stealing, or damaging property intense fear of gaining weight longlasting negative mood, often along with poor appetite and thoughts of death frequent outbursts of anger in younger children changes in school performance poor grades despite strong efforts excessive worrying or anxiety hyperactivity persistent nightmares persistent disobedience andor aggressive behavior frequent temper tantrums\n",
      "2024-10-27 20:34:47,903 - INFO -    Score: 0.88769984\n",
      "2024-10-27 20:34:47,904 - INFO - 2. Response: challenges or problems with your mental health can arise from psychological, biological, and social, issues, as well as life events.\n",
      "2024-10-27 20:34:47,904 - INFO -    Score: 0.83183146\n",
      "2024-10-27 20:34:47,905 - INFO - 3. Response: oh thats really great. id be willing to answer anything that i know about it.\n",
      "2024-10-27 20:34:47,906 - INFO -    Score: 0.8095312\n",
      "2024-10-27 20:34:47,909 - INFO - Metrics for current query: {'hit_rate': 0, 'mrr': 0, 'ndcg': 0.9880211576107829, 'precision': 0, 'recall': 0, 'f1': 0}\n",
      "2024-10-27 20:34:47,910 - INFO - \n",
      "Method: semantic_search_combined\n",
      "2024-10-27 20:34:47,912 - INFO - Use pytorch device_name: cpu\n",
      "2024-10-27 20:34:47,912 - INFO - Load pretrained SentenceTransformer: sentence-transformers/all-mpnet-base-v2\n"
     ]
    },
    {
     "data": {
      "application/vnd.jupyter.widget-view+json": {
       "model_id": "f5b6852001d94c9fb796519e2e6018a8",
       "version_major": 2,
       "version_minor": 0
      },
      "text/plain": [
       "Batches:   0%|          | 0/1 [00:00<?, ?it/s]"
      ]
     },
     "metadata": {},
     "output_type": "display_data"
    },
    {
     "name": "stderr",
     "output_type": "stream",
     "text": [
      "2024-10-27 20:34:52,487 - INFO - Use pytorch device_name: cpu\n",
      "2024-10-27 20:34:52,487 - INFO - Load pretrained SentenceTransformer: sentence-transformers/all-mpnet-base-v2\n"
     ]
    },
    {
     "data": {
      "application/vnd.jupyter.widget-view+json": {
       "model_id": "3a45163fc0c64303ad1f41c91de9b60a",
       "version_major": 2,
       "version_minor": 0
      },
      "text/plain": [
       "Batches:   0%|          | 0/1 [00:00<?, ?it/s]"
      ]
     },
     "metadata": {},
     "output_type": "display_data"
    },
    {
     "name": "stderr",
     "output_type": "stream",
     "text": [
      "2024-10-27 20:34:53,924 - INFO - Use pytorch device_name: cpu\n",
      "2024-10-27 20:34:53,925 - INFO - Load pretrained SentenceTransformer: sentence-transformers/all-mpnet-base-v2\n"
     ]
    },
    {
     "data": {
      "application/vnd.jupyter.widget-view+json": {
       "model_id": "d53bc08dc54d4c3b867b046757f60e14",
       "version_major": 2,
       "version_minor": 0
      },
      "text/plain": [
       "Batches:   0%|          | 0/1 [00:00<?, ?it/s]"
      ]
     },
     "metadata": {},
     "output_type": "display_data"
    },
    {
     "name": "stderr",
     "output_type": "stream",
     "text": [
      "2024-10-27 20:34:55,362 - INFO - Use pytorch device_name: cpu\n",
      "2024-10-27 20:34:55,363 - INFO - Load pretrained SentenceTransformer: sentence-transformers/all-mpnet-base-v2\n"
     ]
    },
    {
     "data": {
      "application/vnd.jupyter.widget-view+json": {
       "model_id": "3cf0ad9132cf4e74b759f651d3c8bd2f",
       "version_major": 2,
       "version_minor": 0
      },
      "text/plain": [
       "Batches:   0%|          | 0/1 [00:00<?, ?it/s]"
      ]
     },
     "metadata": {},
     "output_type": "display_data"
    },
    {
     "name": "stderr",
     "output_type": "stream",
     "text": [
      "2024-10-27 20:34:56,723 - INFO - Use pytorch device_name: cpu\n",
      "2024-10-27 20:34:56,724 - INFO - Load pretrained SentenceTransformer: sentence-transformers/all-mpnet-base-v2\n"
     ]
    },
    {
     "data": {
      "application/vnd.jupyter.widget-view+json": {
       "model_id": "bb0d8c63fb834c8c899dc57f65f2eba4",
       "version_major": 2,
       "version_minor": 0
      },
      "text/plain": [
       "Batches:   0%|          | 0/1 [00:00<?, ?it/s]"
      ]
     },
     "metadata": {},
     "output_type": "display_data"
    },
    {
     "name": "stderr",
     "output_type": "stream",
     "text": [
      "2024-10-27 20:34:58,295 - INFO - POST http://elasticsearch:9200/qa_index_2/_search [status:200 duration:0.023s]\n",
      "2024-10-27 20:34:58,296 - INFO - \n",
      "Ground Truth: Symptoms of mental health disorders vary depending on the type and severity of the condition. The following is a list of general symptoms that may suggest a mental health disorder, particularly when multiple symptoms are expressed at once.\n",
      "In adults:\n",
      "Confused thinking\n",
      "Long-lasting sadness or irritability\n",
      "Extreme highs and lows in mood\n",
      "Excessive fear, worrying, or anxiety\n",
      "Social withdrawal\n",
      "Dramatic changes in eating or sleeping habits\n",
      "Strong feelings of anger\n",
      "Delusions or hallucinations (seeing or hearing things that are not really there)\n",
      "Increasing inability to cope with daily problems and activities\n",
      "Thoughts of suicide\n",
      "Denial of obvious problems\n",
      "Many unexplained physical problems\n",
      "Abuse of drugs and/or alcohol\n",
      "2024-10-27 20:34:58,297 - INFO - Top 3 Results:\n",
      "2024-10-27 20:34:58,298 - INFO - 1. Response: symptoms of mental health disorders vary depending on the type and severity of the condition. the following is a list of general symptoms that may suggest a mental health disorder, particularly when multiple symptoms are expressed at once. in adults confused thinking longlasting sadness or irritability extreme highs and lows in mood excessive fear, worrying, or anxiety social withdrawal dramatic changes in eating or sleeping habits strong feelings of anger delusions or hallucinations seeing or hearing things that are not really there increasing inability to cope with daily problems and activities thoughts of suicide denial of obvious problems many unexplained physical problems abuse of drugs andor alcohol in older children and preteens abuse of drugs andor alcohol inability to cope with daily problems and activities changes in sleeping andor eating habits excessive complaints of physical problems defying authority, skipping school, stealing, or damaging property intense fear of gaining weight longlasting negative mood, often along with poor appetite and thoughts of death frequent outbursts of anger in younger children changes in school performance poor grades despite strong efforts excessive worrying or anxiety hyperactivity persistent nightmares persistent disobedience andor aggressive behavior frequent temper tantrums\n",
      "2024-10-27 20:34:58,299 - INFO -    Score: 0.9153054\n",
      "2024-10-27 20:34:58,300 - INFO - 2. Response: challenges or problems with your mental health can arise from psychological, biological, and social, issues, as well as life events.\n",
      "2024-10-27 20:34:58,300 - INFO -    Score: 0.8460624\n",
      "2024-10-27 20:34:58,301 - INFO - 3. Response: oh thats really great. id be willing to answer anything that i know about it.\n",
      "2024-10-27 20:34:58,302 - INFO -    Score: 0.8413689\n",
      "2024-10-27 20:34:58,305 - INFO - Metrics for current query: {'hit_rate': 0, 'mrr': 0, 'ndcg': 0.9657915948927206, 'precision': 0, 'recall': 0, 'f1': 0}\n",
      "2024-10-27 20:34:58,305 - INFO - \n",
      "Method: text_search\n",
      "2024-10-27 20:34:58,340 - INFO - POST http://elasticsearch:9200/qa_index_2/_search [status:200 duration:0.034s]\n",
      "2024-10-27 20:34:58,351 - INFO - \n",
      "Ground Truth: Symptoms of mental health disorders vary depending on the type and severity of the condition. The following is a list of general symptoms that may suggest a mental health disorder, particularly when multiple symptoms are expressed at once.\n",
      "In adults:\n",
      "Confused thinking\n",
      "Long-lasting sadness or irritability\n",
      "Extreme highs and lows in mood\n",
      "Excessive fear, worrying, or anxiety\n",
      "Social withdrawal\n",
      "Dramatic changes in eating or sleeping habits\n",
      "Strong feelings of anger\n",
      "Delusions or hallucinations (seeing or hearing things that are not really there)\n",
      "Increasing inability to cope with daily problems and activities\n",
      "Thoughts of suicide\n",
      "Denial of obvious problems\n",
      "Many unexplained physical problems\n",
      "Abuse of drugs and/or alcohol\n",
      "2024-10-27 20:34:58,352 - INFO - Top 3 Results:\n",
      "2024-10-27 20:34:58,353 - INFO - 1. Response: symptoms of mental health disorders vary depending on the type and severity of the condition. the following is a list of general symptoms that may suggest a mental health disorder, particularly when multiple symptoms are expressed at once. in adults confused thinking longlasting sadness or irritability extreme highs and lows in mood excessive fear, worrying, or anxiety social withdrawal dramatic changes in eating or sleeping habits strong feelings of anger delusions or hallucinations seeing or hearing things that are not really there increasing inability to cope with daily problems and activities thoughts of suicide denial of obvious problems many unexplained physical problems abuse of drugs andor alcohol in older children and preteens abuse of drugs andor alcohol inability to cope with daily problems and activities changes in sleeping andor eating habits excessive complaints of physical problems defying authority, skipping school, stealing, or damaging property intense fear of gaining weight longlasting negative mood, often along with poor appetite and thoughts of death frequent outbursts of anger in younger children changes in school performance poor grades despite strong efforts excessive worrying or anxiety hyperactivity persistent nightmares persistent disobedience andor aggressive behavior frequent temper tantrums\n",
      "2024-10-27 20:34:58,354 - INFO -    Score: 25.017475\n",
      "2024-10-27 20:34:58,354 - INFO - 2. Response: maintaining mental health is crucial to stabilizing constructive behaviors, emotions, and thoughts. focusing on mental health care can increase productivity, enhance our selfimage, and improve relationships.\n",
      "2024-10-27 20:34:58,355 - INFO -    Score: 22.654781\n",
      "2024-10-27 20:34:58,356 - INFO - 3. Response: challenges or problems with your mental health can arise from psychological, biological, and social, issues, as well as life events.\n",
      "2024-10-27 20:34:58,357 - INFO -    Score: 21.219643\n",
      "2024-10-27 20:34:58,360 - INFO - Metrics for current query: {'hit_rate': 0, 'mrr': 0, 'ndcg': 0.9949205657709165, 'precision': 0, 'recall': 0, 'f1': 0}\n",
      "2024-10-27 20:34:58,360 - INFO - \n",
      "Method: combined_search\n",
      "2024-10-27 20:34:58,362 - INFO - Use pytorch device_name: cpu\n",
      "2024-10-27 20:34:58,363 - INFO - Load pretrained SentenceTransformer: sentence-transformers/all-mpnet-base-v2\n"
     ]
    },
    {
     "data": {
      "application/vnd.jupyter.widget-view+json": {
       "model_id": "e3bab7fa616548859dbffb65ed7b64c5",
       "version_major": 2,
       "version_minor": 0
      },
      "text/plain": [
       "Batches:   0%|          | 0/1 [00:00<?, ?it/s]"
      ]
     },
     "metadata": {},
     "output_type": "display_data"
    },
    {
     "name": "stderr",
     "output_type": "stream",
     "text": [
      "2024-10-27 20:34:59,691 - INFO - POST http://elasticsearch:9200/qa_index_2/_search [status:200 duration:0.017s]\n",
      "2024-10-27 20:34:59,699 - INFO - \n",
      "Ground Truth: Symptoms of mental health disorders vary depending on the type and severity of the condition. The following is a list of general symptoms that may suggest a mental health disorder, particularly when multiple symptoms are expressed at once.\n",
      "In adults:\n",
      "Confused thinking\n",
      "Long-lasting sadness or irritability\n",
      "Extreme highs and lows in mood\n",
      "Excessive fear, worrying, or anxiety\n",
      "Social withdrawal\n",
      "Dramatic changes in eating or sleeping habits\n",
      "Strong feelings of anger\n",
      "Delusions or hallucinations (seeing or hearing things that are not really there)\n",
      "Increasing inability to cope with daily problems and activities\n",
      "Thoughts of suicide\n",
      "Denial of obvious problems\n",
      "Many unexplained physical problems\n",
      "Abuse of drugs and/or alcohol\n",
      "2024-10-27 20:34:59,700 - INFO - Top 3 Results:\n",
      "2024-10-27 20:34:59,700 - INFO - 1. Response: symptoms of mental health disorders vary depending on the type and severity of the condition. the following is a list of general symptoms that may suggest a mental health disorder, particularly when multiple symptoms are expressed at once. in adults confused thinking longlasting sadness or irritability extreme highs and lows in mood excessive fear, worrying, or anxiety social withdrawal dramatic changes in eating or sleeping habits strong feelings of anger delusions or hallucinations seeing or hearing things that are not really there increasing inability to cope with daily problems and activities thoughts of suicide denial of obvious problems many unexplained physical problems abuse of drugs andor alcohol in older children and preteens abuse of drugs andor alcohol inability to cope with daily problems and activities changes in sleeping andor eating habits excessive complaints of physical problems defying authority, skipping school, stealing, or damaging property intense fear of gaining weight longlasting negative mood, often along with poor appetite and thoughts of death frequent outbursts of anger in younger children changes in school performance poor grades despite strong efforts excessive worrying or anxiety hyperactivity persistent nightmares persistent disobedience andor aggressive behavior frequent temper tantrums\n",
      "2024-10-27 20:34:59,701 - INFO -    Score: 2.712666\n",
      "2024-10-27 20:34:59,702 - INFO - 2. Response: maintaining mental health is crucial to stabilizing constructive behaviors, emotions, and thoughts. focusing on mental health care can increase productivity, enhance our selfimage, and improve relationships.\n",
      "2024-10-27 20:34:59,703 - INFO -    Score: 2.4767203\n",
      "2024-10-27 20:34:59,704 - INFO - 3. Response: challenges or problems with your mental health can arise from psychological, biological, and social, issues, as well as life events.\n",
      "2024-10-27 20:34:59,704 - INFO -    Score: 2.37442\n",
      "2024-10-27 20:34:59,707 - INFO - Metrics for current query: {'hit_rate': 0, 'mrr': 0, 'ndcg': 0.9857490126942181, 'precision': 0, 'recall': 0, 'f1': 0}\n",
      "Evaluating queries: 100%|██████████| 6/6 [02:19<00:00, 23.22s/it]"
     ]
    },
    {
     "name": "stdout",
     "output_type": "stream",
     "text": [
      "RAG Evaluation Report\n",
      "Generated on: 2024-10-27 20:34:59\n",
      "\n",
      "Overall Results:\n",
      "\n",
      "                     Method       Hit Rate            MRR           NDCG             F1      Precision         Recall\n",
      "0  semantic_search_question  0.500 ± 0.500  0.500 ± 0.500  0.964 ± 0.048  0.167 ± 0.167  0.100 ± 0.100  0.500 ± 0.500\n",
      "1      semantic_search_text  0.500 ± 0.500  0.417 ± 0.449  0.870 ± 0.120  0.167 ± 0.167  0.100 ± 0.100  0.500 ± 0.500\n",
      "2  semantic_search_combined  0.500 ± 0.500  0.500 ± 0.500  0.934 ± 0.098  0.167 ± 0.167  0.100 ± 0.100  0.500 ± 0.500\n",
      "3               text_search  0.667 ± 0.471  0.667 ± 0.471  0.953 ± 0.093  0.222 ± 0.157  0.133 ± 0.094  0.667 ± 0.471\n",
      "4           combined_search  0.667 ± 0.471  0.667 ± 0.471  0.964 ± 0.059  0.222 ± 0.157  0.133 ± 0.094  0.667 ± 0.471\n",
      "\n",
      "Detailed Query Analysis:\n",
      "\n",
      "Query: How can I tell if I might have depression?\n",
      "Method: semantic_search_question\n",
      "Ground Truth: For a diagnosis of depression, a person needs to have experienced low mood or loss of interest or pleasure in life for at least 2 weeks. Also, they will have experienced the following symptoms: feelings of sadness, hopelessness, or irritability nearly every day.\n",
      "Top 3 Results:\n",
      "1. Response: talk to me. tell me more. it helps if you open up yourself to someone else.\n",
      "   Score: 0.90253735\n",
      "2. Response: a mental health disorder characterised by persistently depressed mood or loss of interest in activities, causing significant impairment in daily life.\n",
      "   Score: 0.8824258\n",
      "3. Response: if your beliefs , thoughts , feelings or behaviours have a significant impact on your ability to function in what might be considered a normal or ordinary way, it would be important to seek help.\n",
      "   Score: 0.85867786\n",
      "Metrics: {'hit_rate': 0, 'mrr': 0, 'ndcg': 0.8567968897672356, 'precision': 0, 'recall': 0, 'f1': 0}\n",
      "--------------------------------------------------------------------------------\n",
      "\n",
      "Query: How can I tell if I might have depression?\n",
      "Method: semantic_search_text\n",
      "Ground Truth: For a diagnosis of depression, a person needs to have experienced low mood or loss of interest or pleasure in life for at least 2 weeks. Also, they will have experienced the following symptoms: feelings of sadness, hopelessness, or irritability nearly every day.\n",
      "Top 3 Results:\n",
      "1. Response: talk to me. tell me more. it helps if you open up yourself to someone else.\n",
      "   Score: 0.8124051\n",
      "2. Response: a mental health disorder characterised by persistently depressed mood or loss of interest in activities, causing significant impairment in daily life.\n",
      "   Score: 0.8071208\n",
      "3. Response: symptoms of mental health disorders vary depending on the type and severity of the condition. the following is a list of general symptoms that may suggest a mental health disorder, particularly when multiple symptoms are expressed at once. in adults confused thinking longlasting sadness or irritability extreme highs and lows in mood excessive fear, worrying, or anxiety social withdrawal dramatic changes in eating or sleeping habits strong feelings of anger delusions or hallucinations seeing or hearing things that are not really there increasing inability to cope with daily problems and activities thoughts of suicide denial of obvious problems many unexplained physical problems abuse of drugs andor alcohol in older children and preteens abuse of drugs andor alcohol inability to cope with daily problems and activities changes in sleeping andor eating habits excessive complaints of physical problems defying authority, skipping school, stealing, or damaging property intense fear of gaining weight longlasting negative mood, often along with poor appetite and thoughts of death frequent outbursts of anger in younger children changes in school performance poor grades despite strong efforts excessive worrying or anxiety hyperactivity persistent nightmares persistent disobedience andor aggressive behavior frequent temper tantrums\n",
      "   Score: 0.78928614\n",
      "Metrics: {'hit_rate': 0, 'mrr': 0, 'ndcg': 0.8152644465705975, 'precision': 0, 'recall': 0, 'f1': 0}\n",
      "--------------------------------------------------------------------------------\n",
      "\n",
      "Query: How can I tell if I might have depression?\n",
      "Method: semantic_search_combined\n",
      "Ground Truth: For a diagnosis of depression, a person needs to have experienced low mood or loss of interest or pleasure in life for at least 2 weeks. Also, they will have experienced the following symptoms: feelings of sadness, hopelessness, or irritability nearly every day.\n",
      "Top 3 Results:\n",
      "1. Response: talk to me. tell me more. it helps if you open up yourself to someone else.\n",
      "   Score: 0.84290767\n",
      "2. Response: if your beliefs , thoughts , feelings or behaviours have a significant impact on your ability to function in what might be considered a normal or ordinary way, it would be important to seek help.\n",
      "   Score: 0.8190968\n",
      "3. Response: the most important thing is to talk to someone you trust. this might be a friend, colleague, family member, or gp. in addition to talking to someone, it may be useful to find out more information about what you are experiencing. these things may help to get some perspective on what you are experiencing, and be the start of getting help.\n",
      "   Score: 0.819082\n",
      "Metrics: {'hit_rate': 0, 'mrr': 0, 'ndcg': 0.7167179387143922, 'precision': 0, 'recall': 0, 'f1': 0}\n",
      "--------------------------------------------------------------------------------\n",
      "\n",
      "Query: How can I tell if I might have depression?\n",
      "Method: text_search\n",
      "Ground Truth: For a diagnosis of depression, a person needs to have experienced low mood or loss of interest or pleasure in life for at least 2 weeks. Also, they will have experienced the following symptoms: feelings of sadness, hopelessness, or irritability nearly every day.\n",
      "Top 3 Results:\n",
      "1. Response: talk to me. tell me more. it helps if you open up yourself to someone else.\n",
      "   Score: 33.34758\n",
      "2. Response: feeling comfortable with the professional you or your child is working with is critical to the success of your treatment. finding the professional who best fits your needs may require some research.\n",
      "   Score: 19.61291\n",
      "3. Response: a lot of people are alone right now, but we dont have to be lonely. were all in this together. think about the different ways to connect that are most meaningful for you. for example, you might prefer a video chat over a phone call, or you might prefer to text throughout the day rather than one set time for a video call. then, work with your social networks to make a plan. you might video chat with your close friends in the evening and phone a family member once a week. remember to be mindful of people who may not be online. check in by phone and ask how you can help. the quality of your social connections matter. mindlessly scrolling through social media and liking a few posts usually doesnt build strong social connections. make sure you focus on strategies that actually make you feel included and connected. if your current strategies dont help you feel connected, problemsolve to see if you can find a solution. everyone feels lonely at times. maybe you recently moved to a new city, are changing your circle of friends, lost someone important in your life, or lost your job and also lost important social connections with coworkers. other people may have physical connections to others but may feel like their emotional or social needs arent met. measures like social distancing or selfisolation can make loneliness feel worse no matter why you feel lonely now. reach out to the connections you do have. suggest ways to keep in touch and see if you can set a regular time to connect. people may hesitate to reach out for a lot of different reasons, so dont be afraid to be the one who asks. look for local community support groups and mutual aid groups on social media. this pandemic is bringing everyone together, so look for opportunities to make new connections. these groups are a great way to share your skills and abilities or seek help and support. look for specialized support groups. support groups are moving online, and there are a lot of different support lines to call if you need to talk to someone.\n",
      "   Score: 17.828733\n",
      "Metrics: {'hit_rate': 0, 'mrr': 0, 'ndcg': 0.7452057206848488, 'precision': 0, 'recall': 0, 'f1': 0}\n",
      "--------------------------------------------------------------------------------\n",
      "\n",
      "Query: How can I tell if I might have depression?\n",
      "Method: combined_search\n",
      "Ground Truth: For a diagnosis of depression, a person needs to have experienced low mood or loss of interest or pleasure in life for at least 2 weeks. Also, they will have experienced the following symptoms: feelings of sadness, hopelessness, or irritability nearly every day.\n",
      "Top 3 Results:\n",
      "1. Response: talk to me. tell me more. it helps if you open up yourself to someone else.\n",
      "   Score: 3.449538\n",
      "2. Response: a mental health disorder characterised by persistently depressed mood or loss of interest in activities, causing significant impairment in daily life.\n",
      "   Score: 2.0463386\n",
      "3. Response: a lot of people are alone right now, but we dont have to be lonely. were all in this together. think about the different ways to connect that are most meaningful for you. for example, you might prefer a video chat over a phone call, or you might prefer to text throughout the day rather than one set time for a video call. then, work with your social networks to make a plan. you might video chat with your close friends in the evening and phone a family member once a week. remember to be mindful of people who may not be online. check in by phone and ask how you can help. the quality of your social connections matter. mindlessly scrolling through social media and liking a few posts usually doesnt build strong social connections. make sure you focus on strategies that actually make you feel included and connected. if your current strategies dont help you feel connected, problemsolve to see if you can find a solution. everyone feels lonely at times. maybe you recently moved to a new city, are changing your circle of friends, lost someone important in your life, or lost your job and also lost important social connections with coworkers. other people may have physical connections to others but may feel like their emotional or social needs arent met. measures like social distancing or selfisolation can make loneliness feel worse no matter why you feel lonely now. reach out to the connections you do have. suggest ways to keep in touch and see if you can set a regular time to connect. people may hesitate to reach out for a lot of different reasons, so dont be afraid to be the one who asks. look for local community support groups and mutual aid groups on social media. this pandemic is bringing everyone together, so look for opportunities to make new connections. these groups are a great way to share your skills and abilities or seek help and support. look for specialized support groups. support groups are moving online, and there are a lot of different support lines to call if you need to talk to someone.\n",
      "   Score: 1.662311\n",
      "Metrics: {'hit_rate': 0, 'mrr': 0, 'ndcg': 0.8338514475657166, 'precision': 0, 'recall': 0, 'f1': 0}\n",
      "--------------------------------------------------------------------------------\n",
      "\n",
      "Query: What's the main difference between feeling down and depression?\n",
      "Method: semantic_search_question\n",
      "Ground Truth: Sadness is a normal reaction to a loss, disappointment, problems, or other difficult situations. Feeling sad from time to time is just another part of being human. In these cases, feelings of sadness go away quickly and you can go about your daily life. Other ways to talk about sadness might be feeling low, feeling down, or feeling blue. A person may say they are feeling depressed, but if it goes away on its own and doesn't impact life in a big way, it probably isn't the illness of depression. Depression is a mental illness that affects your mood, the way you understand yourself, and the way you understand and relate to things around you. It can also go by different names, such as clinical depression, major depressive disorder, or major depression. Depression can come up for no reason, and it lasts for a long time. It's much more than sadness or low mood. People who experience depression may feel worthless or hopeless. They may feel unreasonable guilty. Some people may experience depression as anger or irritability. It may be hard to concentrate or make decisions. Most people lose interest in things that they used to enjoy and may isolate themselves from others. There are also physical signs of depression, such as problems with sleep, appetite and energy and unexplainable aches or pains. Some may experience difficult thoughts about death or ending their life (suicide). Depression lasts longer than two weeks, doesn't usually go away on its own, and impacts your life. It's a real illness, and it is very treatable. It's important to seek help if you're concerned about depression.\n",
      "Top 3 Results:\n",
      "1. Response: sadness is a normal reaction to a loss, disappointment, problems, or other difficult situations. feeling sad from time to time is just another part of being human. in these cases, feelings of sadness go away quickly and you can go about your daily life. other ways to talk about sadness might be feeling low, feeling down, or feeling blue.a person may say they are feeling depressed, but if it goes away on its own and doesnt impact life in a big way, it probably isnt the illness of depression. depression is a mental illness that affects your mood, the way you understand yourself, and the way you understand and relate to things around you. it can also go by different names, such as clinical depression, major depressive disorder, or major depression. depression can come up for no reason, and it lasts for a long time. its much more than sadness or low mood. people who experience depression may feel worthless or hopeless. they may feel unreasonable guilty. some people may experience depression as anger or irritability. it may be hard to concentrate or make decisions. most people lose interest in things that they used to enjoy and may isolate themselves from others. there are also physical signs of depression, such as problems with sleep, appetite and energy and unexplainable aches or pains. some may experience difficult thoughts about death or ending their life suicide. depression lasts longer than two weeks, doesnt usually go away on its own, and impacts your life. its a real illness, and it is very treatable. its important to seek help if youre concerned about depression.\n",
      "   Score: 0.9198818\n",
      "2. Response: a mental health disorder characterised by persistently depressed mood or loss of interest in activities, causing significant impairment in daily life.\n",
      "   Score: 0.90538216\n",
      "3. Response: talk to me. tell me more. it helps if you open up yourself to someone else.\n",
      "   Score: 0.84596443\n",
      "Metrics: {'hit_rate': 1, 'mrr': 1.0, 'ndcg': 0.981302412900278, 'precision': 0.2, 'recall': 1, 'f1': 0.33333333333333337}\n",
      "--------------------------------------------------------------------------------\n",
      "\n",
      "Query: What's the main difference between feeling down and depression?\n",
      "Method: semantic_search_text\n",
      "Ground Truth: Sadness is a normal reaction to a loss, disappointment, problems, or other difficult situations. Feeling sad from time to time is just another part of being human. In these cases, feelings of sadness go away quickly and you can go about your daily life. Other ways to talk about sadness might be feeling low, feeling down, or feeling blue. A person may say they are feeling depressed, but if it goes away on its own and doesn't impact life in a big way, it probably isn't the illness of depression. Depression is a mental illness that affects your mood, the way you understand yourself, and the way you understand and relate to things around you. It can also go by different names, such as clinical depression, major depressive disorder, or major depression. Depression can come up for no reason, and it lasts for a long time. It's much more than sadness or low mood. People who experience depression may feel worthless or hopeless. They may feel unreasonable guilty. Some people may experience depression as anger or irritability. It may be hard to concentrate or make decisions. Most people lose interest in things that they used to enjoy and may isolate themselves from others. There are also physical signs of depression, such as problems with sleep, appetite and energy and unexplainable aches or pains. Some may experience difficult thoughts about death or ending their life (suicide). Depression lasts longer than two weeks, doesn't usually go away on its own, and impacts your life. It's a real illness, and it is very treatable. It's important to seek help if you're concerned about depression.\n",
      "Top 3 Results:\n",
      "1. Response: sadness is a normal reaction to a loss, disappointment, problems, or other difficult situations. feeling sad from time to time is just another part of being human. in these cases, feelings of sadness go away quickly and you can go about your daily life. other ways to talk about sadness might be feeling low, feeling down, or feeling blue.a person may say they are feeling depressed, but if it goes away on its own and doesnt impact life in a big way, it probably isnt the illness of depression. depression is a mental illness that affects your mood, the way you understand yourself, and the way you understand and relate to things around you. it can also go by different names, such as clinical depression, major depressive disorder, or major depression. depression can come up for no reason, and it lasts for a long time. its much more than sadness or low mood. people who experience depression may feel worthless or hopeless. they may feel unreasonable guilty. some people may experience depression as anger or irritability. it may be hard to concentrate or make decisions. most people lose interest in things that they used to enjoy and may isolate themselves from others. there are also physical signs of depression, such as problems with sleep, appetite and energy and unexplainable aches or pains. some may experience difficult thoughts about death or ending their life suicide. depression lasts longer than two weeks, doesnt usually go away on its own, and impacts your life. its a real illness, and it is very treatable. its important to seek help if youre concerned about depression.\n",
      "   Score: 0.85553074\n",
      "2. Response: a mental health disorder characterised by persistently depressed mood or loss of interest in activities, causing significant impairment in daily life.\n",
      "   Score: 0.84044266\n",
      "3. Response: stress and anxiety are often used interchangeably, and there is overlap between stress and anxiety. stress is related to the same fight, flight, or freeze response as anxiety, and the physical sensations of anxiety and stress may be very similar. the cause of stress and anxiety are usually different, however. stress focuses on mainly external pressures on us that were finding hard to cope with. when we are stressed, we usually know what were stressed about, and the symptoms of stress typically disappear after the stressful situation is over. anxiety, on the other hand, isnt always as easy to figure out. anxiety focuses on worries or fears about things that could threaten us, as well as anxiety about the anxiety itself. stress and anxiety are both part of being human, but both can be problems if they last for a long time or have an impact on our wellbeing or daily life.\n",
      "   Score: 0.74838233\n",
      "Metrics: {'hit_rate': 1, 'mrr': 1.0, 'ndcg': 0.9870653656426098, 'precision': 0.2, 'recall': 1, 'f1': 0.33333333333333337}\n",
      "--------------------------------------------------------------------------------\n",
      "\n",
      "Query: What's the main difference between feeling down and depression?\n",
      "Method: semantic_search_combined\n",
      "Ground Truth: Sadness is a normal reaction to a loss, disappointment, problems, or other difficult situations. Feeling sad from time to time is just another part of being human. In these cases, feelings of sadness go away quickly and you can go about your daily life. Other ways to talk about sadness might be feeling low, feeling down, or feeling blue. A person may say they are feeling depressed, but if it goes away on its own and doesn't impact life in a big way, it probably isn't the illness of depression. Depression is a mental illness that affects your mood, the way you understand yourself, and the way you understand and relate to things around you. It can also go by different names, such as clinical depression, major depressive disorder, or major depression. Depression can come up for no reason, and it lasts for a long time. It's much more than sadness or low mood. People who experience depression may feel worthless or hopeless. They may feel unreasonable guilty. Some people may experience depression as anger or irritability. It may be hard to concentrate or make decisions. Most people lose interest in things that they used to enjoy and may isolate themselves from others. There are also physical signs of depression, such as problems with sleep, appetite and energy and unexplainable aches or pains. Some may experience difficult thoughts about death or ending their life (suicide). Depression lasts longer than two weeks, doesn't usually go away on its own, and impacts your life. It's a real illness, and it is very treatable. It's important to seek help if you're concerned about depression.\n",
      "Top 3 Results:\n",
      "1. Response: sadness is a normal reaction to a loss, disappointment, problems, or other difficult situations. feeling sad from time to time is just another part of being human. in these cases, feelings of sadness go away quickly and you can go about your daily life. other ways to talk about sadness might be feeling low, feeling down, or feeling blue.a person may say they are feeling depressed, but if it goes away on its own and doesnt impact life in a big way, it probably isnt the illness of depression. depression is a mental illness that affects your mood, the way you understand yourself, and the way you understand and relate to things around you. it can also go by different names, such as clinical depression, major depressive disorder, or major depression. depression can come up for no reason, and it lasts for a long time. its much more than sadness or low mood. people who experience depression may feel worthless or hopeless. they may feel unreasonable guilty. some people may experience depression as anger or irritability. it may be hard to concentrate or make decisions. most people lose interest in things that they used to enjoy and may isolate themselves from others. there are also physical signs of depression, such as problems with sleep, appetite and energy and unexplainable aches or pains. some may experience difficult thoughts about death or ending their life suicide. depression lasts longer than two weeks, doesnt usually go away on its own, and impacts your life. its a real illness, and it is very treatable. its important to seek help if youre concerned about depression.\n",
      "   Score: 0.8558147\n",
      "2. Response: a mental health disorder characterised by persistently depressed mood or loss of interest in activities, causing significant impairment in daily life.\n",
      "   Score: 0.8341098\n",
      "3. Response: talk to me. tell me more. it helps if you open up yourself to someone else.\n",
      "   Score: 0.80948544\n",
      "Metrics: {'hit_rate': 1, 'mrr': 1.0, 'ndcg': 0.9854373507092838, 'precision': 0.2, 'recall': 1, 'f1': 0.33333333333333337}\n",
      "--------------------------------------------------------------------------------\n",
      "\n",
      "Query: What's the main difference between feeling down and depression?\n",
      "Method: text_search\n",
      "Ground Truth: Sadness is a normal reaction to a loss, disappointment, problems, or other difficult situations. Feeling sad from time to time is just another part of being human. In these cases, feelings of sadness go away quickly and you can go about your daily life. Other ways to talk about sadness might be feeling low, feeling down, or feeling blue. A person may say they are feeling depressed, but if it goes away on its own and doesn't impact life in a big way, it probably isn't the illness of depression. Depression is a mental illness that affects your mood, the way you understand yourself, and the way you understand and relate to things around you. It can also go by different names, such as clinical depression, major depressive disorder, or major depression. Depression can come up for no reason, and it lasts for a long time. It's much more than sadness or low mood. People who experience depression may feel worthless or hopeless. They may feel unreasonable guilty. Some people may experience depression as anger or irritability. It may be hard to concentrate or make decisions. Most people lose interest in things that they used to enjoy and may isolate themselves from others. There are also physical signs of depression, such as problems with sleep, appetite and energy and unexplainable aches or pains. Some may experience difficult thoughts about death or ending their life (suicide). Depression lasts longer than two weeks, doesn't usually go away on its own, and impacts your life. It's a real illness, and it is very treatable. It's important to seek help if you're concerned about depression.\n",
      "Top 3 Results:\n",
      "1. Response: sadness is a normal reaction to a loss, disappointment, problems, or other difficult situations. feeling sad from time to time is just another part of being human. in these cases, feelings of sadness go away quickly and you can go about your daily life. other ways to talk about sadness might be feeling low, feeling down, or feeling blue.a person may say they are feeling depressed, but if it goes away on its own and doesnt impact life in a big way, it probably isnt the illness of depression. depression is a mental illness that affects your mood, the way you understand yourself, and the way you understand and relate to things around you. it can also go by different names, such as clinical depression, major depressive disorder, or major depression. depression can come up for no reason, and it lasts for a long time. its much more than sadness or low mood. people who experience depression may feel worthless or hopeless. they may feel unreasonable guilty. some people may experience depression as anger or irritability. it may be hard to concentrate or make decisions. most people lose interest in things that they used to enjoy and may isolate themselves from others. there are also physical signs of depression, such as problems with sleep, appetite and energy and unexplainable aches or pains. some may experience difficult thoughts about death or ending their life suicide. depression lasts longer than two weeks, doesnt usually go away on its own, and impacts your life. its a real illness, and it is very treatable. its important to seek help if youre concerned about depression.\n",
      "   Score: 44.283455\n",
      "2. Response: stress and anxiety are often used interchangeably, and there is overlap between stress and anxiety. stress is related to the same fight, flight, or freeze response as anxiety, and the physical sensations of anxiety and stress may be very similar. the cause of stress and anxiety are usually different, however. stress focuses on mainly external pressures on us that were finding hard to cope with. when we are stressed, we usually know what were stressed about, and the symptoms of stress typically disappear after the stressful situation is over. anxiety, on the other hand, isnt always as easy to figure out. anxiety focuses on worries or fears about things that could threaten us, as well as anxiety about the anxiety itself. stress and anxiety are both part of being human, but both can be problems if they last for a long time or have an impact on our wellbeing or daily life.\n",
      "   Score: 31.248684\n",
      "3. Response: there are many types of mental health professionals. the variety of providers and their services may be confusing. each have various levels of education, training, and may have different areas of expertise. finding the professional who best fits your needs may require some research.\n",
      "   Score: 26.559584\n",
      "Metrics: {'hit_rate': 1, 'mrr': 1.0, 'ndcg': 0.9915343930425838, 'precision': 0.2, 'recall': 1, 'f1': 0.33333333333333337}\n",
      "--------------------------------------------------------------------------------\n",
      "\n",
      "Query: What's the main difference between feeling down and depression?\n",
      "Method: combined_search\n",
      "Ground Truth: Sadness is a normal reaction to a loss, disappointment, problems, or other difficult situations. Feeling sad from time to time is just another part of being human. In these cases, feelings of sadness go away quickly and you can go about your daily life. Other ways to talk about sadness might be feeling low, feeling down, or feeling blue. A person may say they are feeling depressed, but if it goes away on its own and doesn't impact life in a big way, it probably isn't the illness of depression. Depression is a mental illness that affects your mood, the way you understand yourself, and the way you understand and relate to things around you. It can also go by different names, such as clinical depression, major depressive disorder, or major depression. Depression can come up for no reason, and it lasts for a long time. It's much more than sadness or low mood. People who experience depression may feel worthless or hopeless. They may feel unreasonable guilty. Some people may experience depression as anger or irritability. It may be hard to concentrate or make decisions. Most people lose interest in things that they used to enjoy and may isolate themselves from others. There are also physical signs of depression, such as problems with sleep, appetite and energy and unexplainable aches or pains. Some may experience difficult thoughts about death or ending their life (suicide). Depression lasts longer than two weeks, doesn't usually go away on its own, and impacts your life. It's a real illness, and it is very treatable. It's important to seek help if you're concerned about depression.\n",
      "Top 3 Results:\n",
      "1. Response: sadness is a normal reaction to a loss, disappointment, problems, or other difficult situations. feeling sad from time to time is just another part of being human. in these cases, feelings of sadness go away quickly and you can go about your daily life. other ways to talk about sadness might be feeling low, feeling down, or feeling blue.a person may say they are feeling depressed, but if it goes away on its own and doesnt impact life in a big way, it probably isnt the illness of depression. depression is a mental illness that affects your mood, the way you understand yourself, and the way you understand and relate to things around you. it can also go by different names, such as clinical depression, major depressive disorder, or major depression. depression can come up for no reason, and it lasts for a long time. its much more than sadness or low mood. people who experience depression may feel worthless or hopeless. they may feel unreasonable guilty. some people may experience depression as anger or irritability. it may be hard to concentrate or make decisions. most people lose interest in things that they used to enjoy and may isolate themselves from others. there are also physical signs of depression, such as problems with sleep, appetite and energy and unexplainable aches or pains. some may experience difficult thoughts about death or ending their life suicide. depression lasts longer than two weeks, doesnt usually go away on its own, and impacts your life. its a real illness, and it is very treatable. its important to seek help if youre concerned about depression.\n",
      "   Score: 4.3620844\n",
      "2. Response: stress and anxiety are often used interchangeably, and there is overlap between stress and anxiety. stress is related to the same fight, flight, or freeze response as anxiety, and the physical sensations of anxiety and stress may be very similar. the cause of stress and anxiety are usually different, however. stress focuses on mainly external pressures on us that were finding hard to cope with. when we are stressed, we usually know what were stressed about, and the symptoms of stress typically disappear after the stressful situation is over. anxiety, on the other hand, isnt always as easy to figure out. anxiety focuses on worries or fears about things that could threaten us, as well as anxiety about the anxiety itself. stress and anxiety are both part of being human, but both can be problems if they last for a long time or have an impact on our wellbeing or daily life.\n",
      "   Score: 3.1487522\n",
      "3. Response: there are many types of mental health professionals. the variety of providers and their services may be confusing. each have various levels of education, training, and may have different areas of expertise. finding the professional who best fits your needs may require some research.\n",
      "   Score: 2.7391167\n",
      "Metrics: {'hit_rate': 1, 'mrr': 1.0, 'ndcg': 0.9995376064786949, 'precision': 0.2, 'recall': 1, 'f1': 0.33333333333333337}\n",
      "--------------------------------------------------------------------------------\n",
      "\n",
      "Query: What's the real difference between stress and anxiety?\n",
      "Method: semantic_search_question\n",
      "Ground Truth: Stress and anxiety are often used interchangeably, and there is overlap between stress and anxiety. Stress is related to the same fight, flight, or freeze response as anxiety, and the physical sensations of anxiety and stress may be very similar. The cause of stress and anxiety are usually different, however. Stress focuses on mainly external pressures on us that we're finding hard to cope with. When we are stressed, we usually know what we're stressed about, and the symptoms of stress typically disappear after the stressful situation is over. Anxiety, on the other hand, isn't always as easy to figure out. Anxiety focuses on worries or fears about things that could threaten us, as well as anxiety about the anxiety itself. Stress and anxiety are both part of being human, but both can be problems if they last for a long time or have an impact on our well-being or daily life.\n",
      "Top 3 Results:\n",
      "1. Response: stress and anxiety are often used interchangeably, and there is overlap between stress and anxiety. stress is related to the same fight, flight, or freeze response as anxiety, and the physical sensations of anxiety and stress may be very similar. the cause of stress and anxiety are usually different, however. stress focuses on mainly external pressures on us that were finding hard to cope with. when we are stressed, we usually know what were stressed about, and the symptoms of stress typically disappear after the stressful situation is over. anxiety, on the other hand, isnt always as easy to figure out. anxiety focuses on worries or fears about things that could threaten us, as well as anxiety about the anxiety itself. stress and anxiety are both part of being human, but both can be problems if they last for a long time or have an impact on our wellbeing or daily life.\n",
      "   Score: 0.98660636\n",
      "2. Response: i understand that it can be scary. tell me more about it.\n",
      "   Score: 0.7953992\n",
      "3. Response: sadness is a normal reaction to a loss, disappointment, problems, or other difficult situations. feeling sad from time to time is just another part of being human. in these cases, feelings of sadness go away quickly and you can go about your daily life. other ways to talk about sadness might be feeling low, feeling down, or feeling blue.a person may say they are feeling depressed, but if it goes away on its own and doesnt impact life in a big way, it probably isnt the illness of depression. depression is a mental illness that affects your mood, the way you understand yourself, and the way you understand and relate to things around you. it can also go by different names, such as clinical depression, major depressive disorder, or major depression. depression can come up for no reason, and it lasts for a long time. its much more than sadness or low mood. people who experience depression may feel worthless or hopeless. they may feel unreasonable guilty. some people may experience depression as anger or irritability. it may be hard to concentrate or make decisions. most people lose interest in things that they used to enjoy and may isolate themselves from others. there are also physical signs of depression, such as problems with sleep, appetite and energy and unexplainable aches or pains. some may experience difficult thoughts about death or ending their life suicide. depression lasts longer than two weeks, doesnt usually go away on its own, and impacts your life. its a real illness, and it is very treatable. its important to seek help if youre concerned about depression.\n",
      "   Score: 0.7926729\n",
      "Metrics: {'hit_rate': 1, 'mrr': 1.0, 'ndcg': 0.9735274969947453, 'precision': 0.2, 'recall': 1, 'f1': 0.33333333333333337}\n",
      "--------------------------------------------------------------------------------\n",
      "\n",
      "Query: What's the real difference between stress and anxiety?\n",
      "Method: semantic_search_text\n",
      "Ground Truth: Stress and anxiety are often used interchangeably, and there is overlap between stress and anxiety. Stress is related to the same fight, flight, or freeze response as anxiety, and the physical sensations of anxiety and stress may be very similar. The cause of stress and anxiety are usually different, however. Stress focuses on mainly external pressures on us that we're finding hard to cope with. When we are stressed, we usually know what we're stressed about, and the symptoms of stress typically disappear after the stressful situation is over. Anxiety, on the other hand, isn't always as easy to figure out. Anxiety focuses on worries or fears about things that could threaten us, as well as anxiety about the anxiety itself. Stress and anxiety are both part of being human, but both can be problems if they last for a long time or have an impact on our well-being or daily life.\n",
      "Top 3 Results:\n",
      "1. Response: stress and anxiety are often used interchangeably, and there is overlap between stress and anxiety. stress is related to the same fight, flight, or freeze response as anxiety, and the physical sensations of anxiety and stress may be very similar. the cause of stress and anxiety are usually different, however. stress focuses on mainly external pressures on us that were finding hard to cope with. when we are stressed, we usually know what were stressed about, and the symptoms of stress typically disappear after the stressful situation is over. anxiety, on the other hand, isnt always as easy to figure out. anxiety focuses on worries or fears about things that could threaten us, as well as anxiety about the anxiety itself. stress and anxiety are both part of being human, but both can be problems if they last for a long time or have an impact on our wellbeing or daily life.\n",
      "   Score: 0.94723725\n",
      "2. Response: i understand that it can be scary. tell me more about it.\n",
      "   Score: 0.7249396\n",
      "3. Response: sadness is a normal reaction to a loss, disappointment, problems, or other difficult situations. feeling sad from time to time is just another part of being human. in these cases, feelings of sadness go away quickly and you can go about your daily life. other ways to talk about sadness might be feeling low, feeling down, or feeling blue.a person may say they are feeling depressed, but if it goes away on its own and doesnt impact life in a big way, it probably isnt the illness of depression. depression is a mental illness that affects your mood, the way you understand yourself, and the way you understand and relate to things around you. it can also go by different names, such as clinical depression, major depressive disorder, or major depression. depression can come up for no reason, and it lasts for a long time. its much more than sadness or low mood. people who experience depression may feel worthless or hopeless. they may feel unreasonable guilty. some people may experience depression as anger or irritability. it may be hard to concentrate or make decisions. most people lose interest in things that they used to enjoy and may isolate themselves from others. there are also physical signs of depression, such as problems with sleep, appetite and energy and unexplainable aches or pains. some may experience difficult thoughts about death or ending their life suicide. depression lasts longer than two weeks, doesnt usually go away on its own, and impacts your life. its a real illness, and it is very treatable. its important to seek help if youre concerned about depression.\n",
      "   Score: 0.7197926\n",
      "Metrics: {'hit_rate': 1, 'mrr': 1.0, 'ndcg': 0.975653569344425, 'precision': 0.2, 'recall': 1, 'f1': 0.33333333333333337}\n",
      "--------------------------------------------------------------------------------\n",
      "\n",
      "Query: What's the real difference between stress and anxiety?\n",
      "Method: semantic_search_combined\n",
      "Ground Truth: Stress and anxiety are often used interchangeably, and there is overlap between stress and anxiety. Stress is related to the same fight, flight, or freeze response as anxiety, and the physical sensations of anxiety and stress may be very similar. The cause of stress and anxiety are usually different, however. Stress focuses on mainly external pressures on us that we're finding hard to cope with. When we are stressed, we usually know what we're stressed about, and the symptoms of stress typically disappear after the stressful situation is over. Anxiety, on the other hand, isn't always as easy to figure out. Anxiety focuses on worries or fears about things that could threaten us, as well as anxiety about the anxiety itself. Stress and anxiety are both part of being human, but both can be problems if they last for a long time or have an impact on our well-being or daily life.\n",
      "Top 3 Results:\n",
      "1. Response: stress and anxiety are often used interchangeably, and there is overlap between stress and anxiety. stress is related to the same fight, flight, or freeze response as anxiety, and the physical sensations of anxiety and stress may be very similar. the cause of stress and anxiety are usually different, however. stress focuses on mainly external pressures on us that were finding hard to cope with. when we are stressed, we usually know what were stressed about, and the symptoms of stress typically disappear after the stressful situation is over. anxiety, on the other hand, isnt always as easy to figure out. anxiety focuses on worries or fears about things that could threaten us, as well as anxiety about the anxiety itself. stress and anxiety are both part of being human, but both can be problems if they last for a long time or have an impact on our wellbeing or daily life.\n",
      "   Score: 0.9629657\n",
      "2. Response: there are many types of mental health professionals. the variety of providers and their services may be confusing. each have various levels of education, training, and may have different areas of expertise. finding the professional who best fits your needs may require some research.\n",
      "   Score: 0.7487595\n",
      "3. Response: challenges or problems with your mental health can arise from psychological, biological, and social, issues, as well as life events.\n",
      "   Score: 0.7368407\n",
      "Metrics: {'hit_rate': 1, 'mrr': 1.0, 'ndcg': 0.9781105207521584, 'precision': 0.2, 'recall': 1, 'f1': 0.33333333333333337}\n",
      "--------------------------------------------------------------------------------\n",
      "\n",
      "Query: What's the real difference between stress and anxiety?\n",
      "Method: text_search\n",
      "Ground Truth: Stress and anxiety are often used interchangeably, and there is overlap between stress and anxiety. Stress is related to the same fight, flight, or freeze response as anxiety, and the physical sensations of anxiety and stress may be very similar. The cause of stress and anxiety are usually different, however. Stress focuses on mainly external pressures on us that we're finding hard to cope with. When we are stressed, we usually know what we're stressed about, and the symptoms of stress typically disappear after the stressful situation is over. Anxiety, on the other hand, isn't always as easy to figure out. Anxiety focuses on worries or fears about things that could threaten us, as well as anxiety about the anxiety itself. Stress and anxiety are both part of being human, but both can be problems if they last for a long time or have an impact on our well-being or daily life.\n",
      "Top 3 Results:\n",
      "1. Response: stress and anxiety are often used interchangeably, and there is overlap between stress and anxiety. stress is related to the same fight, flight, or freeze response as anxiety, and the physical sensations of anxiety and stress may be very similar. the cause of stress and anxiety are usually different, however. stress focuses on mainly external pressures on us that were finding hard to cope with. when we are stressed, we usually know what were stressed about, and the symptoms of stress typically disappear after the stressful situation is over. anxiety, on the other hand, isnt always as easy to figure out. anxiety focuses on worries or fears about things that could threaten us, as well as anxiety about the anxiety itself. stress and anxiety are both part of being human, but both can be problems if they last for a long time or have an impact on our wellbeing or daily life.\n",
      "   Score: 53.334892\n",
      "2. Response: sadness is a normal reaction to a loss, disappointment, problems, or other difficult situations. feeling sad from time to time is just another part of being human. in these cases, feelings of sadness go away quickly and you can go about your daily life. other ways to talk about sadness might be feeling low, feeling down, or feeling blue.a person may say they are feeling depressed, but if it goes away on its own and doesnt impact life in a big way, it probably isnt the illness of depression. depression is a mental illness that affects your mood, the way you understand yourself, and the way you understand and relate to things around you. it can also go by different names, such as clinical depression, major depressive disorder, or major depression. depression can come up for no reason, and it lasts for a long time. its much more than sadness or low mood. people who experience depression may feel worthless or hopeless. they may feel unreasonable guilty. some people may experience depression as anger or irritability. it may be hard to concentrate or make decisions. most people lose interest in things that they used to enjoy and may isolate themselves from others. there are also physical signs of depression, such as problems with sleep, appetite and energy and unexplainable aches or pains. some may experience difficult thoughts about death or ending their life suicide. depression lasts longer than two weeks, doesnt usually go away on its own, and impacts your life. its a real illness, and it is very treatable. its important to seek help if youre concerned about depression.\n",
      "   Score: 27.666134\n",
      "3. Response: there are many types of mental health professionals. the variety of providers and their services may be confusing. each have various levels of education, training, and may have different areas of expertise. finding the professional who best fits your needs may require some research.\n",
      "   Score: 26.559584\n",
      "Metrics: {'hit_rate': 1, 'mrr': 1.0, 'ndcg': 0.9982383703201055, 'precision': 0.2, 'recall': 1, 'f1': 0.33333333333333337}\n",
      "--------------------------------------------------------------------------------\n",
      "\n",
      "Query: What's the real difference between stress and anxiety?\n",
      "Method: combined_search\n",
      "Ground Truth: Stress and anxiety are often used interchangeably, and there is overlap between stress and anxiety. Stress is related to the same fight, flight, or freeze response as anxiety, and the physical sensations of anxiety and stress may be very similar. The cause of stress and anxiety are usually different, however. Stress focuses on mainly external pressures on us that we're finding hard to cope with. When we are stressed, we usually know what we're stressed about, and the symptoms of stress typically disappear after the stressful situation is over. Anxiety, on the other hand, isn't always as easy to figure out. Anxiety focuses on worries or fears about things that could threaten us, as well as anxiety about the anxiety itself. Stress and anxiety are both part of being human, but both can be problems if they last for a long time or have an impact on our well-being or daily life.\n",
      "Top 3 Results:\n",
      "1. Response: stress and anxiety are often used interchangeably, and there is overlap between stress and anxiety. stress is related to the same fight, flight, or freeze response as anxiety, and the physical sensations of anxiety and stress may be very similar. the cause of stress and anxiety are usually different, however. stress focuses on mainly external pressures on us that were finding hard to cope with. when we are stressed, we usually know what were stressed about, and the symptoms of stress typically disappear after the stressful situation is over. anxiety, on the other hand, isnt always as easy to figure out. anxiety focuses on worries or fears about things that could threaten us, as well as anxiety about the anxiety itself. stress and anxiety are both part of being human, but both can be problems if they last for a long time or have an impact on our wellbeing or daily life.\n",
      "   Score: 5.2422504\n",
      "2. Response: sadness is a normal reaction to a loss, disappointment, problems, or other difficult situations. feeling sad from time to time is just another part of being human. in these cases, feelings of sadness go away quickly and you can go about your daily life. other ways to talk about sadness might be feeling low, feeling down, or feeling blue.a person may say they are feeling depressed, but if it goes away on its own and doesnt impact life in a big way, it probably isnt the illness of depression. depression is a mental illness that affects your mood, the way you understand yourself, and the way you understand and relate to things around you. it can also go by different names, such as clinical depression, major depressive disorder, or major depression. depression can come up for no reason, and it lasts for a long time. its much more than sadness or low mood. people who experience depression may feel worthless or hopeless. they may feel unreasonable guilty. some people may experience depression as anger or irritability. it may be hard to concentrate or make decisions. most people lose interest in things that they used to enjoy and may isolate themselves from others. there are also physical signs of depression, such as problems with sleep, appetite and energy and unexplainable aches or pains. some may experience difficult thoughts about death or ending their life suicide. depression lasts longer than two weeks, doesnt usually go away on its own, and impacts your life. its a real illness, and it is very treatable. its important to seek help if youre concerned about depression.\n",
      "   Score: 2.8315802\n",
      "3. Response: there are many types of mental health professionals. the variety of providers and their services may be confusing. each have various levels of education, training, and may have different areas of expertise. finding the professional who best fits your needs may require some research.\n",
      "   Score: 2.7135496\n",
      "Metrics: {'hit_rate': 1, 'mrr': 1.0, 'ndcg': 0.9982383703201055, 'precision': 0.2, 'recall': 1, 'f1': 0.33333333333333337}\n",
      "--------------------------------------------------------------------------------\n",
      "\n",
      "Query: How do I know if I need to see a mental health professional?\n",
      "Method: semantic_search_question\n",
      "Ground Truth: If your beliefs, thoughts, feelings or behaviours have a significant impact on your ability to function in what might be considered a normal or ordinary way, it would be important to seek help.\n",
      "Top 3 Results:\n",
      "1. Response: the most important thing is to talk to someone you trust. this might be a friend, colleague, family member, or gp. in addition to talking to someone, it may be useful to find out more information about what you are experiencing. these things may help to get some perspective on what you are experiencing, and be the start of getting help.\n",
      "   Score: 0.9160447\n",
      "2. Response: symptoms of mental health disorders vary depending on the type and severity of the condition. the following is a list of general symptoms that may suggest a mental health disorder, particularly when multiple symptoms are expressed at once. in adults confused thinking longlasting sadness or irritability extreme highs and lows in mood excessive fear, worrying, or anxiety social withdrawal dramatic changes in eating or sleeping habits strong feelings of anger delusions or hallucinations seeing or hearing things that are not really there increasing inability to cope with daily problems and activities thoughts of suicide denial of obvious problems many unexplained physical problems abuse of drugs andor alcohol in older children and preteens abuse of drugs andor alcohol inability to cope with daily problems and activities changes in sleeping andor eating habits excessive complaints of physical problems defying authority, skipping school, stealing, or damaging property intense fear of gaining weight longlasting negative mood, often along with poor appetite and thoughts of death frequent outbursts of anger in younger children changes in school performance poor grades despite strong efforts excessive worrying or anxiety hyperactivity persistent nightmares persistent disobedience andor aggressive behavior frequent temper tantrums\n",
      "   Score: 0.8951576\n",
      "3. Response: oh thats really great. id be willing to answer anything that i know about it.\n",
      "   Score: 0.88683295\n",
      "Metrics: {'hit_rate': 0, 'mrr': 0, 'ndcg': 0.9900698254389015, 'precision': 0, 'recall': 0, 'f1': 0}\n",
      "--------------------------------------------------------------------------------\n",
      "\n",
      "Query: How do I know if I need to see a mental health professional?\n",
      "Method: semantic_search_text\n",
      "Ground Truth: If your beliefs, thoughts, feelings or behaviours have a significant impact on your ability to function in what might be considered a normal or ordinary way, it would be important to seek help.\n",
      "Top 3 Results:\n",
      "1. Response: symptoms of mental health disorders vary depending on the type and severity of the condition. the following is a list of general symptoms that may suggest a mental health disorder, particularly when multiple symptoms are expressed at once. in adults confused thinking longlasting sadness or irritability extreme highs and lows in mood excessive fear, worrying, or anxiety social withdrawal dramatic changes in eating or sleeping habits strong feelings of anger delusions or hallucinations seeing or hearing things that are not really there increasing inability to cope with daily problems and activities thoughts of suicide denial of obvious problems many unexplained physical problems abuse of drugs andor alcohol in older children and preteens abuse of drugs andor alcohol inability to cope with daily problems and activities changes in sleeping andor eating habits excessive complaints of physical problems defying authority, skipping school, stealing, or damaging property intense fear of gaining weight longlasting negative mood, often along with poor appetite and thoughts of death frequent outbursts of anger in younger children changes in school performance poor grades despite strong efforts excessive worrying or anxiety hyperactivity persistent nightmares persistent disobedience andor aggressive behavior frequent temper tantrums\n",
      "   Score: 0.8340008\n",
      "2. Response: mental illnesses are health conditions that disrupt a persons thoughts, emotions, relationships, and daily functioning. they are associated with distress and diminished capacity to engage in the ordinary activities of daily life. mental illnesses fall along a continuum of severity some are fairly mild and only interfere with some aspects of life, such as certain phobias. on the other end of the spectrum lie serious mental illnesses, which result in major functional impairment and interference with daily life. these include such disorders as major depression, schizophrenia, and bipolar disorder, and may require that the person receives care in a hospital. it is important to know that mental illnesses are medical conditions that have nothing to do with a persons character, intelligence, or willpower. just as diabetes is a disorder of the pancreas, mental illness is a medical condition due to the brains biology. similarly to how one would treat diabetes with medication and insulin, mental illness is treatable with a combination of medication and social support. these treatments are highly effective, with 7090 percent of individuals receiving treatment experiencing a reduction in symptoms and an improved quality of life. with the proper treatment, it is very possible for a person with mental illness to be independent and successful.\n",
      "   Score: 0.8245158\n",
      "3. Response: oh thats really great. id be willing to answer anything that i know about it.\n",
      "   Score: 0.8130827\n",
      "Metrics: {'hit_rate': 0, 'mrr': 0, 'ndcg': 0.7709188470752696, 'precision': 0, 'recall': 0, 'f1': 0}\n",
      "--------------------------------------------------------------------------------\n",
      "\n",
      "Query: How do I know if I need to see a mental health professional?\n",
      "Method: semantic_search_combined\n",
      "Ground Truth: If your beliefs, thoughts, feelings or behaviours have a significant impact on your ability to function in what might be considered a normal or ordinary way, it would be important to seek help.\n",
      "Top 3 Results:\n",
      "1. Response: the most important thing is to talk to someone you trust. this might be a friend, colleague, family member, or gp. in addition to talking to someone, it may be useful to find out more information about what you are experiencing. these things may help to get some perspective on what you are experiencing, and be the start of getting help.\n",
      "   Score: 0.8921716\n",
      "2. Response: feeling comfortable with the professional you or your child is working with is critical to the success of the treatment. finding the professional who best fits your needs may require research. start by searching for providers in your area.\n",
      "   Score: 0.8551762\n",
      "3. Response: feeling comfortable with the professional you or your child is working with is critical to the success of your treatment. finding the professional who best fits your needs may require some research.\n",
      "   Score: 0.85508275\n",
      "Metrics: {'hit_rate': 0, 'mrr': 0, 'ndcg': 0.9833310216368873, 'precision': 0, 'recall': 0, 'f1': 0}\n",
      "--------------------------------------------------------------------------------\n",
      "\n",
      "Query: How do I know if I need to see a mental health professional?\n",
      "Method: text_search\n",
      "Ground Truth: If your beliefs, thoughts, feelings or behaviours have a significant impact on your ability to function in what might be considered a normal or ordinary way, it would be important to seek help.\n",
      "Top 3 Results:\n",
      "1. Response: if your beliefs , thoughts , feelings or behaviours have a significant impact on your ability to function in what might be considered a normal or ordinary way, it would be important to seek help.\n",
      "   Score: 30.45359\n",
      "2. Response: feeling comfortable with the professional you or your child is working with is critical to the success of the treatment. finding the professional who best fits your needs may require research. start by searching for providers in your area.\n",
      "   Score: 30.262413\n",
      "3. Response: feeling comfortable with the professional you or your child is working with is critical to the success of your treatment. finding the professional who best fits your needs may require some research.\n",
      "   Score: 28.782827\n",
      "Metrics: {'hit_rate': 1, 'mrr': 1.0, 'ndcg': 0.9942686613792066, 'precision': 0.2, 'recall': 1, 'f1': 0.33333333333333337}\n",
      "--------------------------------------------------------------------------------\n",
      "\n",
      "Query: How do I know if I need to see a mental health professional?\n",
      "Method: combined_search\n",
      "Ground Truth: If your beliefs, thoughts, feelings or behaviours have a significant impact on your ability to function in what might be considered a normal or ordinary way, it would be important to seek help.\n",
      "Top 3 Results:\n",
      "1. Response: if your beliefs , thoughts , feelings or behaviours have a significant impact on your ability to function in what might be considered a normal or ordinary way, it would be important to seek help.\n",
      "   Score: 2.5714817\n",
      "2. Response: feeling comfortable with the professional you or your child is working with is critical to the success of the treatment. finding the professional who best fits your needs may require research. start by searching for providers in your area.\n",
      "   Score: 2.5458167\n",
      "3. Response: the most important thing is to talk to someone you trust. this might be a friend, colleague, family member, or gp. in addition to talking to someone, it may be useful to find out more information about what you are experiencing. these things may help to get some perspective on what you are experiencing, and be the start of getting help.\n",
      "   Score: 2.4382524\n",
      "Metrics: {'hit_rate': 1, 'mrr': 1.0, 'ndcg': 0.9849099160179047, 'precision': 0.2, 'recall': 1, 'f1': 0.33333333333333337}\n",
      "--------------------------------------------------------------------------------\n",
      "\n",
      "Query: What should I know before starting mental health medication?\n",
      "Method: semantic_search_question\n",
      "Ground Truth: The best source of information regarding medications is the physician prescribing them. He or she should be able to answer questions such as:\n",
      "1. What is the medication supposed to do?\n",
      "2. When should it begin to take effect, and how will I know when it is effective?\n",
      "3. How is the medication taken and for how long? What food, drinks, other medicines, and activities should be avoided while taking this medication?\n",
      "4. What are the side effects and what should be done if they occur?\n",
      "5. What do I do if a dose is missed?\n",
      "6. Is there any written information available about this medication?\n",
      "7. Are there other medications that might be appropriate?\n",
      "8. If so, why do you prefer the one you have chosen?\n",
      "9. How do you monitor medications and what symptoms indicate that they should be raised, lowered, or changed?\n",
      "10. All medications should be taken as directed. Most medications for mental illnesses do not work when taken irregularly, and extra doses can cause severe, sometimes dangerous side effects. Many psychiatric medications begin to have a beneficial effect only after they have been taken for several weeks.\n",
      "Top 3 Results:\n",
      "1. Response: the best source of information regarding medications is the physician prescribing them. he or she should be able to answer questions such as 1. what is the medication supposed to do? 2. when should it begin to take effect, and how will i know when it is effective? 3. how is the medication taken and for how long? what food, drinks, other medicines, and activities should be avoided while taking this medication? 4. what are the side effects and what should be done if they occur? 5. what do i do if a dose is missed? 6. is there any written information available about this medication? 7. are there other medications that might be appropriate? 8. if so, why do you prefer the one you have chosen? 9. how do you monitor medications and what symptoms indicate that they should be raised, lowered, or changed? 10. all medications should be taken as directed. most medications for mental illnesses do not work when taken irregularly, and extra doses can cause severe, sometimes dangerous side effects. many psychiatric medications begin to have a beneficial effect only after they have been taken for several weeks.\n",
      "   Score: 0.89756155\n",
      "2. Response: mental health conditions are often treated with medication, therapy or a combination of the two. however, there are many different types of treatment available, including complementary alternative treatments, selfhelp plans, and peer support. treatments are very personal and should be discussed by the person with the mental health conditions and his or her team.\n",
      "   Score: 0.8767271\n",
      "3. Response: the most important thing is to talk to someone you trust. this might be a friend, colleague, family member, or gp. in addition to talking to someone, it may be useful to find out more information about what you are experiencing. these things may help to get some perspective on what you are experiencing, and be the start of getting help.\n",
      "   Score: 0.8753979\n",
      "Metrics: {'hit_rate': 1, 'mrr': 1.0, 'ndcg': 0.9968059198777551, 'precision': 0.2, 'recall': 1, 'f1': 0.33333333333333337}\n",
      "--------------------------------------------------------------------------------\n",
      "\n",
      "Query: What should I know before starting mental health medication?\n",
      "Method: semantic_search_text\n",
      "Ground Truth: The best source of information regarding medications is the physician prescribing them. He or she should be able to answer questions such as:\n",
      "1. What is the medication supposed to do?\n",
      "2. When should it begin to take effect, and how will I know when it is effective?\n",
      "3. How is the medication taken and for how long? What food, drinks, other medicines, and activities should be avoided while taking this medication?\n",
      "4. What are the side effects and what should be done if they occur?\n",
      "5. What do I do if a dose is missed?\n",
      "6. Is there any written information available about this medication?\n",
      "7. Are there other medications that might be appropriate?\n",
      "8. If so, why do you prefer the one you have chosen?\n",
      "9. How do you monitor medications and what symptoms indicate that they should be raised, lowered, or changed?\n",
      "10. All medications should be taken as directed. Most medications for mental illnesses do not work when taken irregularly, and extra doses can cause severe, sometimes dangerous side effects. Many psychiatric medications begin to have a beneficial effect only after they have been taken for several weeks.\n",
      "Top 3 Results:\n",
      "1. Response: oh thats really great. id be willing to answer anything that i know about it.\n",
      "   Score: 0.8364146\n",
      "2. Response: the best source of information regarding medications is the physician prescribing them. he or she should be able to answer questions such as 1. what is the medication supposed to do? 2. when should it begin to take effect, and how will i know when it is effective? 3. how is the medication taken and for how long? what food, drinks, other medicines, and activities should be avoided while taking this medication? 4. what are the side effects and what should be done if they occur? 5. what do i do if a dose is missed? 6. is there any written information available about this medication? 7. are there other medications that might be appropriate? 8. if so, why do you prefer the one you have chosen? 9. how do you monitor medications and what symptoms indicate that they should be raised, lowered, or changed? 10. all medications should be taken as directed. most medications for mental illnesses do not work when taken irregularly, and extra doses can cause severe, sometimes dangerous side effects. many psychiatric medications begin to have a beneficial effect only after they have been taken for several weeks.\n",
      "   Score: 0.83317184\n",
      "3. Response: we can all suffer from mental health challenges, but developing our wellbeing, resilience, and seeking help early can help prevent challenges becoming serious.\n",
      "   Score: 0.82988834\n",
      "Metrics: {'hit_rate': 1, 'mrr': 0.5, 'ndcg': 0.6831609640827225, 'precision': 0.2, 'recall': 1, 'f1': 0.33333333333333337}\n",
      "--------------------------------------------------------------------------------\n",
      "\n",
      "Query: What should I know before starting mental health medication?\n",
      "Method: semantic_search_combined\n",
      "Ground Truth: The best source of information regarding medications is the physician prescribing them. He or she should be able to answer questions such as:\n",
      "1. What is the medication supposed to do?\n",
      "2. When should it begin to take effect, and how will I know when it is effective?\n",
      "3. How is the medication taken and for how long? What food, drinks, other medicines, and activities should be avoided while taking this medication?\n",
      "4. What are the side effects and what should be done if they occur?\n",
      "5. What do I do if a dose is missed?\n",
      "6. Is there any written information available about this medication?\n",
      "7. Are there other medications that might be appropriate?\n",
      "8. If so, why do you prefer the one you have chosen?\n",
      "9. How do you monitor medications and what symptoms indicate that they should be raised, lowered, or changed?\n",
      "10. All medications should be taken as directed. Most medications for mental illnesses do not work when taken irregularly, and extra doses can cause severe, sometimes dangerous side effects. Many psychiatric medications begin to have a beneficial effect only after they have been taken for several weeks.\n",
      "Top 3 Results:\n",
      "1. Response: the best source of information regarding medications is the physician prescribing them. he or she should be able to answer questions such as 1. what is the medication supposed to do? 2. when should it begin to take effect, and how will i know when it is effective? 3. how is the medication taken and for how long? what food, drinks, other medicines, and activities should be avoided while taking this medication? 4. what are the side effects and what should be done if they occur? 5. what do i do if a dose is missed? 6. is there any written information available about this medication? 7. are there other medications that might be appropriate? 8. if so, why do you prefer the one you have chosen? 9. how do you monitor medications and what symptoms indicate that they should be raised, lowered, or changed? 10. all medications should be taken as directed. most medications for mental illnesses do not work when taken irregularly, and extra doses can cause severe, sometimes dangerous side effects. many psychiatric medications begin to have a beneficial effect only after they have been taken for several weeks.\n",
      "   Score: 0.8736634\n",
      "2. Response: the most important thing is to talk to someone you trust. this might be a friend, colleague, family member, or gp. in addition to talking to someone, it may be useful to find out more information about what you are experiencing. these things may help to get some perspective on what you are experiencing, and be the start of getting help.\n",
      "   Score: 0.8625753\n",
      "3. Response: oh thats really great. id be willing to answer anything that i know about it.\n",
      "   Score: 0.8448162\n",
      "Metrics: {'hit_rate': 1, 'mrr': 1.0, 'ndcg': 0.9772202514386765, 'precision': 0.2, 'recall': 1, 'f1': 0.33333333333333337}\n",
      "--------------------------------------------------------------------------------\n",
      "\n",
      "Query: What should I know before starting mental health medication?\n",
      "Method: text_search\n",
      "Ground Truth: The best source of information regarding medications is the physician prescribing them. He or she should be able to answer questions such as:\n",
      "1. What is the medication supposed to do?\n",
      "2. When should it begin to take effect, and how will I know when it is effective?\n",
      "3. How is the medication taken and for how long? What food, drinks, other medicines, and activities should be avoided while taking this medication?\n",
      "4. What are the side effects and what should be done if they occur?\n",
      "5. What do I do if a dose is missed?\n",
      "6. Is there any written information available about this medication?\n",
      "7. Are there other medications that might be appropriate?\n",
      "8. If so, why do you prefer the one you have chosen?\n",
      "9. How do you monitor medications and what symptoms indicate that they should be raised, lowered, or changed?\n",
      "10. All medications should be taken as directed. Most medications for mental illnesses do not work when taken irregularly, and extra doses can cause severe, sometimes dangerous side effects. Many psychiatric medications begin to have a beneficial effect only after they have been taken for several weeks.\n",
      "Top 3 Results:\n",
      "1. Response: the best source of information regarding medications is the physician prescribing them. he or she should be able to answer questions such as 1. what is the medication supposed to do? 2. when should it begin to take effect, and how will i know when it is effective? 3. how is the medication taken and for how long? what food, drinks, other medicines, and activities should be avoided while taking this medication? 4. what are the side effects and what should be done if they occur? 5. what do i do if a dose is missed? 6. is there any written information available about this medication? 7. are there other medications that might be appropriate? 8. if so, why do you prefer the one you have chosen? 9. how do you monitor medications and what symptoms indicate that they should be raised, lowered, or changed? 10. all medications should be taken as directed. most medications for mental illnesses do not work when taken irregularly, and extra doses can cause severe, sometimes dangerous side effects. many psychiatric medications begin to have a beneficial effect only after they have been taken for several weeks.\n",
      "   Score: 63.903214\n",
      "2. Response: although pandora cannot substitute for professional advice, we encourage those with symptoms to talk to their friends and family members and seek the counsel of a mental health professional. the sooner the mental health condition is identified and treated, the sooner they can get on the path to recovery. if you know someone who is having problems, dont assume that the issue will resolve itself. let them know that you care about them, and that there are treatment options available that will help them heal. speak with a mental health professional or counselor if you think your friend or family member is experiencing the symptoms of a mental health condition. if the affected loved one knows that you support them, they will be more likely to seek out help.\n",
      "   Score: 24.073654\n",
      "3. Response: maintaining mental health is crucial to stabilizing constructive behaviors, emotions, and thoughts. focusing on mental health care can increase productivity, enhance our selfimage, and improve relationships.\n",
      "   Score: 22.654781\n",
      "Metrics: {'hit_rate': 1, 'mrr': 1.0, 'ndcg': 0.9966994234517352, 'precision': 0.2, 'recall': 1, 'f1': 0.33333333333333337}\n",
      "--------------------------------------------------------------------------------\n",
      "\n",
      "Query: What should I know before starting mental health medication?\n",
      "Method: combined_search\n",
      "Ground Truth: The best source of information regarding medications is the physician prescribing them. He or she should be able to answer questions such as:\n",
      "1. What is the medication supposed to do?\n",
      "2. When should it begin to take effect, and how will I know when it is effective?\n",
      "3. How is the medication taken and for how long? What food, drinks, other medicines, and activities should be avoided while taking this medication?\n",
      "4. What are the side effects and what should be done if they occur?\n",
      "5. What do I do if a dose is missed?\n",
      "6. Is there any written information available about this medication?\n",
      "7. Are there other medications that might be appropriate?\n",
      "8. If so, why do you prefer the one you have chosen?\n",
      "9. How do you monitor medications and what symptoms indicate that they should be raised, lowered, or changed?\n",
      "10. All medications should be taken as directed. Most medications for mental illnesses do not work when taken irregularly, and extra doses can cause severe, sometimes dangerous side effects. Many psychiatric medications begin to have a beneficial effect only after they have been taken for several weeks.\n",
      "Top 3 Results:\n",
      "1. Response: the best source of information regarding medications is the physician prescribing them. he or she should be able to answer questions such as 1. what is the medication supposed to do? 2. when should it begin to take effect, and how will i know when it is effective? 3. how is the medication taken and for how long? what food, drinks, other medicines, and activities should be avoided while taking this medication? 4. what are the side effects and what should be done if they occur? 5. what do i do if a dose is missed? 6. is there any written information available about this medication? 7. are there other medications that might be appropriate? 8. if so, why do you prefer the one you have chosen? 9. how do you monitor medications and what symptoms indicate that they should be raised, lowered, or changed? 10. all medications should be taken as directed. most medications for mental illnesses do not work when taken irregularly, and extra doses can cause severe, sometimes dangerous side effects. many psychiatric medications begin to have a beneficial effect only after they have been taken for several weeks.\n",
      "   Score: 5.997531\n",
      "2. Response: maintaining mental health is crucial to stabilizing constructive behaviors, emotions, and thoughts. focusing on mental health care can increase productivity, enhance our selfimage, and improve relationships.\n",
      "   Score: 2.4928179\n",
      "3. Response: although pandora cannot substitute for professional advice, we encourage those with symptoms to talk to their friends and family members and seek the counsel of a mental health professional. the sooner the mental health condition is identified and treated, the sooner they can get on the path to recovery. if you know someone who is having problems, dont assume that the issue will resolve itself. let them know that you care about them, and that there are treatment options available that will help them heal. speak with a mental health professional or counselor if you think your friend or family member is experiencing the symptoms of a mental health condition. if the affected loved one knows that you support them, they will be more likely to seek out help.\n",
      "   Score: 2.087302\n",
      "Metrics: {'hit_rate': 1, 'mrr': 1.0, 'ndcg': 0.9801769740287197, 'precision': 0.2, 'recall': 1, 'f1': 0.33333333333333337}\n",
      "--------------------------------------------------------------------------------\n",
      "\n",
      "Query: What are the early signs of mental health issues in adults?\n",
      "Method: semantic_search_question\n",
      "Ground Truth: Symptoms of mental health disorders vary depending on the type and severity of the condition. The following is a list of general symptoms that may suggest a mental health disorder, particularly when multiple symptoms are expressed at once.\n",
      "In adults:\n",
      "Confused thinking\n",
      "Long-lasting sadness or irritability\n",
      "Extreme highs and lows in mood\n",
      "Excessive fear, worrying, or anxiety\n",
      "Social withdrawal\n",
      "Dramatic changes in eating or sleeping habits\n",
      "Strong feelings of anger\n",
      "Delusions or hallucinations (seeing or hearing things that are not really there)\n",
      "Increasing inability to cope with daily problems and activities\n",
      "Thoughts of suicide\n",
      "Denial of obvious problems\n",
      "Many unexplained physical problems\n",
      "Abuse of drugs and/or alcohol\n",
      "Top 3 Results:\n",
      "1. Response: symptoms of mental health disorders vary depending on the type and severity of the condition. the following is a list of general symptoms that may suggest a mental health disorder, particularly when multiple symptoms are expressed at once. in adults confused thinking longlasting sadness or irritability extreme highs and lows in mood excessive fear, worrying, or anxiety social withdrawal dramatic changes in eating or sleeping habits strong feelings of anger delusions or hallucinations seeing or hearing things that are not really there increasing inability to cope with daily problems and activities thoughts of suicide denial of obvious problems many unexplained physical problems abuse of drugs andor alcohol in older children and preteens abuse of drugs andor alcohol inability to cope with daily problems and activities changes in sleeping andor eating habits excessive complaints of physical problems defying authority, skipping school, stealing, or damaging property intense fear of gaining weight longlasting negative mood, often along with poor appetite and thoughts of death frequent outbursts of anger in younger children changes in school performance poor grades despite strong efforts excessive worrying or anxiety hyperactivity persistent nightmares persistent disobedience andor aggressive behavior frequent temper tantrums\n",
      "   Score: 0.9474702\n",
      "2. Response: challenges or problems with your mental health can arise from psychological, biological, and social, issues, as well as life events.\n",
      "   Score: 0.8825948\n",
      "3. Response: oh thats really great. id be willing to answer anything that i know about it.\n",
      "   Score: 0.86925507\n",
      "Metrics: {'hit_rate': 0, 'mrr': 0, 'ndcg': 0.9846261629173196, 'precision': 0, 'recall': 0, 'f1': 0}\n",
      "--------------------------------------------------------------------------------\n",
      "\n",
      "Query: What are the early signs of mental health issues in adults?\n",
      "Method: semantic_search_text\n",
      "Ground Truth: Symptoms of mental health disorders vary depending on the type and severity of the condition. The following is a list of general symptoms that may suggest a mental health disorder, particularly when multiple symptoms are expressed at once.\n",
      "In adults:\n",
      "Confused thinking\n",
      "Long-lasting sadness or irritability\n",
      "Extreme highs and lows in mood\n",
      "Excessive fear, worrying, or anxiety\n",
      "Social withdrawal\n",
      "Dramatic changes in eating or sleeping habits\n",
      "Strong feelings of anger\n",
      "Delusions or hallucinations (seeing or hearing things that are not really there)\n",
      "Increasing inability to cope with daily problems and activities\n",
      "Thoughts of suicide\n",
      "Denial of obvious problems\n",
      "Many unexplained physical problems\n",
      "Abuse of drugs and/or alcohol\n",
      "Top 3 Results:\n",
      "1. Response: symptoms of mental health disorders vary depending on the type and severity of the condition. the following is a list of general symptoms that may suggest a mental health disorder, particularly when multiple symptoms are expressed at once. in adults confused thinking longlasting sadness or irritability extreme highs and lows in mood excessive fear, worrying, or anxiety social withdrawal dramatic changes in eating or sleeping habits strong feelings of anger delusions or hallucinations seeing or hearing things that are not really there increasing inability to cope with daily problems and activities thoughts of suicide denial of obvious problems many unexplained physical problems abuse of drugs andor alcohol in older children and preteens abuse of drugs andor alcohol inability to cope with daily problems and activities changes in sleeping andor eating habits excessive complaints of physical problems defying authority, skipping school, stealing, or damaging property intense fear of gaining weight longlasting negative mood, often along with poor appetite and thoughts of death frequent outbursts of anger in younger children changes in school performance poor grades despite strong efforts excessive worrying or anxiety hyperactivity persistent nightmares persistent disobedience andor aggressive behavior frequent temper tantrums\n",
      "   Score: 0.88769984\n",
      "2. Response: challenges or problems with your mental health can arise from psychological, biological, and social, issues, as well as life events.\n",
      "   Score: 0.83183146\n",
      "3. Response: oh thats really great. id be willing to answer anything that i know about it.\n",
      "   Score: 0.8095312\n",
      "Metrics: {'hit_rate': 0, 'mrr': 0, 'ndcg': 0.9880211576107829, 'precision': 0, 'recall': 0, 'f1': 0}\n",
      "--------------------------------------------------------------------------------\n",
      "\n",
      "Query: What are the early signs of mental health issues in adults?\n",
      "Method: semantic_search_combined\n",
      "Ground Truth: Symptoms of mental health disorders vary depending on the type and severity of the condition. The following is a list of general symptoms that may suggest a mental health disorder, particularly when multiple symptoms are expressed at once.\n",
      "In adults:\n",
      "Confused thinking\n",
      "Long-lasting sadness or irritability\n",
      "Extreme highs and lows in mood\n",
      "Excessive fear, worrying, or anxiety\n",
      "Social withdrawal\n",
      "Dramatic changes in eating or sleeping habits\n",
      "Strong feelings of anger\n",
      "Delusions or hallucinations (seeing or hearing things that are not really there)\n",
      "Increasing inability to cope with daily problems and activities\n",
      "Thoughts of suicide\n",
      "Denial of obvious problems\n",
      "Many unexplained physical problems\n",
      "Abuse of drugs and/or alcohol\n",
      "Top 3 Results:\n",
      "1. Response: symptoms of mental health disorders vary depending on the type and severity of the condition. the following is a list of general symptoms that may suggest a mental health disorder, particularly when multiple symptoms are expressed at once. in adults confused thinking longlasting sadness or irritability extreme highs and lows in mood excessive fear, worrying, or anxiety social withdrawal dramatic changes in eating or sleeping habits strong feelings of anger delusions or hallucinations seeing or hearing things that are not really there increasing inability to cope with daily problems and activities thoughts of suicide denial of obvious problems many unexplained physical problems abuse of drugs andor alcohol in older children and preteens abuse of drugs andor alcohol inability to cope with daily problems and activities changes in sleeping andor eating habits excessive complaints of physical problems defying authority, skipping school, stealing, or damaging property intense fear of gaining weight longlasting negative mood, often along with poor appetite and thoughts of death frequent outbursts of anger in younger children changes in school performance poor grades despite strong efforts excessive worrying or anxiety hyperactivity persistent nightmares persistent disobedience andor aggressive behavior frequent temper tantrums\n",
      "   Score: 0.9153054\n",
      "2. Response: challenges or problems with your mental health can arise from psychological, biological, and social, issues, as well as life events.\n",
      "   Score: 0.8460624\n",
      "3. Response: oh thats really great. id be willing to answer anything that i know about it.\n",
      "   Score: 0.8413689\n",
      "Metrics: {'hit_rate': 0, 'mrr': 0, 'ndcg': 0.9657915948927206, 'precision': 0, 'recall': 0, 'f1': 0}\n",
      "--------------------------------------------------------------------------------\n",
      "\n",
      "Query: What are the early signs of mental health issues in adults?\n",
      "Method: text_search\n",
      "Ground Truth: Symptoms of mental health disorders vary depending on the type and severity of the condition. The following is a list of general symptoms that may suggest a mental health disorder, particularly when multiple symptoms are expressed at once.\n",
      "In adults:\n",
      "Confused thinking\n",
      "Long-lasting sadness or irritability\n",
      "Extreme highs and lows in mood\n",
      "Excessive fear, worrying, or anxiety\n",
      "Social withdrawal\n",
      "Dramatic changes in eating or sleeping habits\n",
      "Strong feelings of anger\n",
      "Delusions or hallucinations (seeing or hearing things that are not really there)\n",
      "Increasing inability to cope with daily problems and activities\n",
      "Thoughts of suicide\n",
      "Denial of obvious problems\n",
      "Many unexplained physical problems\n",
      "Abuse of drugs and/or alcohol\n",
      "Top 3 Results:\n",
      "1. Response: symptoms of mental health disorders vary depending on the type and severity of the condition. the following is a list of general symptoms that may suggest a mental health disorder, particularly when multiple symptoms are expressed at once. in adults confused thinking longlasting sadness or irritability extreme highs and lows in mood excessive fear, worrying, or anxiety social withdrawal dramatic changes in eating or sleeping habits strong feelings of anger delusions or hallucinations seeing or hearing things that are not really there increasing inability to cope with daily problems and activities thoughts of suicide denial of obvious problems many unexplained physical problems abuse of drugs andor alcohol in older children and preteens abuse of drugs andor alcohol inability to cope with daily problems and activities changes in sleeping andor eating habits excessive complaints of physical problems defying authority, skipping school, stealing, or damaging property intense fear of gaining weight longlasting negative mood, often along with poor appetite and thoughts of death frequent outbursts of anger in younger children changes in school performance poor grades despite strong efforts excessive worrying or anxiety hyperactivity persistent nightmares persistent disobedience andor aggressive behavior frequent temper tantrums\n",
      "   Score: 25.017475\n",
      "2. Response: maintaining mental health is crucial to stabilizing constructive behaviors, emotions, and thoughts. focusing on mental health care can increase productivity, enhance our selfimage, and improve relationships.\n",
      "   Score: 22.654781\n",
      "3. Response: challenges or problems with your mental health can arise from psychological, biological, and social, issues, as well as life events.\n",
      "   Score: 21.219643\n",
      "Metrics: {'hit_rate': 0, 'mrr': 0, 'ndcg': 0.9949205657709165, 'precision': 0, 'recall': 0, 'f1': 0}\n",
      "--------------------------------------------------------------------------------\n",
      "\n",
      "Query: What are the early signs of mental health issues in adults?\n",
      "Method: combined_search\n",
      "Ground Truth: Symptoms of mental health disorders vary depending on the type and severity of the condition. The following is a list of general symptoms that may suggest a mental health disorder, particularly when multiple symptoms are expressed at once.\n",
      "In adults:\n",
      "Confused thinking\n",
      "Long-lasting sadness or irritability\n",
      "Extreme highs and lows in mood\n",
      "Excessive fear, worrying, or anxiety\n",
      "Social withdrawal\n",
      "Dramatic changes in eating or sleeping habits\n",
      "Strong feelings of anger\n",
      "Delusions or hallucinations (seeing or hearing things that are not really there)\n",
      "Increasing inability to cope with daily problems and activities\n",
      "Thoughts of suicide\n",
      "Denial of obvious problems\n",
      "Many unexplained physical problems\n",
      "Abuse of drugs and/or alcohol\n",
      "Top 3 Results:\n",
      "1. Response: symptoms of mental health disorders vary depending on the type and severity of the condition. the following is a list of general symptoms that may suggest a mental health disorder, particularly when multiple symptoms are expressed at once. in adults confused thinking longlasting sadness or irritability extreme highs and lows in mood excessive fear, worrying, or anxiety social withdrawal dramatic changes in eating or sleeping habits strong feelings of anger delusions or hallucinations seeing or hearing things that are not really there increasing inability to cope with daily problems and activities thoughts of suicide denial of obvious problems many unexplained physical problems abuse of drugs andor alcohol in older children and preteens abuse of drugs andor alcohol inability to cope with daily problems and activities changes in sleeping andor eating habits excessive complaints of physical problems defying authority, skipping school, stealing, or damaging property intense fear of gaining weight longlasting negative mood, often along with poor appetite and thoughts of death frequent outbursts of anger in younger children changes in school performance poor grades despite strong efforts excessive worrying or anxiety hyperactivity persistent nightmares persistent disobedience andor aggressive behavior frequent temper tantrums\n",
      "   Score: 2.712666\n",
      "2. Response: maintaining mental health is crucial to stabilizing constructive behaviors, emotions, and thoughts. focusing on mental health care can increase productivity, enhance our selfimage, and improve relationships.\n",
      "   Score: 2.4767203\n",
      "3. Response: challenges or problems with your mental health can arise from psychological, biological, and social, issues, as well as life events.\n",
      "   Score: 2.37442\n",
      "Metrics: {'hit_rate': 0, 'mrr': 0, 'ndcg': 0.9857490126942181, 'precision': 0, 'recall': 0, 'f1': 0}\n",
      "--------------------------------------------------------------------------------\n"
     ]
    },
    {
     "name": "stderr",
     "output_type": "stream",
     "text": [
      "\n"
     ]
    },
    {
     "data": {
      "text/plain": [
       "\"RAG Evaluation Report\\nGenerated on: 2024-10-27 20:34:59\\n\\nOverall Results:\\n\\n                     Method       Hit Rate            MRR           NDCG             F1      Precision         Recall\\n0  semantic_search_question  0.500 ± 0.500  0.500 ± 0.500  0.964 ± 0.048  0.167 ± 0.167  0.100 ± 0.100  0.500 ± 0.500\\n1      semantic_search_text  0.500 ± 0.500  0.417 ± 0.449  0.870 ± 0.120  0.167 ± 0.167  0.100 ± 0.100  0.500 ± 0.500\\n2  semantic_search_combined  0.500 ± 0.500  0.500 ± 0.500  0.934 ± 0.098  0.167 ± 0.167  0.100 ± 0.100  0.500 ± 0.500\\n3               text_search  0.667 ± 0.471  0.667 ± 0.471  0.953 ± 0.093  0.222 ± 0.157  0.133 ± 0.094  0.667 ± 0.471\\n4           combined_search  0.667 ± 0.471  0.667 ± 0.471  0.964 ± 0.059  0.222 ± 0.157  0.133 ± 0.094  0.667 ± 0.471\\n\\nDetailed Query Analysis:\\n\\nQuery: How can I tell if I might have depression?\\nMethod: semantic_search_question\\nGround Truth: For a diagnosis of depression, a person needs to have experienced low mood or loss of interest or pleasure in life for at least 2 weeks. Also, they will have experienced the following symptoms: feelings of sadness, hopelessness, or irritability nearly every day.\\nTop 3 Results:\\n1. Response: talk to me. tell me more. it helps if you open up yourself to someone else.\\n   Score: 0.90253735\\n2. Response: a mental health disorder characterised by persistently depressed mood or loss of interest in activities, causing significant impairment in daily life.\\n   Score: 0.8824258\\n3. Response: if your beliefs , thoughts , feelings or behaviours have a significant impact on your ability to function in what might be considered a normal or ordinary way, it would be important to seek help.\\n   Score: 0.85867786\\nMetrics: {'hit_rate': 0, 'mrr': 0, 'ndcg': 0.8567968897672356, 'precision': 0, 'recall': 0, 'f1': 0}\\n--------------------------------------------------------------------------------\\n\\nQuery: How can I tell if I might have depression?\\nMethod: semantic_search_text\\nGround Truth: For a diagnosis of depression, a person needs to have experienced low mood or loss of interest or pleasure in life for at least 2 weeks. Also, they will have experienced the following symptoms: feelings of sadness, hopelessness, or irritability nearly every day.\\nTop 3 Results:\\n1. Response: talk to me. tell me more. it helps if you open up yourself to someone else.\\n   Score: 0.8124051\\n2. Response: a mental health disorder characterised by persistently depressed mood or loss of interest in activities, causing significant impairment in daily life.\\n   Score: 0.8071208\\n3. Response: symptoms of mental health disorders vary depending on the type and severity of the condition. the following is a list of general symptoms that may suggest a mental health disorder, particularly when multiple symptoms are expressed at once. in adults confused thinking longlasting sadness or irritability extreme highs and lows in mood excessive fear, worrying, or anxiety social withdrawal dramatic changes in eating or sleeping habits strong feelings of anger delusions or hallucinations seeing or hearing things that are not really there increasing inability to cope with daily problems and activities thoughts of suicide denial of obvious problems many unexplained physical problems abuse of drugs andor alcohol in older children and preteens abuse of drugs andor alcohol inability to cope with daily problems and activities changes in sleeping andor eating habits excessive complaints of physical problems defying authority, skipping school, stealing, or damaging property intense fear of gaining weight longlasting negative mood, often along with poor appetite and thoughts of death frequent outbursts of anger in younger children changes in school performance poor grades despite strong efforts excessive worrying or anxiety hyperactivity persistent nightmares persistent disobedience andor aggressive behavior frequent temper tantrums\\n   Score: 0.78928614\\nMetrics: {'hit_rate': 0, 'mrr': 0, 'ndcg': 0.8152644465705975, 'precision': 0, 'recall': 0, 'f1': 0}\\n--------------------------------------------------------------------------------\\n\\nQuery: How can I tell if I might have depression?\\nMethod: semantic_search_combined\\nGround Truth: For a diagnosis of depression, a person needs to have experienced low mood or loss of interest or pleasure in life for at least 2 weeks. Also, they will have experienced the following symptoms: feelings of sadness, hopelessness, or irritability nearly every day.\\nTop 3 Results:\\n1. Response: talk to me. tell me more. it helps if you open up yourself to someone else.\\n   Score: 0.84290767\\n2. Response: if your beliefs , thoughts , feelings or behaviours have a significant impact on your ability to function in what might be considered a normal or ordinary way, it would be important to seek help.\\n   Score: 0.8190968\\n3. Response: the most important thing is to talk to someone you trust. this might be a friend, colleague, family member, or gp. in addition to talking to someone, it may be useful to find out more information about what you are experiencing. these things may help to get some perspective on what you are experiencing, and be the start of getting help.\\n   Score: 0.819082\\nMetrics: {'hit_rate': 0, 'mrr': 0, 'ndcg': 0.7167179387143922, 'precision': 0, 'recall': 0, 'f1': 0}\\n--------------------------------------------------------------------------------\\n\\nQuery: How can I tell if I might have depression?\\nMethod: text_search\\nGround Truth: For a diagnosis of depression, a person needs to have experienced low mood or loss of interest or pleasure in life for at least 2 weeks. Also, they will have experienced the following symptoms: feelings of sadness, hopelessness, or irritability nearly every day.\\nTop 3 Results:\\n1. Response: talk to me. tell me more. it helps if you open up yourself to someone else.\\n   Score: 33.34758\\n2. Response: feeling comfortable with the professional you or your child is working with is critical to the success of your treatment. finding the professional who best fits your needs may require some research.\\n   Score: 19.61291\\n3. Response: a lot of people are alone right now, but we dont have to be lonely. were all in this together. think about the different ways to connect that are most meaningful for you. for example, you might prefer a video chat over a phone call, or you might prefer to text throughout the day rather than one set time for a video call. then, work with your social networks to make a plan. you might video chat with your close friends in the evening and phone a family member once a week. remember to be mindful of people who may not be online. check in by phone and ask how you can help. the quality of your social connections matter. mindlessly scrolling through social media and liking a few posts usually doesnt build strong social connections. make sure you focus on strategies that actually make you feel included and connected. if your current strategies dont help you feel connected, problemsolve to see if you can find a solution. everyone feels lonely at times. maybe you recently moved to a new city, are changing your circle of friends, lost someone important in your life, or lost your job and also lost important social connections with coworkers. other people may have physical connections to others but may feel like their emotional or social needs arent met. measures like social distancing or selfisolation can make loneliness feel worse no matter why you feel lonely now. reach out to the connections you do have. suggest ways to keep in touch and see if you can set a regular time to connect. people may hesitate to reach out for a lot of different reasons, so dont be afraid to be the one who asks. look for local community support groups and mutual aid groups on social media. this pandemic is bringing everyone together, so look for opportunities to make new connections. these groups are a great way to share your skills and abilities or seek help and support. look for specialized support groups. support groups are moving online, and there are a lot of different support lines to call if you need to talk to someone.\\n   Score: 17.828733\\nMetrics: {'hit_rate': 0, 'mrr': 0, 'ndcg': 0.7452057206848488, 'precision': 0, 'recall': 0, 'f1': 0}\\n--------------------------------------------------------------------------------\\n\\nQuery: How can I tell if I might have depression?\\nMethod: combined_search\\nGround Truth: For a diagnosis of depression, a person needs to have experienced low mood or loss of interest or pleasure in life for at least 2 weeks. Also, they will have experienced the following symptoms: feelings of sadness, hopelessness, or irritability nearly every day.\\nTop 3 Results:\\n1. Response: talk to me. tell me more. it helps if you open up yourself to someone else.\\n   Score: 3.449538\\n2. Response: a mental health disorder characterised by persistently depressed mood or loss of interest in activities, causing significant impairment in daily life.\\n   Score: 2.0463386\\n3. Response: a lot of people are alone right now, but we dont have to be lonely. were all in this together. think about the different ways to connect that are most meaningful for you. for example, you might prefer a video chat over a phone call, or you might prefer to text throughout the day rather than one set time for a video call. then, work with your social networks to make a plan. you might video chat with your close friends in the evening and phone a family member once a week. remember to be mindful of people who may not be online. check in by phone and ask how you can help. the quality of your social connections matter. mindlessly scrolling through social media and liking a few posts usually doesnt build strong social connections. make sure you focus on strategies that actually make you feel included and connected. if your current strategies dont help you feel connected, problemsolve to see if you can find a solution. everyone feels lonely at times. maybe you recently moved to a new city, are changing your circle of friends, lost someone important in your life, or lost your job and also lost important social connections with coworkers. other people may have physical connections to others but may feel like their emotional or social needs arent met. measures like social distancing or selfisolation can make loneliness feel worse no matter why you feel lonely now. reach out to the connections you do have. suggest ways to keep in touch and see if you can set a regular time to connect. people may hesitate to reach out for a lot of different reasons, so dont be afraid to be the one who asks. look for local community support groups and mutual aid groups on social media. this pandemic is bringing everyone together, so look for opportunities to make new connections. these groups are a great way to share your skills and abilities or seek help and support. look for specialized support groups. support groups are moving online, and there are a lot of different support lines to call if you need to talk to someone.\\n   Score: 1.662311\\nMetrics: {'hit_rate': 0, 'mrr': 0, 'ndcg': 0.8338514475657166, 'precision': 0, 'recall': 0, 'f1': 0}\\n--------------------------------------------------------------------------------\\n\\nQuery: What's the main difference between feeling down and depression?\\nMethod: semantic_search_question\\nGround Truth: Sadness is a normal reaction to a loss, disappointment, problems, or other difficult situations. Feeling sad from time to time is just another part of being human. In these cases, feelings of sadness go away quickly and you can go about your daily life. Other ways to talk about sadness might be feeling low, feeling down, or feeling blue. A person may say they are feeling depressed, but if it goes away on its own and doesn't impact life in a big way, it probably isn't the illness of depression. Depression is a mental illness that affects your mood, the way you understand yourself, and the way you understand and relate to things around you. It can also go by different names, such as clinical depression, major depressive disorder, or major depression. Depression can come up for no reason, and it lasts for a long time. It's much more than sadness or low mood. People who experience depression may feel worthless or hopeless. They may feel unreasonable guilty. Some people may experience depression as anger or irritability. It may be hard to concentrate or make decisions. Most people lose interest in things that they used to enjoy and may isolate themselves from others. There are also physical signs of depression, such as problems with sleep, appetite and energy and unexplainable aches or pains. Some may experience difficult thoughts about death or ending their life (suicide). Depression lasts longer than two weeks, doesn't usually go away on its own, and impacts your life. It's a real illness, and it is very treatable. It's important to seek help if you're concerned about depression.\\nTop 3 Results:\\n1. Response: sadness is a normal reaction to a loss, disappointment, problems, or other difficult situations. feeling sad from time to time is just another part of being human. in these cases, feelings of sadness go away quickly and you can go about your daily life. other ways to talk about sadness might be feeling low, feeling down, or feeling blue.a person may say they are feeling depressed, but if it goes away on its own and doesnt impact life in a big way, it probably isnt the illness of depression. depression is a mental illness that affects your mood, the way you understand yourself, and the way you understand and relate to things around you. it can also go by different names, such as clinical depression, major depressive disorder, or major depression. depression can come up for no reason, and it lasts for a long time. its much more than sadness or low mood. people who experience depression may feel worthless or hopeless. they may feel unreasonable guilty. some people may experience depression as anger or irritability. it may be hard to concentrate or make decisions. most people lose interest in things that they used to enjoy and may isolate themselves from others. there are also physical signs of depression, such as problems with sleep, appetite and energy and unexplainable aches or pains. some may experience difficult thoughts about death or ending their life suicide. depression lasts longer than two weeks, doesnt usually go away on its own, and impacts your life. its a real illness, and it is very treatable. its important to seek help if youre concerned about depression.\\n   Score: 0.9198818\\n2. Response: a mental health disorder characterised by persistently depressed mood or loss of interest in activities, causing significant impairment in daily life.\\n   Score: 0.90538216\\n3. Response: talk to me. tell me more. it helps if you open up yourself to someone else.\\n   Score: 0.84596443\\nMetrics: {'hit_rate': 1, 'mrr': 1.0, 'ndcg': 0.981302412900278, 'precision': 0.2, 'recall': 1, 'f1': 0.33333333333333337}\\n--------------------------------------------------------------------------------\\n\\nQuery: What's the main difference between feeling down and depression?\\nMethod: semantic_search_text\\nGround Truth: Sadness is a normal reaction to a loss, disappointment, problems, or other difficult situations. Feeling sad from time to time is just another part of being human. In these cases, feelings of sadness go away quickly and you can go about your daily life. Other ways to talk about sadness might be feeling low, feeling down, or feeling blue. A person may say they are feeling depressed, but if it goes away on its own and doesn't impact life in a big way, it probably isn't the illness of depression. Depression is a mental illness that affects your mood, the way you understand yourself, and the way you understand and relate to things around you. It can also go by different names, such as clinical depression, major depressive disorder, or major depression. Depression can come up for no reason, and it lasts for a long time. It's much more than sadness or low mood. People who experience depression may feel worthless or hopeless. They may feel unreasonable guilty. Some people may experience depression as anger or irritability. It may be hard to concentrate or make decisions. Most people lose interest in things that they used to enjoy and may isolate themselves from others. There are also physical signs of depression, such as problems with sleep, appetite and energy and unexplainable aches or pains. Some may experience difficult thoughts about death or ending their life (suicide). Depression lasts longer than two weeks, doesn't usually go away on its own, and impacts your life. It's a real illness, and it is very treatable. It's important to seek help if you're concerned about depression.\\nTop 3 Results:\\n1. Response: sadness is a normal reaction to a loss, disappointment, problems, or other difficult situations. feeling sad from time to time is just another part of being human. in these cases, feelings of sadness go away quickly and you can go about your daily life. other ways to talk about sadness might be feeling low, feeling down, or feeling blue.a person may say they are feeling depressed, but if it goes away on its own and doesnt impact life in a big way, it probably isnt the illness of depression. depression is a mental illness that affects your mood, the way you understand yourself, and the way you understand and relate to things around you. it can also go by different names, such as clinical depression, major depressive disorder, or major depression. depression can come up for no reason, and it lasts for a long time. its much more than sadness or low mood. people who experience depression may feel worthless or hopeless. they may feel unreasonable guilty. some people may experience depression as anger or irritability. it may be hard to concentrate or make decisions. most people lose interest in things that they used to enjoy and may isolate themselves from others. there are also physical signs of depression, such as problems with sleep, appetite and energy and unexplainable aches or pains. some may experience difficult thoughts about death or ending their life suicide. depression lasts longer than two weeks, doesnt usually go away on its own, and impacts your life. its a real illness, and it is very treatable. its important to seek help if youre concerned about depression.\\n   Score: 0.85553074\\n2. Response: a mental health disorder characterised by persistently depressed mood or loss of interest in activities, causing significant impairment in daily life.\\n   Score: 0.84044266\\n3. Response: stress and anxiety are often used interchangeably, and there is overlap between stress and anxiety. stress is related to the same fight, flight, or freeze response as anxiety, and the physical sensations of anxiety and stress may be very similar. the cause of stress and anxiety are usually different, however. stress focuses on mainly external pressures on us that were finding hard to cope with. when we are stressed, we usually know what were stressed about, and the symptoms of stress typically disappear after the stressful situation is over. anxiety, on the other hand, isnt always as easy to figure out. anxiety focuses on worries or fears about things that could threaten us, as well as anxiety about the anxiety itself. stress and anxiety are both part of being human, but both can be problems if they last for a long time or have an impact on our wellbeing or daily life.\\n   Score: 0.74838233\\nMetrics: {'hit_rate': 1, 'mrr': 1.0, 'ndcg': 0.9870653656426098, 'precision': 0.2, 'recall': 1, 'f1': 0.33333333333333337}\\n--------------------------------------------------------------------------------\\n\\nQuery: What's the main difference between feeling down and depression?\\nMethod: semantic_search_combined\\nGround Truth: Sadness is a normal reaction to a loss, disappointment, problems, or other difficult situations. Feeling sad from time to time is just another part of being human. In these cases, feelings of sadness go away quickly and you can go about your daily life. Other ways to talk about sadness might be feeling low, feeling down, or feeling blue. A person may say they are feeling depressed, but if it goes away on its own and doesn't impact life in a big way, it probably isn't the illness of depression. Depression is a mental illness that affects your mood, the way you understand yourself, and the way you understand and relate to things around you. It can also go by different names, such as clinical depression, major depressive disorder, or major depression. Depression can come up for no reason, and it lasts for a long time. It's much more than sadness or low mood. People who experience depression may feel worthless or hopeless. They may feel unreasonable guilty. Some people may experience depression as anger or irritability. It may be hard to concentrate or make decisions. Most people lose interest in things that they used to enjoy and may isolate themselves from others. There are also physical signs of depression, such as problems with sleep, appetite and energy and unexplainable aches or pains. Some may experience difficult thoughts about death or ending their life (suicide). Depression lasts longer than two weeks, doesn't usually go away on its own, and impacts your life. It's a real illness, and it is very treatable. It's important to seek help if you're concerned about depression.\\nTop 3 Results:\\n1. Response: sadness is a normal reaction to a loss, disappointment, problems, or other difficult situations. feeling sad from time to time is just another part of being human. in these cases, feelings of sadness go away quickly and you can go about your daily life. other ways to talk about sadness might be feeling low, feeling down, or feeling blue.a person may say they are feeling depressed, but if it goes away on its own and doesnt impact life in a big way, it probably isnt the illness of depression. depression is a mental illness that affects your mood, the way you understand yourself, and the way you understand and relate to things around you. it can also go by different names, such as clinical depression, major depressive disorder, or major depression. depression can come up for no reason, and it lasts for a long time. its much more than sadness or low mood. people who experience depression may feel worthless or hopeless. they may feel unreasonable guilty. some people may experience depression as anger or irritability. it may be hard to concentrate or make decisions. most people lose interest in things that they used to enjoy and may isolate themselves from others. there are also physical signs of depression, such as problems with sleep, appetite and energy and unexplainable aches or pains. some may experience difficult thoughts about death or ending their life suicide. depression lasts longer than two weeks, doesnt usually go away on its own, and impacts your life. its a real illness, and it is very treatable. its important to seek help if youre concerned about depression.\\n   Score: 0.8558147\\n2. Response: a mental health disorder characterised by persistently depressed mood or loss of interest in activities, causing significant impairment in daily life.\\n   Score: 0.8341098\\n3. Response: talk to me. tell me more. it helps if you open up yourself to someone else.\\n   Score: 0.80948544\\nMetrics: {'hit_rate': 1, 'mrr': 1.0, 'ndcg': 0.9854373507092838, 'precision': 0.2, 'recall': 1, 'f1': 0.33333333333333337}\\n--------------------------------------------------------------------------------\\n\\nQuery: What's the main difference between feeling down and depression?\\nMethod: text_search\\nGround Truth: Sadness is a normal reaction to a loss, disappointment, problems, or other difficult situations. Feeling sad from time to time is just another part of being human. In these cases, feelings of sadness go away quickly and you can go about your daily life. Other ways to talk about sadness might be feeling low, feeling down, or feeling blue. A person may say they are feeling depressed, but if it goes away on its own and doesn't impact life in a big way, it probably isn't the illness of depression. Depression is a mental illness that affects your mood, the way you understand yourself, and the way you understand and relate to things around you. It can also go by different names, such as clinical depression, major depressive disorder, or major depression. Depression can come up for no reason, and it lasts for a long time. It's much more than sadness or low mood. People who experience depression may feel worthless or hopeless. They may feel unreasonable guilty. Some people may experience depression as anger or irritability. It may be hard to concentrate or make decisions. Most people lose interest in things that they used to enjoy and may isolate themselves from others. There are also physical signs of depression, such as problems with sleep, appetite and energy and unexplainable aches or pains. Some may experience difficult thoughts about death or ending their life (suicide). Depression lasts longer than two weeks, doesn't usually go away on its own, and impacts your life. It's a real illness, and it is very treatable. It's important to seek help if you're concerned about depression.\\nTop 3 Results:\\n1. Response: sadness is a normal reaction to a loss, disappointment, problems, or other difficult situations. feeling sad from time to time is just another part of being human. in these cases, feelings of sadness go away quickly and you can go about your daily life. other ways to talk about sadness might be feeling low, feeling down, or feeling blue.a person may say they are feeling depressed, but if it goes away on its own and doesnt impact life in a big way, it probably isnt the illness of depression. depression is a mental illness that affects your mood, the way you understand yourself, and the way you understand and relate to things around you. it can also go by different names, such as clinical depression, major depressive disorder, or major depression. depression can come up for no reason, and it lasts for a long time. its much more than sadness or low mood. people who experience depression may feel worthless or hopeless. they may feel unreasonable guilty. some people may experience depression as anger or irritability. it may be hard to concentrate or make decisions. most people lose interest in things that they used to enjoy and may isolate themselves from others. there are also physical signs of depression, such as problems with sleep, appetite and energy and unexplainable aches or pains. some may experience difficult thoughts about death or ending their life suicide. depression lasts longer than two weeks, doesnt usually go away on its own, and impacts your life. its a real illness, and it is very treatable. its important to seek help if youre concerned about depression.\\n   Score: 44.283455\\n2. Response: stress and anxiety are often used interchangeably, and there is overlap between stress and anxiety. stress is related to the same fight, flight, or freeze response as anxiety, and the physical sensations of anxiety and stress may be very similar. the cause of stress and anxiety are usually different, however. stress focuses on mainly external pressures on us that were finding hard to cope with. when we are stressed, we usually know what were stressed about, and the symptoms of stress typically disappear after the stressful situation is over. anxiety, on the other hand, isnt always as easy to figure out. anxiety focuses on worries or fears about things that could threaten us, as well as anxiety about the anxiety itself. stress and anxiety are both part of being human, but both can be problems if they last for a long time or have an impact on our wellbeing or daily life.\\n   Score: 31.248684\\n3. Response: there are many types of mental health professionals. the variety of providers and their services may be confusing. each have various levels of education, training, and may have different areas of expertise. finding the professional who best fits your needs may require some research.\\n   Score: 26.559584\\nMetrics: {'hit_rate': 1, 'mrr': 1.0, 'ndcg': 0.9915343930425838, 'precision': 0.2, 'recall': 1, 'f1': 0.33333333333333337}\\n--------------------------------------------------------------------------------\\n\\nQuery: What's the main difference between feeling down and depression?\\nMethod: combined_search\\nGround Truth: Sadness is a normal reaction to a loss, disappointment, problems, or other difficult situations. Feeling sad from time to time is just another part of being human. In these cases, feelings of sadness go away quickly and you can go about your daily life. Other ways to talk about sadness might be feeling low, feeling down, or feeling blue. A person may say they are feeling depressed, but if it goes away on its own and doesn't impact life in a big way, it probably isn't the illness of depression. Depression is a mental illness that affects your mood, the way you understand yourself, and the way you understand and relate to things around you. It can also go by different names, such as clinical depression, major depressive disorder, or major depression. Depression can come up for no reason, and it lasts for a long time. It's much more than sadness or low mood. People who experience depression may feel worthless or hopeless. They may feel unreasonable guilty. Some people may experience depression as anger or irritability. It may be hard to concentrate or make decisions. Most people lose interest in things that they used to enjoy and may isolate themselves from others. There are also physical signs of depression, such as problems with sleep, appetite and energy and unexplainable aches or pains. Some may experience difficult thoughts about death or ending their life (suicide). Depression lasts longer than two weeks, doesn't usually go away on its own, and impacts your life. It's a real illness, and it is very treatable. It's important to seek help if you're concerned about depression.\\nTop 3 Results:\\n1. Response: sadness is a normal reaction to a loss, disappointment, problems, or other difficult situations. feeling sad from time to time is just another part of being human. in these cases, feelings of sadness go away quickly and you can go about your daily life. other ways to talk about sadness might be feeling low, feeling down, or feeling blue.a person may say they are feeling depressed, but if it goes away on its own and doesnt impact life in a big way, it probably isnt the illness of depression. depression is a mental illness that affects your mood, the way you understand yourself, and the way you understand and relate to things around you. it can also go by different names, such as clinical depression, major depressive disorder, or major depression. depression can come up for no reason, and it lasts for a long time. its much more than sadness or low mood. people who experience depression may feel worthless or hopeless. they may feel unreasonable guilty. some people may experience depression as anger or irritability. it may be hard to concentrate or make decisions. most people lose interest in things that they used to enjoy and may isolate themselves from others. there are also physical signs of depression, such as problems with sleep, appetite and energy and unexplainable aches or pains. some may experience difficult thoughts about death or ending their life suicide. depression lasts longer than two weeks, doesnt usually go away on its own, and impacts your life. its a real illness, and it is very treatable. its important to seek help if youre concerned about depression.\\n   Score: 4.3620844\\n2. Response: stress and anxiety are often used interchangeably, and there is overlap between stress and anxiety. stress is related to the same fight, flight, or freeze response as anxiety, and the physical sensations of anxiety and stress may be very similar. the cause of stress and anxiety are usually different, however. stress focuses on mainly external pressures on us that were finding hard to cope with. when we are stressed, we usually know what were stressed about, and the symptoms of stress typically disappear after the stressful situation is over. anxiety, on the other hand, isnt always as easy to figure out. anxiety focuses on worries or fears about things that could threaten us, as well as anxiety about the anxiety itself. stress and anxiety are both part of being human, but both can be problems if they last for a long time or have an impact on our wellbeing or daily life.\\n   Score: 3.1487522\\n3. Response: there are many types of mental health professionals. the variety of providers and their services may be confusing. each have various levels of education, training, and may have different areas of expertise. finding the professional who best fits your needs may require some research.\\n   Score: 2.7391167\\nMetrics: {'hit_rate': 1, 'mrr': 1.0, 'ndcg': 0.9995376064786949, 'precision': 0.2, 'recall': 1, 'f1': 0.33333333333333337}\\n--------------------------------------------------------------------------------\\n\\nQuery: What's the real difference between stress and anxiety?\\nMethod: semantic_search_question\\nGround Truth: Stress and anxiety are often used interchangeably, and there is overlap between stress and anxiety. Stress is related to the same fight, flight, or freeze response as anxiety, and the physical sensations of anxiety and stress may be very similar. The cause of stress and anxiety are usually different, however. Stress focuses on mainly external pressures on us that we're finding hard to cope with. When we are stressed, we usually know what we're stressed about, and the symptoms of stress typically disappear after the stressful situation is over. Anxiety, on the other hand, isn't always as easy to figure out. Anxiety focuses on worries or fears about things that could threaten us, as well as anxiety about the anxiety itself. Stress and anxiety are both part of being human, but both can be problems if they last for a long time or have an impact on our well-being or daily life.\\nTop 3 Results:\\n1. Response: stress and anxiety are often used interchangeably, and there is overlap between stress and anxiety. stress is related to the same fight, flight, or freeze response as anxiety, and the physical sensations of anxiety and stress may be very similar. the cause of stress and anxiety are usually different, however. stress focuses on mainly external pressures on us that were finding hard to cope with. when we are stressed, we usually know what were stressed about, and the symptoms of stress typically disappear after the stressful situation is over. anxiety, on the other hand, isnt always as easy to figure out. anxiety focuses on worries or fears about things that could threaten us, as well as anxiety about the anxiety itself. stress and anxiety are both part of being human, but both can be problems if they last for a long time or have an impact on our wellbeing or daily life.\\n   Score: 0.98660636\\n2. Response: i understand that it can be scary. tell me more about it.\\n   Score: 0.7953992\\n3. Response: sadness is a normal reaction to a loss, disappointment, problems, or other difficult situations. feeling sad from time to time is just another part of being human. in these cases, feelings of sadness go away quickly and you can go about your daily life. other ways to talk about sadness might be feeling low, feeling down, or feeling blue.a person may say they are feeling depressed, but if it goes away on its own and doesnt impact life in a big way, it probably isnt the illness of depression. depression is a mental illness that affects your mood, the way you understand yourself, and the way you understand and relate to things around you. it can also go by different names, such as clinical depression, major depressive disorder, or major depression. depression can come up for no reason, and it lasts for a long time. its much more than sadness or low mood. people who experience depression may feel worthless or hopeless. they may feel unreasonable guilty. some people may experience depression as anger or irritability. it may be hard to concentrate or make decisions. most people lose interest in things that they used to enjoy and may isolate themselves from others. there are also physical signs of depression, such as problems with sleep, appetite and energy and unexplainable aches or pains. some may experience difficult thoughts about death or ending their life suicide. depression lasts longer than two weeks, doesnt usually go away on its own, and impacts your life. its a real illness, and it is very treatable. its important to seek help if youre concerned about depression.\\n   Score: 0.7926729\\nMetrics: {'hit_rate': 1, 'mrr': 1.0, 'ndcg': 0.9735274969947453, 'precision': 0.2, 'recall': 1, 'f1': 0.33333333333333337}\\n--------------------------------------------------------------------------------\\n\\nQuery: What's the real difference between stress and anxiety?\\nMethod: semantic_search_text\\nGround Truth: Stress and anxiety are often used interchangeably, and there is overlap between stress and anxiety. Stress is related to the same fight, flight, or freeze response as anxiety, and the physical sensations of anxiety and stress may be very similar. The cause of stress and anxiety are usually different, however. Stress focuses on mainly external pressures on us that we're finding hard to cope with. When we are stressed, we usually know what we're stressed about, and the symptoms of stress typically disappear after the stressful situation is over. Anxiety, on the other hand, isn't always as easy to figure out. Anxiety focuses on worries or fears about things that could threaten us, as well as anxiety about the anxiety itself. Stress and anxiety are both part of being human, but both can be problems if they last for a long time or have an impact on our well-being or daily life.\\nTop 3 Results:\\n1. Response: stress and anxiety are often used interchangeably, and there is overlap between stress and anxiety. stress is related to the same fight, flight, or freeze response as anxiety, and the physical sensations of anxiety and stress may be very similar. the cause of stress and anxiety are usually different, however. stress focuses on mainly external pressures on us that were finding hard to cope with. when we are stressed, we usually know what were stressed about, and the symptoms of stress typically disappear after the stressful situation is over. anxiety, on the other hand, isnt always as easy to figure out. anxiety focuses on worries or fears about things that could threaten us, as well as anxiety about the anxiety itself. stress and anxiety are both part of being human, but both can be problems if they last for a long time or have an impact on our wellbeing or daily life.\\n   Score: 0.94723725\\n2. Response: i understand that it can be scary. tell me more about it.\\n   Score: 0.7249396\\n3. Response: sadness is a normal reaction to a loss, disappointment, problems, or other difficult situations. feeling sad from time to time is just another part of being human. in these cases, feelings of sadness go away quickly and you can go about your daily life. other ways to talk about sadness might be feeling low, feeling down, or feeling blue.a person may say they are feeling depressed, but if it goes away on its own and doesnt impact life in a big way, it probably isnt the illness of depression. depression is a mental illness that affects your mood, the way you understand yourself, and the way you understand and relate to things around you. it can also go by different names, such as clinical depression, major depressive disorder, or major depression. depression can come up for no reason, and it lasts for a long time. its much more than sadness or low mood. people who experience depression may feel worthless or hopeless. they may feel unreasonable guilty. some people may experience depression as anger or irritability. it may be hard to concentrate or make decisions. most people lose interest in things that they used to enjoy and may isolate themselves from others. there are also physical signs of depression, such as problems with sleep, appetite and energy and unexplainable aches or pains. some may experience difficult thoughts about death or ending their life suicide. depression lasts longer than two weeks, doesnt usually go away on its own, and impacts your life. its a real illness, and it is very treatable. its important to seek help if youre concerned about depression.\\n   Score: 0.7197926\\nMetrics: {'hit_rate': 1, 'mrr': 1.0, 'ndcg': 0.975653569344425, 'precision': 0.2, 'recall': 1, 'f1': 0.33333333333333337}\\n--------------------------------------------------------------------------------\\n\\nQuery: What's the real difference between stress and anxiety?\\nMethod: semantic_search_combined\\nGround Truth: Stress and anxiety are often used interchangeably, and there is overlap between stress and anxiety. Stress is related to the same fight, flight, or freeze response as anxiety, and the physical sensations of anxiety and stress may be very similar. The cause of stress and anxiety are usually different, however. Stress focuses on mainly external pressures on us that we're finding hard to cope with. When we are stressed, we usually know what we're stressed about, and the symptoms of stress typically disappear after the stressful situation is over. Anxiety, on the other hand, isn't always as easy to figure out. Anxiety focuses on worries or fears about things that could threaten us, as well as anxiety about the anxiety itself. Stress and anxiety are both part of being human, but both can be problems if they last for a long time or have an impact on our well-being or daily life.\\nTop 3 Results:\\n1. Response: stress and anxiety are often used interchangeably, and there is overlap between stress and anxiety. stress is related to the same fight, flight, or freeze response as anxiety, and the physical sensations of anxiety and stress may be very similar. the cause of stress and anxiety are usually different, however. stress focuses on mainly external pressures on us that were finding hard to cope with. when we are stressed, we usually know what were stressed about, and the symptoms of stress typically disappear after the stressful situation is over. anxiety, on the other hand, isnt always as easy to figure out. anxiety focuses on worries or fears about things that could threaten us, as well as anxiety about the anxiety itself. stress and anxiety are both part of being human, but both can be problems if they last for a long time or have an impact on our wellbeing or daily life.\\n   Score: 0.9629657\\n2. Response: there are many types of mental health professionals. the variety of providers and their services may be confusing. each have various levels of education, training, and may have different areas of expertise. finding the professional who best fits your needs may require some research.\\n   Score: 0.7487595\\n3. Response: challenges or problems with your mental health can arise from psychological, biological, and social, issues, as well as life events.\\n   Score: 0.7368407\\nMetrics: {'hit_rate': 1, 'mrr': 1.0, 'ndcg': 0.9781105207521584, 'precision': 0.2, 'recall': 1, 'f1': 0.33333333333333337}\\n--------------------------------------------------------------------------------\\n\\nQuery: What's the real difference between stress and anxiety?\\nMethod: text_search\\nGround Truth: Stress and anxiety are often used interchangeably, and there is overlap between stress and anxiety. Stress is related to the same fight, flight, or freeze response as anxiety, and the physical sensations of anxiety and stress may be very similar. The cause of stress and anxiety are usually different, however. Stress focuses on mainly external pressures on us that we're finding hard to cope with. When we are stressed, we usually know what we're stressed about, and the symptoms of stress typically disappear after the stressful situation is over. Anxiety, on the other hand, isn't always as easy to figure out. Anxiety focuses on worries or fears about things that could threaten us, as well as anxiety about the anxiety itself. Stress and anxiety are both part of being human, but both can be problems if they last for a long time or have an impact on our well-being or daily life.\\nTop 3 Results:\\n1. Response: stress and anxiety are often used interchangeably, and there is overlap between stress and anxiety. stress is related to the same fight, flight, or freeze response as anxiety, and the physical sensations of anxiety and stress may be very similar. the cause of stress and anxiety are usually different, however. stress focuses on mainly external pressures on us that were finding hard to cope with. when we are stressed, we usually know what were stressed about, and the symptoms of stress typically disappear after the stressful situation is over. anxiety, on the other hand, isnt always as easy to figure out. anxiety focuses on worries or fears about things that could threaten us, as well as anxiety about the anxiety itself. stress and anxiety are both part of being human, but both can be problems if they last for a long time or have an impact on our wellbeing or daily life.\\n   Score: 53.334892\\n2. Response: sadness is a normal reaction to a loss, disappointment, problems, or other difficult situations. feeling sad from time to time is just another part of being human. in these cases, feelings of sadness go away quickly and you can go about your daily life. other ways to talk about sadness might be feeling low, feeling down, or feeling blue.a person may say they are feeling depressed, but if it goes away on its own and doesnt impact life in a big way, it probably isnt the illness of depression. depression is a mental illness that affects your mood, the way you understand yourself, and the way you understand and relate to things around you. it can also go by different names, such as clinical depression, major depressive disorder, or major depression. depression can come up for no reason, and it lasts for a long time. its much more than sadness or low mood. people who experience depression may feel worthless or hopeless. they may feel unreasonable guilty. some people may experience depression as anger or irritability. it may be hard to concentrate or make decisions. most people lose interest in things that they used to enjoy and may isolate themselves from others. there are also physical signs of depression, such as problems with sleep, appetite and energy and unexplainable aches or pains. some may experience difficult thoughts about death or ending their life suicide. depression lasts longer than two weeks, doesnt usually go away on its own, and impacts your life. its a real illness, and it is very treatable. its important to seek help if youre concerned about depression.\\n   Score: 27.666134\\n3. Response: there are many types of mental health professionals. the variety of providers and their services may be confusing. each have various levels of education, training, and may have different areas of expertise. finding the professional who best fits your needs may require some research.\\n   Score: 26.559584\\nMetrics: {'hit_rate': 1, 'mrr': 1.0, 'ndcg': 0.9982383703201055, 'precision': 0.2, 'recall': 1, 'f1': 0.33333333333333337}\\n--------------------------------------------------------------------------------\\n\\nQuery: What's the real difference between stress and anxiety?\\nMethod: combined_search\\nGround Truth: Stress and anxiety are often used interchangeably, and there is overlap between stress and anxiety. Stress is related to the same fight, flight, or freeze response as anxiety, and the physical sensations of anxiety and stress may be very similar. The cause of stress and anxiety are usually different, however. Stress focuses on mainly external pressures on us that we're finding hard to cope with. When we are stressed, we usually know what we're stressed about, and the symptoms of stress typically disappear after the stressful situation is over. Anxiety, on the other hand, isn't always as easy to figure out. Anxiety focuses on worries or fears about things that could threaten us, as well as anxiety about the anxiety itself. Stress and anxiety are both part of being human, but both can be problems if they last for a long time or have an impact on our well-being or daily life.\\nTop 3 Results:\\n1. Response: stress and anxiety are often used interchangeably, and there is overlap between stress and anxiety. stress is related to the same fight, flight, or freeze response as anxiety, and the physical sensations of anxiety and stress may be very similar. the cause of stress and anxiety are usually different, however. stress focuses on mainly external pressures on us that were finding hard to cope with. when we are stressed, we usually know what were stressed about, and the symptoms of stress typically disappear after the stressful situation is over. anxiety, on the other hand, isnt always as easy to figure out. anxiety focuses on worries or fears about things that could threaten us, as well as anxiety about the anxiety itself. stress and anxiety are both part of being human, but both can be problems if they last for a long time or have an impact on our wellbeing or daily life.\\n   Score: 5.2422504\\n2. Response: sadness is a normal reaction to a loss, disappointment, problems, or other difficult situations. feeling sad from time to time is just another part of being human. in these cases, feelings of sadness go away quickly and you can go about your daily life. other ways to talk about sadness might be feeling low, feeling down, or feeling blue.a person may say they are feeling depressed, but if it goes away on its own and doesnt impact life in a big way, it probably isnt the illness of depression. depression is a mental illness that affects your mood, the way you understand yourself, and the way you understand and relate to things around you. it can also go by different names, such as clinical depression, major depressive disorder, or major depression. depression can come up for no reason, and it lasts for a long time. its much more than sadness or low mood. people who experience depression may feel worthless or hopeless. they may feel unreasonable guilty. some people may experience depression as anger or irritability. it may be hard to concentrate or make decisions. most people lose interest in things that they used to enjoy and may isolate themselves from others. there are also physical signs of depression, such as problems with sleep, appetite and energy and unexplainable aches or pains. some may experience difficult thoughts about death or ending their life suicide. depression lasts longer than two weeks, doesnt usually go away on its own, and impacts your life. its a real illness, and it is very treatable. its important to seek help if youre concerned about depression.\\n   Score: 2.8315802\\n3. Response: there are many types of mental health professionals. the variety of providers and their services may be confusing. each have various levels of education, training, and may have different areas of expertise. finding the professional who best fits your needs may require some research.\\n   Score: 2.7135496\\nMetrics: {'hit_rate': 1, 'mrr': 1.0, 'ndcg': 0.9982383703201055, 'precision': 0.2, 'recall': 1, 'f1': 0.33333333333333337}\\n--------------------------------------------------------------------------------\\n\\nQuery: How do I know if I need to see a mental health professional?\\nMethod: semantic_search_question\\nGround Truth: If your beliefs, thoughts, feelings or behaviours have a significant impact on your ability to function in what might be considered a normal or ordinary way, it would be important to seek help.\\nTop 3 Results:\\n1. Response: the most important thing is to talk to someone you trust. this might be a friend, colleague, family member, or gp. in addition to talking to someone, it may be useful to find out more information about what you are experiencing. these things may help to get some perspective on what you are experiencing, and be the start of getting help.\\n   Score: 0.9160447\\n2. Response: symptoms of mental health disorders vary depending on the type and severity of the condition. the following is a list of general symptoms that may suggest a mental health disorder, particularly when multiple symptoms are expressed at once. in adults confused thinking longlasting sadness or irritability extreme highs and lows in mood excessive fear, worrying, or anxiety social withdrawal dramatic changes in eating or sleeping habits strong feelings of anger delusions or hallucinations seeing or hearing things that are not really there increasing inability to cope with daily problems and activities thoughts of suicide denial of obvious problems many unexplained physical problems abuse of drugs andor alcohol in older children and preteens abuse of drugs andor alcohol inability to cope with daily problems and activities changes in sleeping andor eating habits excessive complaints of physical problems defying authority, skipping school, stealing, or damaging property intense fear of gaining weight longlasting negative mood, often along with poor appetite and thoughts of death frequent outbursts of anger in younger children changes in school performance poor grades despite strong efforts excessive worrying or anxiety hyperactivity persistent nightmares persistent disobedience andor aggressive behavior frequent temper tantrums\\n   Score: 0.8951576\\n3. Response: oh thats really great. id be willing to answer anything that i know about it.\\n   Score: 0.88683295\\nMetrics: {'hit_rate': 0, 'mrr': 0, 'ndcg': 0.9900698254389015, 'precision': 0, 'recall': 0, 'f1': 0}\\n--------------------------------------------------------------------------------\\n\\nQuery: How do I know if I need to see a mental health professional?\\nMethod: semantic_search_text\\nGround Truth: If your beliefs, thoughts, feelings or behaviours have a significant impact on your ability to function in what might be considered a normal or ordinary way, it would be important to seek help.\\nTop 3 Results:\\n1. Response: symptoms of mental health disorders vary depending on the type and severity of the condition. the following is a list of general symptoms that may suggest a mental health disorder, particularly when multiple symptoms are expressed at once. in adults confused thinking longlasting sadness or irritability extreme highs and lows in mood excessive fear, worrying, or anxiety social withdrawal dramatic changes in eating or sleeping habits strong feelings of anger delusions or hallucinations seeing or hearing things that are not really there increasing inability to cope with daily problems and activities thoughts of suicide denial of obvious problems many unexplained physical problems abuse of drugs andor alcohol in older children and preteens abuse of drugs andor alcohol inability to cope with daily problems and activities changes in sleeping andor eating habits excessive complaints of physical problems defying authority, skipping school, stealing, or damaging property intense fear of gaining weight longlasting negative mood, often along with poor appetite and thoughts of death frequent outbursts of anger in younger children changes in school performance poor grades despite strong efforts excessive worrying or anxiety hyperactivity persistent nightmares persistent disobedience andor aggressive behavior frequent temper tantrums\\n   Score: 0.8340008\\n2. Response: mental illnesses are health conditions that disrupt a persons thoughts, emotions, relationships, and daily functioning. they are associated with distress and diminished capacity to engage in the ordinary activities of daily life. mental illnesses fall along a continuum of severity some are fairly mild and only interfere with some aspects of life, such as certain phobias. on the other end of the spectrum lie serious mental illnesses, which result in major functional impairment and interference with daily life. these include such disorders as major depression, schizophrenia, and bipolar disorder, and may require that the person receives care in a hospital. it is important to know that mental illnesses are medical conditions that have nothing to do with a persons character, intelligence, or willpower. just as diabetes is a disorder of the pancreas, mental illness is a medical condition due to the brains biology. similarly to how one would treat diabetes with medication and insulin, mental illness is treatable with a combination of medication and social support. these treatments are highly effective, with 7090 percent of individuals receiving treatment experiencing a reduction in symptoms and an improved quality of life. with the proper treatment, it is very possible for a person with mental illness to be independent and successful.\\n   Score: 0.8245158\\n3. Response: oh thats really great. id be willing to answer anything that i know about it.\\n   Score: 0.8130827\\nMetrics: {'hit_rate': 0, 'mrr': 0, 'ndcg': 0.7709188470752696, 'precision': 0, 'recall': 0, 'f1': 0}\\n--------------------------------------------------------------------------------\\n\\nQuery: How do I know if I need to see a mental health professional?\\nMethod: semantic_search_combined\\nGround Truth: If your beliefs, thoughts, feelings or behaviours have a significant impact on your ability to function in what might be considered a normal or ordinary way, it would be important to seek help.\\nTop 3 Results:\\n1. Response: the most important thing is to talk to someone you trust. this might be a friend, colleague, family member, or gp. in addition to talking to someone, it may be useful to find out more information about what you are experiencing. these things may help to get some perspective on what you are experiencing, and be the start of getting help.\\n   Score: 0.8921716\\n2. Response: feeling comfortable with the professional you or your child is working with is critical to the success of the treatment. finding the professional who best fits your needs may require research. start by searching for providers in your area.\\n   Score: 0.8551762\\n3. Response: feeling comfortable with the professional you or your child is working with is critical to the success of your treatment. finding the professional who best fits your needs may require some research.\\n   Score: 0.85508275\\nMetrics: {'hit_rate': 0, 'mrr': 0, 'ndcg': 0.9833310216368873, 'precision': 0, 'recall': 0, 'f1': 0}\\n--------------------------------------------------------------------------------\\n\\nQuery: How do I know if I need to see a mental health professional?\\nMethod: text_search\\nGround Truth: If your beliefs, thoughts, feelings or behaviours have a significant impact on your ability to function in what might be considered a normal or ordinary way, it would be important to seek help.\\nTop 3 Results:\\n1. Response: if your beliefs , thoughts , feelings or behaviours have a significant impact on your ability to function in what might be considered a normal or ordinary way, it would be important to seek help.\\n   Score: 30.45359\\n2. Response: feeling comfortable with the professional you or your child is working with is critical to the success of the treatment. finding the professional who best fits your needs may require research. start by searching for providers in your area.\\n   Score: 30.262413\\n3. Response: feeling comfortable with the professional you or your child is working with is critical to the success of your treatment. finding the professional who best fits your needs may require some research.\\n   Score: 28.782827\\nMetrics: {'hit_rate': 1, 'mrr': 1.0, 'ndcg': 0.9942686613792066, 'precision': 0.2, 'recall': 1, 'f1': 0.33333333333333337}\\n--------------------------------------------------------------------------------\\n\\nQuery: How do I know if I need to see a mental health professional?\\nMethod: combined_search\\nGround Truth: If your beliefs, thoughts, feelings or behaviours have a significant impact on your ability to function in what might be considered a normal or ordinary way, it would be important to seek help.\\nTop 3 Results:\\n1. Response: if your beliefs , thoughts , feelings or behaviours have a significant impact on your ability to function in what might be considered a normal or ordinary way, it would be important to seek help.\\n   Score: 2.5714817\\n2. Response: feeling comfortable with the professional you or your child is working with is critical to the success of the treatment. finding the professional who best fits your needs may require research. start by searching for providers in your area.\\n   Score: 2.5458167\\n3. Response: the most important thing is to talk to someone you trust. this might be a friend, colleague, family member, or gp. in addition to talking to someone, it may be useful to find out more information about what you are experiencing. these things may help to get some perspective on what you are experiencing, and be the start of getting help.\\n   Score: 2.4382524\\nMetrics: {'hit_rate': 1, 'mrr': 1.0, 'ndcg': 0.9849099160179047, 'precision': 0.2, 'recall': 1, 'f1': 0.33333333333333337}\\n--------------------------------------------------------------------------------\\n\\nQuery: What should I know before starting mental health medication?\\nMethod: semantic_search_question\\nGround Truth: The best source of information regarding medications is the physician prescribing them. He or she should be able to answer questions such as:\\n1. What is the medication supposed to do?\\n2. When should it begin to take effect, and how will I know when it is effective?\\n3. How is the medication taken and for how long? What food, drinks, other medicines, and activities should be avoided while taking this medication?\\n4. What are the side effects and what should be done if they occur?\\n5. What do I do if a dose is missed?\\n6. Is there any written information available about this medication?\\n7. Are there other medications that might be appropriate?\\n8. If so, why do you prefer the one you have chosen?\\n9. How do you monitor medications and what symptoms indicate that they should be raised, lowered, or changed?\\n10. All medications should be taken as directed. Most medications for mental illnesses do not work when taken irregularly, and extra doses can cause severe, sometimes dangerous side effects. Many psychiatric medications begin to have a beneficial effect only after they have been taken for several weeks.\\nTop 3 Results:\\n1. Response: the best source of information regarding medications is the physician prescribing them. he or she should be able to answer questions such as 1. what is the medication supposed to do? 2. when should it begin to take effect, and how will i know when it is effective? 3. how is the medication taken and for how long? what food, drinks, other medicines, and activities should be avoided while taking this medication? 4. what are the side effects and what should be done if they occur? 5. what do i do if a dose is missed? 6. is there any written information available about this medication? 7. are there other medications that might be appropriate? 8. if so, why do you prefer the one you have chosen? 9. how do you monitor medications and what symptoms indicate that they should be raised, lowered, or changed? 10. all medications should be taken as directed. most medications for mental illnesses do not work when taken irregularly, and extra doses can cause severe, sometimes dangerous side effects. many psychiatric medications begin to have a beneficial effect only after they have been taken for several weeks.\\n   Score: 0.89756155\\n2. Response: mental health conditions are often treated with medication, therapy or a combination of the two. however, there are many different types of treatment available, including complementary alternative treatments, selfhelp plans, and peer support. treatments are very personal and should be discussed by the person with the mental health conditions and his or her team.\\n   Score: 0.8767271\\n3. Response: the most important thing is to talk to someone you trust. this might be a friend, colleague, family member, or gp. in addition to talking to someone, it may be useful to find out more information about what you are experiencing. these things may help to get some perspective on what you are experiencing, and be the start of getting help.\\n   Score: 0.8753979\\nMetrics: {'hit_rate': 1, 'mrr': 1.0, 'ndcg': 0.9968059198777551, 'precision': 0.2, 'recall': 1, 'f1': 0.33333333333333337}\\n--------------------------------------------------------------------------------\\n\\nQuery: What should I know before starting mental health medication?\\nMethod: semantic_search_text\\nGround Truth: The best source of information regarding medications is the physician prescribing them. He or she should be able to answer questions such as:\\n1. What is the medication supposed to do?\\n2. When should it begin to take effect, and how will I know when it is effective?\\n3. How is the medication taken and for how long? What food, drinks, other medicines, and activities should be avoided while taking this medication?\\n4. What are the side effects and what should be done if they occur?\\n5. What do I do if a dose is missed?\\n6. Is there any written information available about this medication?\\n7. Are there other medications that might be appropriate?\\n8. If so, why do you prefer the one you have chosen?\\n9. How do you monitor medications and what symptoms indicate that they should be raised, lowered, or changed?\\n10. All medications should be taken as directed. Most medications for mental illnesses do not work when taken irregularly, and extra doses can cause severe, sometimes dangerous side effects. Many psychiatric medications begin to have a beneficial effect only after they have been taken for several weeks.\\nTop 3 Results:\\n1. Response: oh thats really great. id be willing to answer anything that i know about it.\\n   Score: 0.8364146\\n2. Response: the best source of information regarding medications is the physician prescribing them. he or she should be able to answer questions such as 1. what is the medication supposed to do? 2. when should it begin to take effect, and how will i know when it is effective? 3. how is the medication taken and for how long? what food, drinks, other medicines, and activities should be avoided while taking this medication? 4. what are the side effects and what should be done if they occur? 5. what do i do if a dose is missed? 6. is there any written information available about this medication? 7. are there other medications that might be appropriate? 8. if so, why do you prefer the one you have chosen? 9. how do you monitor medications and what symptoms indicate that they should be raised, lowered, or changed? 10. all medications should be taken as directed. most medications for mental illnesses do not work when taken irregularly, and extra doses can cause severe, sometimes dangerous side effects. many psychiatric medications begin to have a beneficial effect only after they have been taken for several weeks.\\n   Score: 0.83317184\\n3. Response: we can all suffer from mental health challenges, but developing our wellbeing, resilience, and seeking help early can help prevent challenges becoming serious.\\n   Score: 0.82988834\\nMetrics: {'hit_rate': 1, 'mrr': 0.5, 'ndcg': 0.6831609640827225, 'precision': 0.2, 'recall': 1, 'f1': 0.33333333333333337}\\n--------------------------------------------------------------------------------\\n\\nQuery: What should I know before starting mental health medication?\\nMethod: semantic_search_combined\\nGround Truth: The best source of information regarding medications is the physician prescribing them. He or she should be able to answer questions such as:\\n1. What is the medication supposed to do?\\n2. When should it begin to take effect, and how will I know when it is effective?\\n3. How is the medication taken and for how long? What food, drinks, other medicines, and activities should be avoided while taking this medication?\\n4. What are the side effects and what should be done if they occur?\\n5. What do I do if a dose is missed?\\n6. Is there any written information available about this medication?\\n7. Are there other medications that might be appropriate?\\n8. If so, why do you prefer the one you have chosen?\\n9. How do you monitor medications and what symptoms indicate that they should be raised, lowered, or changed?\\n10. All medications should be taken as directed. Most medications for mental illnesses do not work when taken irregularly, and extra doses can cause severe, sometimes dangerous side effects. Many psychiatric medications begin to have a beneficial effect only after they have been taken for several weeks.\\nTop 3 Results:\\n1. Response: the best source of information regarding medications is the physician prescribing them. he or she should be able to answer questions such as 1. what is the medication supposed to do? 2. when should it begin to take effect, and how will i know when it is effective? 3. how is the medication taken and for how long? what food, drinks, other medicines, and activities should be avoided while taking this medication? 4. what are the side effects and what should be done if they occur? 5. what do i do if a dose is missed? 6. is there any written information available about this medication? 7. are there other medications that might be appropriate? 8. if so, why do you prefer the one you have chosen? 9. how do you monitor medications and what symptoms indicate that they should be raised, lowered, or changed? 10. all medications should be taken as directed. most medications for mental illnesses do not work when taken irregularly, and extra doses can cause severe, sometimes dangerous side effects. many psychiatric medications begin to have a beneficial effect only after they have been taken for several weeks.\\n   Score: 0.8736634\\n2. Response: the most important thing is to talk to someone you trust. this might be a friend, colleague, family member, or gp. in addition to talking to someone, it may be useful to find out more information about what you are experiencing. these things may help to get some perspective on what you are experiencing, and be the start of getting help.\\n   Score: 0.8625753\\n3. Response: oh thats really great. id be willing to answer anything that i know about it.\\n   Score: 0.8448162\\nMetrics: {'hit_rate': 1, 'mrr': 1.0, 'ndcg': 0.9772202514386765, 'precision': 0.2, 'recall': 1, 'f1': 0.33333333333333337}\\n--------------------------------------------------------------------------------\\n\\nQuery: What should I know before starting mental health medication?\\nMethod: text_search\\nGround Truth: The best source of information regarding medications is the physician prescribing them. He or she should be able to answer questions such as:\\n1. What is the medication supposed to do?\\n2. When should it begin to take effect, and how will I know when it is effective?\\n3. How is the medication taken and for how long? What food, drinks, other medicines, and activities should be avoided while taking this medication?\\n4. What are the side effects and what should be done if they occur?\\n5. What do I do if a dose is missed?\\n6. Is there any written information available about this medication?\\n7. Are there other medications that might be appropriate?\\n8. If so, why do you prefer the one you have chosen?\\n9. How do you monitor medications and what symptoms indicate that they should be raised, lowered, or changed?\\n10. All medications should be taken as directed. Most medications for mental illnesses do not work when taken irregularly, and extra doses can cause severe, sometimes dangerous side effects. Many psychiatric medications begin to have a beneficial effect only after they have been taken for several weeks.\\nTop 3 Results:\\n1. Response: the best source of information regarding medications is the physician prescribing them. he or she should be able to answer questions such as 1. what is the medication supposed to do? 2. when should it begin to take effect, and how will i know when it is effective? 3. how is the medication taken and for how long? what food, drinks, other medicines, and activities should be avoided while taking this medication? 4. what are the side effects and what should be done if they occur? 5. what do i do if a dose is missed? 6. is there any written information available about this medication? 7. are there other medications that might be appropriate? 8. if so, why do you prefer the one you have chosen? 9. how do you monitor medications and what symptoms indicate that they should be raised, lowered, or changed? 10. all medications should be taken as directed. most medications for mental illnesses do not work when taken irregularly, and extra doses can cause severe, sometimes dangerous side effects. many psychiatric medications begin to have a beneficial effect only after they have been taken for several weeks.\\n   Score: 63.903214\\n2. Response: although pandora cannot substitute for professional advice, we encourage those with symptoms to talk to their friends and family members and seek the counsel of a mental health professional. the sooner the mental health condition is identified and treated, the sooner they can get on the path to recovery. if you know someone who is having problems, dont assume that the issue will resolve itself. let them know that you care about them, and that there are treatment options available that will help them heal. speak with a mental health professional or counselor if you think your friend or family member is experiencing the symptoms of a mental health condition. if the affected loved one knows that you support them, they will be more likely to seek out help.\\n   Score: 24.073654\\n3. Response: maintaining mental health is crucial to stabilizing constructive behaviors, emotions, and thoughts. focusing on mental health care can increase productivity, enhance our selfimage, and improve relationships.\\n   Score: 22.654781\\nMetrics: {'hit_rate': 1, 'mrr': 1.0, 'ndcg': 0.9966994234517352, 'precision': 0.2, 'recall': 1, 'f1': 0.33333333333333337}\\n--------------------------------------------------------------------------------\\n\\nQuery: What should I know before starting mental health medication?\\nMethod: combined_search\\nGround Truth: The best source of information regarding medications is the physician prescribing them. He or she should be able to answer questions such as:\\n1. What is the medication supposed to do?\\n2. When should it begin to take effect, and how will I know when it is effective?\\n3. How is the medication taken and for how long? What food, drinks, other medicines, and activities should be avoided while taking this medication?\\n4. What are the side effects and what should be done if they occur?\\n5. What do I do if a dose is missed?\\n6. Is there any written information available about this medication?\\n7. Are there other medications that might be appropriate?\\n8. If so, why do you prefer the one you have chosen?\\n9. How do you monitor medications and what symptoms indicate that they should be raised, lowered, or changed?\\n10. All medications should be taken as directed. Most medications for mental illnesses do not work when taken irregularly, and extra doses can cause severe, sometimes dangerous side effects. Many psychiatric medications begin to have a beneficial effect only after they have been taken for several weeks.\\nTop 3 Results:\\n1. Response: the best source of information regarding medications is the physician prescribing them. he or she should be able to answer questions such as 1. what is the medication supposed to do? 2. when should it begin to take effect, and how will i know when it is effective? 3. how is the medication taken and for how long? what food, drinks, other medicines, and activities should be avoided while taking this medication? 4. what are the side effects and what should be done if they occur? 5. what do i do if a dose is missed? 6. is there any written information available about this medication? 7. are there other medications that might be appropriate? 8. if so, why do you prefer the one you have chosen? 9. how do you monitor medications and what symptoms indicate that they should be raised, lowered, or changed? 10. all medications should be taken as directed. most medications for mental illnesses do not work when taken irregularly, and extra doses can cause severe, sometimes dangerous side effects. many psychiatric medications begin to have a beneficial effect only after they have been taken for several weeks.\\n   Score: 5.997531\\n2. Response: maintaining mental health is crucial to stabilizing constructive behaviors, emotions, and thoughts. focusing on mental health care can increase productivity, enhance our selfimage, and improve relationships.\\n   Score: 2.4928179\\n3. Response: although pandora cannot substitute for professional advice, we encourage those with symptoms to talk to their friends and family members and seek the counsel of a mental health professional. the sooner the mental health condition is identified and treated, the sooner they can get on the path to recovery. if you know someone who is having problems, dont assume that the issue will resolve itself. let them know that you care about them, and that there are treatment options available that will help them heal. speak with a mental health professional or counselor if you think your friend or family member is experiencing the symptoms of a mental health condition. if the affected loved one knows that you support them, they will be more likely to seek out help.\\n   Score: 2.087302\\nMetrics: {'hit_rate': 1, 'mrr': 1.0, 'ndcg': 0.9801769740287197, 'precision': 0.2, 'recall': 1, 'f1': 0.33333333333333337}\\n--------------------------------------------------------------------------------\\n\\nQuery: What are the early signs of mental health issues in adults?\\nMethod: semantic_search_question\\nGround Truth: Symptoms of mental health disorders vary depending on the type and severity of the condition. The following is a list of general symptoms that may suggest a mental health disorder, particularly when multiple symptoms are expressed at once.\\nIn adults:\\nConfused thinking\\nLong-lasting sadness or irritability\\nExtreme highs and lows in mood\\nExcessive fear, worrying, or anxiety\\nSocial withdrawal\\nDramatic changes in eating or sleeping habits\\nStrong feelings of anger\\nDelusions or hallucinations (seeing or hearing things that are not really there)\\nIncreasing inability to cope with daily problems and activities\\nThoughts of suicide\\nDenial of obvious problems\\nMany unexplained physical problems\\nAbuse of drugs and/or alcohol\\nTop 3 Results:\\n1. Response: symptoms of mental health disorders vary depending on the type and severity of the condition. the following is a list of general symptoms that may suggest a mental health disorder, particularly when multiple symptoms are expressed at once. in adults confused thinking longlasting sadness or irritability extreme highs and lows in mood excessive fear, worrying, or anxiety social withdrawal dramatic changes in eating or sleeping habits strong feelings of anger delusions or hallucinations seeing or hearing things that are not really there increasing inability to cope with daily problems and activities thoughts of suicide denial of obvious problems many unexplained physical problems abuse of drugs andor alcohol in older children and preteens abuse of drugs andor alcohol inability to cope with daily problems and activities changes in sleeping andor eating habits excessive complaints of physical problems defying authority, skipping school, stealing, or damaging property intense fear of gaining weight longlasting negative mood, often along with poor appetite and thoughts of death frequent outbursts of anger in younger children changes in school performance poor grades despite strong efforts excessive worrying or anxiety hyperactivity persistent nightmares persistent disobedience andor aggressive behavior frequent temper tantrums\\n   Score: 0.9474702\\n2. Response: challenges or problems with your mental health can arise from psychological, biological, and social, issues, as well as life events.\\n   Score: 0.8825948\\n3. Response: oh thats really great. id be willing to answer anything that i know about it.\\n   Score: 0.86925507\\nMetrics: {'hit_rate': 0, 'mrr': 0, 'ndcg': 0.9846261629173196, 'precision': 0, 'recall': 0, 'f1': 0}\\n--------------------------------------------------------------------------------\\n\\nQuery: What are the early signs of mental health issues in adults?\\nMethod: semantic_search_text\\nGround Truth: Symptoms of mental health disorders vary depending on the type and severity of the condition. The following is a list of general symptoms that may suggest a mental health disorder, particularly when multiple symptoms are expressed at once.\\nIn adults:\\nConfused thinking\\nLong-lasting sadness or irritability\\nExtreme highs and lows in mood\\nExcessive fear, worrying, or anxiety\\nSocial withdrawal\\nDramatic changes in eating or sleeping habits\\nStrong feelings of anger\\nDelusions or hallucinations (seeing or hearing things that are not really there)\\nIncreasing inability to cope with daily problems and activities\\nThoughts of suicide\\nDenial of obvious problems\\nMany unexplained physical problems\\nAbuse of drugs and/or alcohol\\nTop 3 Results:\\n1. Response: symptoms of mental health disorders vary depending on the type and severity of the condition. the following is a list of general symptoms that may suggest a mental health disorder, particularly when multiple symptoms are expressed at once. in adults confused thinking longlasting sadness or irritability extreme highs and lows in mood excessive fear, worrying, or anxiety social withdrawal dramatic changes in eating or sleeping habits strong feelings of anger delusions or hallucinations seeing or hearing things that are not really there increasing inability to cope with daily problems and activities thoughts of suicide denial of obvious problems many unexplained physical problems abuse of drugs andor alcohol in older children and preteens abuse of drugs andor alcohol inability to cope with daily problems and activities changes in sleeping andor eating habits excessive complaints of physical problems defying authority, skipping school, stealing, or damaging property intense fear of gaining weight longlasting negative mood, often along with poor appetite and thoughts of death frequent outbursts of anger in younger children changes in school performance poor grades despite strong efforts excessive worrying or anxiety hyperactivity persistent nightmares persistent disobedience andor aggressive behavior frequent temper tantrums\\n   Score: 0.88769984\\n2. Response: challenges or problems with your mental health can arise from psychological, biological, and social, issues, as well as life events.\\n   Score: 0.83183146\\n3. Response: oh thats really great. id be willing to answer anything that i know about it.\\n   Score: 0.8095312\\nMetrics: {'hit_rate': 0, 'mrr': 0, 'ndcg': 0.9880211576107829, 'precision': 0, 'recall': 0, 'f1': 0}\\n--------------------------------------------------------------------------------\\n\\nQuery: What are the early signs of mental health issues in adults?\\nMethod: semantic_search_combined\\nGround Truth: Symptoms of mental health disorders vary depending on the type and severity of the condition. The following is a list of general symptoms that may suggest a mental health disorder, particularly when multiple symptoms are expressed at once.\\nIn adults:\\nConfused thinking\\nLong-lasting sadness or irritability\\nExtreme highs and lows in mood\\nExcessive fear, worrying, or anxiety\\nSocial withdrawal\\nDramatic changes in eating or sleeping habits\\nStrong feelings of anger\\nDelusions or hallucinations (seeing or hearing things that are not really there)\\nIncreasing inability to cope with daily problems and activities\\nThoughts of suicide\\nDenial of obvious problems\\nMany unexplained physical problems\\nAbuse of drugs and/or alcohol\\nTop 3 Results:\\n1. Response: symptoms of mental health disorders vary depending on the type and severity of the condition. the following is a list of general symptoms that may suggest a mental health disorder, particularly when multiple symptoms are expressed at once. in adults confused thinking longlasting sadness or irritability extreme highs and lows in mood excessive fear, worrying, or anxiety social withdrawal dramatic changes in eating or sleeping habits strong feelings of anger delusions or hallucinations seeing or hearing things that are not really there increasing inability to cope with daily problems and activities thoughts of suicide denial of obvious problems many unexplained physical problems abuse of drugs andor alcohol in older children and preteens abuse of drugs andor alcohol inability to cope with daily problems and activities changes in sleeping andor eating habits excessive complaints of physical problems defying authority, skipping school, stealing, or damaging property intense fear of gaining weight longlasting negative mood, often along with poor appetite and thoughts of death frequent outbursts of anger in younger children changes in school performance poor grades despite strong efforts excessive worrying or anxiety hyperactivity persistent nightmares persistent disobedience andor aggressive behavior frequent temper tantrums\\n   Score: 0.9153054\\n2. Response: challenges or problems with your mental health can arise from psychological, biological, and social, issues, as well as life events.\\n   Score: 0.8460624\\n3. Response: oh thats really great. id be willing to answer anything that i know about it.\\n   Score: 0.8413689\\nMetrics: {'hit_rate': 0, 'mrr': 0, 'ndcg': 0.9657915948927206, 'precision': 0, 'recall': 0, 'f1': 0}\\n--------------------------------------------------------------------------------\\n\\nQuery: What are the early signs of mental health issues in adults?\\nMethod: text_search\\nGround Truth: Symptoms of mental health disorders vary depending on the type and severity of the condition. The following is a list of general symptoms that may suggest a mental health disorder, particularly when multiple symptoms are expressed at once.\\nIn adults:\\nConfused thinking\\nLong-lasting sadness or irritability\\nExtreme highs and lows in mood\\nExcessive fear, worrying, or anxiety\\nSocial withdrawal\\nDramatic changes in eating or sleeping habits\\nStrong feelings of anger\\nDelusions or hallucinations (seeing or hearing things that are not really there)\\nIncreasing inability to cope with daily problems and activities\\nThoughts of suicide\\nDenial of obvious problems\\nMany unexplained physical problems\\nAbuse of drugs and/or alcohol\\nTop 3 Results:\\n1. Response: symptoms of mental health disorders vary depending on the type and severity of the condition. the following is a list of general symptoms that may suggest a mental health disorder, particularly when multiple symptoms are expressed at once. in adults confused thinking longlasting sadness or irritability extreme highs and lows in mood excessive fear, worrying, or anxiety social withdrawal dramatic changes in eating or sleeping habits strong feelings of anger delusions or hallucinations seeing or hearing things that are not really there increasing inability to cope with daily problems and activities thoughts of suicide denial of obvious problems many unexplained physical problems abuse of drugs andor alcohol in older children and preteens abuse of drugs andor alcohol inability to cope with daily problems and activities changes in sleeping andor eating habits excessive complaints of physical problems defying authority, skipping school, stealing, or damaging property intense fear of gaining weight longlasting negative mood, often along with poor appetite and thoughts of death frequent outbursts of anger in younger children changes in school performance poor grades despite strong efforts excessive worrying or anxiety hyperactivity persistent nightmares persistent disobedience andor aggressive behavior frequent temper tantrums\\n   Score: 25.017475\\n2. Response: maintaining mental health is crucial to stabilizing constructive behaviors, emotions, and thoughts. focusing on mental health care can increase productivity, enhance our selfimage, and improve relationships.\\n   Score: 22.654781\\n3. Response: challenges or problems with your mental health can arise from psychological, biological, and social, issues, as well as life events.\\n   Score: 21.219643\\nMetrics: {'hit_rate': 0, 'mrr': 0, 'ndcg': 0.9949205657709165, 'precision': 0, 'recall': 0, 'f1': 0}\\n--------------------------------------------------------------------------------\\n\\nQuery: What are the early signs of mental health issues in adults?\\nMethod: combined_search\\nGround Truth: Symptoms of mental health disorders vary depending on the type and severity of the condition. The following is a list of general symptoms that may suggest a mental health disorder, particularly when multiple symptoms are expressed at once.\\nIn adults:\\nConfused thinking\\nLong-lasting sadness or irritability\\nExtreme highs and lows in mood\\nExcessive fear, worrying, or anxiety\\nSocial withdrawal\\nDramatic changes in eating or sleeping habits\\nStrong feelings of anger\\nDelusions or hallucinations (seeing or hearing things that are not really there)\\nIncreasing inability to cope with daily problems and activities\\nThoughts of suicide\\nDenial of obvious problems\\nMany unexplained physical problems\\nAbuse of drugs and/or alcohol\\nTop 3 Results:\\n1. Response: symptoms of mental health disorders vary depending on the type and severity of the condition. the following is a list of general symptoms that may suggest a mental health disorder, particularly when multiple symptoms are expressed at once. in adults confused thinking longlasting sadness or irritability extreme highs and lows in mood excessive fear, worrying, or anxiety social withdrawal dramatic changes in eating or sleeping habits strong feelings of anger delusions or hallucinations seeing or hearing things that are not really there increasing inability to cope with daily problems and activities thoughts of suicide denial of obvious problems many unexplained physical problems abuse of drugs andor alcohol in older children and preteens abuse of drugs andor alcohol inability to cope with daily problems and activities changes in sleeping andor eating habits excessive complaints of physical problems defying authority, skipping school, stealing, or damaging property intense fear of gaining weight longlasting negative mood, often along with poor appetite and thoughts of death frequent outbursts of anger in younger children changes in school performance poor grades despite strong efforts excessive worrying or anxiety hyperactivity persistent nightmares persistent disobedience andor aggressive behavior frequent temper tantrums\\n   Score: 2.712666\\n2. Response: maintaining mental health is crucial to stabilizing constructive behaviors, emotions, and thoughts. focusing on mental health care can increase productivity, enhance our selfimage, and improve relationships.\\n   Score: 2.4767203\\n3. Response: challenges or problems with your mental health can arise from psychological, biological, and social, issues, as well as life events.\\n   Score: 2.37442\\nMetrics: {'hit_rate': 0, 'mrr': 0, 'ndcg': 0.9857490126942181, 'precision': 0, 'recall': 0, 'f1': 0}\\n--------------------------------------------------------------------------------\""
      ]
     },
     "execution_count": 30,
     "metadata": {},
     "output_type": "execute_result"
    }
   ],
   "source": [
    "import traceback\n",
    "# Initialize logging with more detail\n",
    "logging.basicConfig(\n",
    "    level=logging.INFO,\n",
    "    format='%(asctime)s - %(levelname)s - %(message)s'\n",
    ")\n",
    "\n",
    "# Initialize evaluator\n",
    "evaluator = RAGEvaluator(es)\n",
    "\n",
    "# Test queries\n",
    "test_queries = {\n",
    "    \"How can I tell if I might have depression?\": \"For a diagnosis of depression, a person needs to have experienced low mood or loss of interest or pleasure in life for at least 2 weeks. Also, they will have experienced the following symptoms: feelings of sadness, hopelessness, or irritability nearly every day.\",\n",
    "    \"What's the main difference between feeling down and depression?\": \"Sadness is a normal reaction to a loss, disappointment, problems, or other difficult situations. Feeling sad from time to time is just another part of being human. In these cases, feelings of sadness go away quickly and you can go about your daily life. Other ways to talk about sadness might be feeling low, feeling down, or feeling blue. A person may say they are feeling depressed, but if it goes away on its own and doesn't impact life in a big way, it probably isn't the illness of depression. Depression is a mental illness that affects your mood, the way you understand yourself, and the way you understand and relate to things around you. It can also go by different names, such as clinical depression, major depressive disorder, or major depression. Depression can come up for no reason, and it lasts for a long time. It's much more than sadness or low mood. People who experience depression may feel worthless or hopeless. They may feel unreasonable guilty. Some people may experience depression as anger or irritability. It may be hard to concentrate or make decisions. Most people lose interest in things that they used to enjoy and may isolate themselves from others. There are also physical signs of depression, such as problems with sleep, appetite and energy and unexplainable aches or pains. Some may experience difficult thoughts about death or ending their life (suicide). Depression lasts longer than two weeks, doesn't usually go away on its own, and impacts your life. It's a real illness, and it is very treatable. It's important to seek help if you're concerned about depression.\",\n",
    "    \"What's the real difference between stress and anxiety?\": \"Stress and anxiety are often used interchangeably, and there is overlap between stress and anxiety. Stress is related to the same fight, flight, or freeze response as anxiety, and the physical sensations of anxiety and stress may be very similar. The cause of stress and anxiety are usually different, however. Stress focuses on mainly external pressures on us that we're finding hard to cope with. When we are stressed, we usually know what we're stressed about, and the symptoms of stress typically disappear after the stressful situation is over. Anxiety, on the other hand, isn't always as easy to figure out. Anxiety focuses on worries or fears about things that could threaten us, as well as anxiety about the anxiety itself. Stress and anxiety are both part of being human, but both can be problems if they last for a long time or have an impact on our well-being or daily life.\",\n",
    "    \"How do I know if I need to see a mental health professional?\": \"If your beliefs, thoughts, feelings or behaviours have a significant impact on your ability to function in what might be considered a normal or ordinary way, it would be important to seek help.\",\n",
    "    \"What should I know before starting mental health medication?\": \"The best source of information regarding medications is the physician prescribing them. He or she should be able to answer questions such as:\\n1. What is the medication supposed to do?\\n2. When should it begin to take effect, and how will I know when it is effective?\\n3. How is the medication taken and for how long? What food, drinks, other medicines, and activities should be avoided while taking this medication?\\n4. What are the side effects and what should be done if they occur?\\n5. What do I do if a dose is missed?\\n6. Is there any written information available about this medication?\\n7. Are there other medications that might be appropriate?\\n8. If so, why do you prefer the one you have chosen?\\n9. How do you monitor medications and what symptoms indicate that they should be raised, lowered, or changed?\\n10. All medications should be taken as directed. Most medications for mental illnesses do not work when taken irregularly, and extra doses can cause severe, sometimes dangerous side effects. Many psychiatric medications begin to have a beneficial effect only after they have been taken for several weeks.\",\n",
    "    \"What are the early signs of mental health issues in adults?\": \"Symptoms of mental health disorders vary depending on the type and severity of the condition. The following is a list of general symptoms that may suggest a mental health disorder, particularly when multiple symptoms are expressed at once.\\nIn adults:\\nConfused thinking\\nLong-lasting sadness or irritability\\nExtreme highs and lows in mood\\nExcessive fear, worrying, or anxiety\\nSocial withdrawal\\nDramatic changes in eating or sleeping habits\\nStrong feelings of anger\\nDelusions or hallucinations (seeing or hearing things that are not really there)\\nIncreasing inability to cope with daily problems and activities\\nThoughts of suicide\\nDenial of obvious problems\\nMany unexplained physical problems\\nAbuse of drugs and/or alcohol\"\n",
    "}\n",
    "\n",
    "# Run evaluation with debug output\n",
    "results = evaluator.evaluate_methods(test_queries)\n",
    "\n",
    "# Generate detailed report\n",
    "evaluator.generate_report(\"rag_evaluation_report_detailed_4.27pm.txt\")"
   ]
  },
  {
   "cell_type": "code",
   "execution_count": null,
   "id": "fd4c89a3-628e-4828-8e06-8fbf652ff5d9",
   "metadata": {},
   "outputs": [],
   "source": []
  }
 ],
 "metadata": {
  "kernelspec": {
   "display_name": "Python 3 (ipykernel)",
   "language": "python",
   "name": "python3"
  },
  "language_info": {
   "codemirror_mode": {
    "name": "ipython",
    "version": 3
   },
   "file_extension": ".py",
   "mimetype": "text/x-python",
   "name": "python",
   "nbconvert_exporter": "python",
   "pygments_lexer": "ipython3",
   "version": "3.11.6"
  }
 },
 "nbformat": 4,
 "nbformat_minor": 5
}
